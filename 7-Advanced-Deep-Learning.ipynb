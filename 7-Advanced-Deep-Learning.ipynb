{
 "cells": [
  {
   "cell_type": "markdown",
   "metadata": {},
   "source": [
    "# 7. Deep Learning Basics: Time-Series Analysis and Event Message Prediction\n",
    "\n",
    "## Introduction\n",
    "\n",
    "Welcome to the seventh notebook in our series on leveraging AI for Kubernetes and containerized environments! This notebook explores **deep learning** concepts to analyze **time-series data** and predict Kubernetes event messages. Event messages—such as completed, failed, or killed events—are critical for understanding system behavior and making proactive adjustments in Kubernetes clusters.\n",
    "\n",
    "### Objectives\n",
    "\n",
    "By the end of this notebook, you will:\n",
    "1. Understand how time-series data helps predict Kubernetes event messages.\n",
    "2. Learn about **Long Short-Term Memory (LSTM)** networks and why they are ideal for sequential data.\n",
    "3. Build and train an LSTM model to classify different Kubernetes event messages.\n",
    "4. Evaluate the model's performance using intuitive visualizations and metrics.\n",
    "\n",
    "### Key Features\n",
    "\n",
    "This notebook emphasizes:\n",
    "- Practical relevance to Kubernetes operations.\n",
    "- Advanced deep learning techniques for time-series analysis.\n",
    "- Elegant storytelling with clear steps and actionable insights.\n",
    "\n",
    "### Why Deep Learning for Kubernetes Time-Series?\n",
    "\n",
    "Kubernetes metrics, like CPU utilization or network latency, exhibit sequential dependencies that deep learning models handle better than traditional methods. Here’s why:\n",
    "\n",
    "1. **Temporal Awareness**: Models like LSTMs use memory cells to learn patterns over time, capturing long-term trends and seasonal behaviors.\n",
    "2. **Nonlinear Flexibility**: Deep learning excels at modeling complex, nonlinear relationships in operational data.\n",
    "3. **Dynamic Adaptability**: LSTMs adapt well to time-varying metrics, making them ideal for Kubernetes workloads.\n",
    "\n",
    "### Traditional vs. Deep Learning Models\n",
    "\n",
    "| **Aspect**                | **Traditional Methods**               | **Deep Learning Models**            |\n",
    "|---------------------------|---------------------------------------|-------------------------------------|\n",
    "| **Feature Engineering**    | Manual creation needed               | Learns features automatically       |\n",
    "| **Sequential Awareness**   | Ignores time dependencies             | Captures temporal relationships     |\n",
    "| **Scalability**            | Limited for large datasets            | Handles high-dimensional data       |\n",
    "| **Adaptability**           | Works with linear models              | Adapts to dynamic, nonlinear data   |\n",
    "\n",
    "### Predict Event Messages\n",
    "\n",
    "In Kubernetes, **event messages** occur to indicate various actions, such as **completed**, **failed**, **killed**, or other significant system events. These messages are critical for:\n",
    "- Understanding the operational behavior of the cluster and applications.\n",
    "- Diagnosing issues and troubleshooting failures in real-time.\n",
    "- Monitoring and auditing system activity to ensure the cluster is running smoothly.\n",
    "\n",
    "Accurately predicting event messages allows:\n",
    "- **Proactive incident management**: Operators can predict and respond to events such as failures, kills, or errors before they impact the system.\n",
    "- **Enhanced reliability**: By predicting when specific event messages will occur, system performance can be maintained, and the likelihood of critical failures can be reduced.\n",
    "- **Cost efficiency**: Anticipating certain system actions like terminations or restarts can help optimize resource utilization.\n",
    "\n",
    "### Our Prediction Goal\n",
    "\n",
    "The primary objective is to build a model that:\n",
    "1. **Takes historical time-series data** (e.g., CPU/memory usage, latency, etc.).\n",
    "2. **Learns sequential patterns** leading up to specific event messages.\n",
    "3. **Classifies future time steps** into one of the event message categories (e.g., completed, failed, killed, etc.)."
   ]
  },
  {
   "cell_type": "markdown",
   "metadata": {},
   "source": [
    "## 1. Installing Required Libraries\n",
    "\n",
    "To begin, ensure the required deep learning libraries are installed. Run the following command:"
   ]
  },
  {
   "cell_type": "code",
   "execution_count": 43,
   "metadata": {},
   "outputs": [
    {
     "name": "stdout",
     "output_type": "stream",
     "text": [
      "Note: you may need to restart the kernel to use updated packages.\n"
     ]
    }
   ],
   "source": [
    "# Install necessary libraries\n",
    "%pip install pandas numpy matplotlib seaborn scikit-learn tensorflow keras ipywidgets --quiet"
   ]
  },
  {
   "cell_type": "markdown",
   "metadata": {},
   "source": [
    "## 2. Import Dependencies and Load Data\n",
    "\n",
    "After installing the required libraries, the next step is to import dependencies and load the Kubernetes dataset for analysis.\n",
    "\n",
    "### **Key Steps**:\n",
    "1. **Import Required Libraries**:\n",
    "   - Libraries like `pandas`, `numpy`, and `sklearn` are used for data manipulation and preprocessing.\n",
    "   - Visualization tools like `matplotlib` and `seaborn` help create clear and informative plots.\n",
    "   - These tools are essential for exploring and preparing the data for machine learning.\n",
    "\n",
    "2. **Load the Dataset**:\n",
    "   - Use the `preprocessed_kubernetes_data.csv` file, which contains metrics and event logs from a Kubernetes environment.\n",
    "   - The dataset is loaded using `pandas`:\n",
    "     - The `timestamp` column is parsed as a datetime index for time-series analysis.\n",
    "     - This allows for easy resampling, filtering, and visualization of temporal patterns.\n",
    "\n",
    "3. **Inspect the Dataset**:\n",
    "   - Display the first few rows using `df.head()` to understand the structure of the data and ensure it loaded correctly."
   ]
  },
  {
   "cell_type": "code",
   "execution_count": 44,
   "metadata": {},
   "outputs": [
    {
     "data": {
      "text/html": [
       "<div>\n",
       "<style scoped>\n",
       "    .dataframe tbody tr th:only-of-type {\n",
       "        vertical-align: middle;\n",
       "    }\n",
       "\n",
       "    .dataframe tbody tr th {\n",
       "        vertical-align: top;\n",
       "    }\n",
       "\n",
       "    .dataframe thead th {\n",
       "        text-align: right;\n",
       "    }\n",
       "</style>\n",
       "<table border=\"1\" class=\"dataframe\">\n",
       "  <thead>\n",
       "    <tr style=\"text-align: right;\">\n",
       "      <th></th>\n",
       "      <th>pod_name</th>\n",
       "      <th>cpu_allocation_efficiency</th>\n",
       "      <th>memory_allocation_efficiency</th>\n",
       "      <th>disk_io</th>\n",
       "      <th>network_latency</th>\n",
       "      <th>node_temperature</th>\n",
       "      <th>node_cpu_usage</th>\n",
       "      <th>node_memory_usage</th>\n",
       "      <th>scaling_event</th>\n",
       "      <th>pod_lifetime_seconds</th>\n",
       "      <th>...</th>\n",
       "      <th>namespace_kube-system</th>\n",
       "      <th>namespace_prod</th>\n",
       "      <th>event_type_Error</th>\n",
       "      <th>event_type_Normal</th>\n",
       "      <th>event_type_Warning</th>\n",
       "      <th>event_message_Completed</th>\n",
       "      <th>event_message_Failed</th>\n",
       "      <th>event_message_Killed</th>\n",
       "      <th>event_message_OOMKilled</th>\n",
       "      <th>event_message_Started</th>\n",
       "    </tr>\n",
       "    <tr>\n",
       "      <th>timestamp</th>\n",
       "      <th></th>\n",
       "      <th></th>\n",
       "      <th></th>\n",
       "      <th></th>\n",
       "      <th></th>\n",
       "      <th></th>\n",
       "      <th></th>\n",
       "      <th></th>\n",
       "      <th></th>\n",
       "      <th></th>\n",
       "      <th></th>\n",
       "      <th></th>\n",
       "      <th></th>\n",
       "      <th></th>\n",
       "      <th></th>\n",
       "      <th></th>\n",
       "      <th></th>\n",
       "      <th></th>\n",
       "      <th></th>\n",
       "      <th></th>\n",
       "      <th></th>\n",
       "    </tr>\n",
       "  </thead>\n",
       "  <tbody>\n",
       "    <tr>\n",
       "      <th>2023-01-01</th>\n",
       "      <td>pod_0</td>\n",
       "      <td>0.038162</td>\n",
       "      <td>0.949259</td>\n",
       "      <td>9.993579</td>\n",
       "      <td>13.722542</td>\n",
       "      <td>77.619073</td>\n",
       "      <td>93.177619</td>\n",
       "      <td>37.900532</td>\n",
       "      <td>0</td>\n",
       "      <td>119648</td>\n",
       "      <td>...</td>\n",
       "      <td>False</td>\n",
       "      <td>False</td>\n",
       "      <td>False</td>\n",
       "      <td>False</td>\n",
       "      <td>True</td>\n",
       "      <td>False</td>\n",
       "      <td>False</td>\n",
       "      <td>True</td>\n",
       "      <td>False</td>\n",
       "      <td>False</td>\n",
       "    </tr>\n",
       "    <tr>\n",
       "      <th>2023-01-01</th>\n",
       "      <td>pod_1</td>\n",
       "      <td>0.500763</td>\n",
       "      <td>0.048543</td>\n",
       "      <td>935.792442</td>\n",
       "      <td>55.493953</td>\n",
       "      <td>84.182245</td>\n",
       "      <td>61.442289</td>\n",
       "      <td>5.208161</td>\n",
       "      <td>1</td>\n",
       "      <td>144516</td>\n",
       "      <td>...</td>\n",
       "      <td>False</td>\n",
       "      <td>False</td>\n",
       "      <td>True</td>\n",
       "      <td>False</td>\n",
       "      <td>False</td>\n",
       "      <td>False</td>\n",
       "      <td>True</td>\n",
       "      <td>False</td>\n",
       "      <td>False</td>\n",
       "      <td>False</td>\n",
       "    </tr>\n",
       "    <tr>\n",
       "      <th>2023-01-01</th>\n",
       "      <td>pod_2</td>\n",
       "      <td>0.746726</td>\n",
       "      <td>0.447345</td>\n",
       "      <td>328.352359</td>\n",
       "      <td>173.910016</td>\n",
       "      <td>21.295244</td>\n",
       "      <td>55.819311</td>\n",
       "      <td>18.335802</td>\n",
       "      <td>1</td>\n",
       "      <td>68857</td>\n",
       "      <td>...</td>\n",
       "      <td>True</td>\n",
       "      <td>False</td>\n",
       "      <td>False</td>\n",
       "      <td>True</td>\n",
       "      <td>False</td>\n",
       "      <td>True</td>\n",
       "      <td>False</td>\n",
       "      <td>False</td>\n",
       "      <td>False</td>\n",
       "      <td>False</td>\n",
       "    </tr>\n",
       "    <tr>\n",
       "      <th>2023-01-01</th>\n",
       "      <td>pod_3</td>\n",
       "      <td>0.526692</td>\n",
       "      <td>0.870251</td>\n",
       "      <td>778.297708</td>\n",
       "      <td>67.395729</td>\n",
       "      <td>85.028829</td>\n",
       "      <td>78.968463</td>\n",
       "      <td>94.619689</td>\n",
       "      <td>1</td>\n",
       "      <td>72080</td>\n",
       "      <td>...</td>\n",
       "      <td>False</td>\n",
       "      <td>False</td>\n",
       "      <td>False</td>\n",
       "      <td>False</td>\n",
       "      <td>True</td>\n",
       "      <td>False</td>\n",
       "      <td>False</td>\n",
       "      <td>False</td>\n",
       "      <td>True</td>\n",
       "      <td>False</td>\n",
       "    </tr>\n",
       "    <tr>\n",
       "      <th>2023-01-01</th>\n",
       "      <td>pod_4</td>\n",
       "      <td>0.425342</td>\n",
       "      <td>0.885459</td>\n",
       "      <td>711.181295</td>\n",
       "      <td>91.724730</td>\n",
       "      <td>29.157695</td>\n",
       "      <td>52.718141</td>\n",
       "      <td>70.770594</td>\n",
       "      <td>0</td>\n",
       "      <td>123016</td>\n",
       "      <td>...</td>\n",
       "      <td>False</td>\n",
       "      <td>True</td>\n",
       "      <td>True</td>\n",
       "      <td>False</td>\n",
       "      <td>False</td>\n",
       "      <td>False</td>\n",
       "      <td>False</td>\n",
       "      <td>True</td>\n",
       "      <td>False</td>\n",
       "      <td>False</td>\n",
       "    </tr>\n",
       "  </tbody>\n",
       "</table>\n",
       "<p>5 rows × 26 columns</p>\n",
       "</div>"
      ],
      "text/plain": [
       "           pod_name  cpu_allocation_efficiency  memory_allocation_efficiency  \\\n",
       "timestamp                                                                      \n",
       "2023-01-01    pod_0                   0.038162                      0.949259   \n",
       "2023-01-01    pod_1                   0.500763                      0.048543   \n",
       "2023-01-01    pod_2                   0.746726                      0.447345   \n",
       "2023-01-01    pod_3                   0.526692                      0.870251   \n",
       "2023-01-01    pod_4                   0.425342                      0.885459   \n",
       "\n",
       "               disk_io  network_latency  node_temperature  node_cpu_usage  \\\n",
       "timestamp                                                                   \n",
       "2023-01-01    9.993579        13.722542         77.619073       93.177619   \n",
       "2023-01-01  935.792442        55.493953         84.182245       61.442289   \n",
       "2023-01-01  328.352359       173.910016         21.295244       55.819311   \n",
       "2023-01-01  778.297708        67.395729         85.028829       78.968463   \n",
       "2023-01-01  711.181295        91.724730         29.157695       52.718141   \n",
       "\n",
       "            node_memory_usage  scaling_event  pod_lifetime_seconds  ...  \\\n",
       "timestamp                                                           ...   \n",
       "2023-01-01          37.900532              0                119648  ...   \n",
       "2023-01-01           5.208161              1                144516  ...   \n",
       "2023-01-01          18.335802              1                 68857  ...   \n",
       "2023-01-01          94.619689              1                 72080  ...   \n",
       "2023-01-01          70.770594              0                123016  ...   \n",
       "\n",
       "            namespace_kube-system  namespace_prod  event_type_Error  \\\n",
       "timestamp                                                             \n",
       "2023-01-01                  False           False             False   \n",
       "2023-01-01                  False           False              True   \n",
       "2023-01-01                   True           False             False   \n",
       "2023-01-01                  False           False             False   \n",
       "2023-01-01                  False            True              True   \n",
       "\n",
       "            event_type_Normal  event_type_Warning  event_message_Completed  \\\n",
       "timestamp                                                                    \n",
       "2023-01-01              False                True                    False   \n",
       "2023-01-01              False               False                    False   \n",
       "2023-01-01               True               False                     True   \n",
       "2023-01-01              False                True                    False   \n",
       "2023-01-01              False               False                    False   \n",
       "\n",
       "            event_message_Failed  event_message_Killed  \\\n",
       "timestamp                                                \n",
       "2023-01-01                 False                  True   \n",
       "2023-01-01                  True                 False   \n",
       "2023-01-01                 False                 False   \n",
       "2023-01-01                 False                 False   \n",
       "2023-01-01                 False                  True   \n",
       "\n",
       "            event_message_OOMKilled  event_message_Started  \n",
       "timestamp                                                   \n",
       "2023-01-01                    False                  False  \n",
       "2023-01-01                    False                  False  \n",
       "2023-01-01                    False                  False  \n",
       "2023-01-01                     True                  False  \n",
       "2023-01-01                    False                  False  \n",
       "\n",
       "[5 rows x 26 columns]"
      ]
     },
     "execution_count": 44,
     "metadata": {},
     "output_type": "execute_result"
    }
   ],
   "source": [
    "# Required libraries\n",
    "import pandas as pd\n",
    "import numpy as np\n",
    "from sklearn.preprocessing import MinMaxScaler, LabelEncoder\n",
    "import matplotlib.pyplot as plt\n",
    "import seaborn as sns\n",
    "\n",
    "# Load dataset\n",
    "file_path = \"data/preprocessed_kubernetes_data.csv\"  # Update with the correct path\n",
    "df = pd.read_csv(file_path, parse_dates=[\"timestamp\"], index_col=\"timestamp\")\n",
    "\n",
    "# Display the first few rows\n",
    "df.head()"
   ]
  },
  {
   "cell_type": "markdown",
   "metadata": {},
   "source": [
    "## 3. Data Preprocessing: Transforming Raw Data into Model-Ready Format\n",
    "\n",
    "In this section, we transform the raw Kubernetes data into a clean, structured format suitable for machine learning models. High-quality preprocessing ensures better model performance and easier interpretation.\n",
    "\n",
    "### 3.1 Combining Event Message Columns\n",
    "\n",
    "The dataset contains multiple one-hot encoded columns representing event messages, such as:\n",
    "- `event_message_Completed`\n",
    "- `event_message_Failed`\n",
    "- `event_message_Killed`\n",
    "- ...and more.\n",
    "\n",
    "To simplify the analysis:\n",
    "1. **Identify the Most Relevant Event**: Use `.idxmax(axis=1)` to select the event column with the highest value for each row.\n",
    "2. **Rename Values for Clarity**: Remove the `event_message_` prefix to create cleaner labels.\n",
    "3. **Drop Redundant Columns**: Remove the original one-hot encoded event message columns.\n"
   ]
  },
  {
   "cell_type": "code",
   "execution_count": 45,
   "metadata": {},
   "outputs": [
    {
     "data": {
      "text/plain": [
       "<Figure size 1200x600 with 0 Axes>"
      ]
     },
     "metadata": {},
     "output_type": "display_data"
    },
    {
     "data": {
      "image/png": "[encoded data removed]",
      "text/plain": [
       "<Figure size 640x480 with 1 Axes>"
      ]
     },
     "metadata": {},
     "output_type": "display_data"
    }
   ],
   "source": [
    "# Combine event_message_* columns into a single column\n",
    "event_message_columns = [\n",
    "    \"event_message_Completed\",\n",
    "    \"event_message_Failed\",\n",
    "    \"event_message_Killed\",\n",
    "    \"event_message_OOMKilled\",\n",
    "    \"event_message_Started\",\n",
    "    \"event_type_Error\",\n",
    "    \"event_type_Normal\",\n",
    "    \"event_type_Warning\",\n",
    "]\n",
    "\n",
    "# Resample by hour and sum the one-hot event message columns\n",
    "event_messages_over_time = df[event_message_columns].resample(\"h\").sum()\n",
    "\n",
    "# Plotting the event message counts over time\n",
    "plt.figure(figsize=(12, 6))\n",
    "event_messages_over_time.plot(\n",
    "    kind=\"line\", marker=\"o\", linestyle=\"-\", cmap=\"tab10\"\n",
    ")  # Use a color map for multiple event messages\n",
    "plt.title(\"Event Messages Over Time\")\n",
    "plt.xlabel(\"Time\")\n",
    "plt.ylabel(\"Number of Event Messages\")\n",
    "plt.grid(alpha=0.3)\n",
    "plt.tight_layout()\n",
    "plt.show()"
   ]
  },
  {
   "cell_type": "code",
   "execution_count": 46,
   "metadata": {},
   "outputs": [
    {
     "data": {
      "image/png": "[encoded data removed]",
      "text/plain": [
       "<Figure size 600x600 with 1 Axes>"
      ]
     },
     "metadata": {},
     "output_type": "display_data"
    }
   ],
   "source": [
    "# Create the 'event_message' column based on the one-hot encoded columns\n",
    "df[\"event_message\"] = df[event_message_columns].idxmax(axis=1)\n",
    "df[\"event_message\"] = df[\"event_message\"].str.replace(\"event_message_\", \"\")\n",
    "\n",
    "# Count the occurrences of each event message\n",
    "event_message_counts = df[\"event_message\"].value_counts()\n",
    "\n",
    "# Plotting the bar chart of event messages\n",
    "plt.figure(figsize=(6, 6))\n",
    "sns.barplot(\n",
    "    x=event_message_counts.index,\n",
    "    y=event_message_counts.values,\n",
    "    edgecolor=\"black\",\n",
    ")\n",
    "plt.title(\"Event Message Distribution\")\n",
    "plt.xlabel(\"Event Message\")\n",
    "plt.ylabel(\"Count\")\n",
    "plt.xticks(rotation=45, ha=\"right\")\n",
    "plt.tight_layout()\n",
    "plt.show()"
   ]
  },
  {
   "cell_type": "code",
   "execution_count": 47,
   "metadata": {},
   "outputs": [],
   "source": [
    "# Combine one-hot encoded columns into a single column\n",
    "df[\"event_message\"] = df[event_message_columns].idxmax(axis=1)\n",
    "df[\"event_message\"] = df[\"event_message\"].str.replace(\"event_message_\", \"\")\n",
    "df.drop(columns=event_message_columns, inplace=True)"
   ]
  },
  {
   "cell_type": "markdown",
   "metadata": {},
   "source": [
    "### 3.2 Encoding Categorical Data\n",
    "\n",
    "Machine learning models require numeric inputs, so the `event_message` column is converted to numerical labels using `LabelEncoder`. This assigns an integer to each unique event type, e.g.:\n",
    "- `Completed` → 0\n",
    "- `Failed` → 1\n",
    "- `Killed` → 2"
   ]
  },
  {
   "cell_type": "code",
   "execution_count": 48,
   "metadata": {},
   "outputs": [],
   "source": [
    "# Encode categorical target column\n",
    "label_encoder = LabelEncoder()\n",
    "df[\"event_message_encoded\"] = label_encoder.fit_transform(df[\"event_message\"])"
   ]
  },
  {
   "cell_type": "markdown",
   "metadata": {},
   "source": [
    "### 3.3 Normalizing Numerical Features\n",
    "\n",
    "Numerical features, such as CPU usage and memory allocation, vary widely in scale. To ensure fair contribution to the model:\n",
    "- Use `MinMaxScaler` to normalize features like `cpu_allocation_efficiency`, `memory_allocation_efficiency`, and `network_latency` to a [0, 1] range."
   ]
  },
  {
   "cell_type": "code",
   "execution_count": 49,
   "metadata": {},
   "outputs": [],
   "source": [
    "# Normalize numerical features\n",
    "numerical_features = [\n",
    "    \"cpu_allocation_efficiency\",\n",
    "    \"memory_allocation_efficiency\",\n",
    "    \"disk_io\",\n",
    "    \"network_latency\",\n",
    "    \"node_temperature\",\n",
    "    \"node_cpu_usage\",\n",
    "    \"node_memory_usage\",\n",
    "]\n",
    "scaler = MinMaxScaler()\n",
    "df[numerical_features] = scaler.fit_transform(df[numerical_features])"
   ]
  },
  {
   "cell_type": "markdown",
   "metadata": {},
   "source": [
    "### 3.4 Encoding Boolean Columns\n",
    "\n",
    "Columns like `namespace_default` and `namespace_prod` are boolean indicators. Convert `True/False` values to `1/0` for model compatibility."
   ]
  },
  {
   "cell_type": "code",
   "execution_count": 50,
   "metadata": {},
   "outputs": [],
   "source": [
    "# Convert boolean columns to integers\n",
    "boolean_columns = [\n",
    "    \"namespace_default\",\n",
    "    \"namespace_dev\",\n",
    "    \"namespace_kube-system\",\n",
    "    \"namespace_prod\",\n",
    "]\n",
    "df[boolean_columns] = df[boolean_columns].astype(int)"
   ]
  },
  {
   "cell_type": "markdown",
   "metadata": {},
   "source": [
    "### 3.5 Feature Engineering: Capturing Temporal Patterns\n",
    "\n",
    "Time-series data often follows daily or weekly cycles. To help the model recognize these patterns:\n",
    "1. **Add Cyclic Features**:\n",
    "   - Encode `hour` and `day_of_week` using sine (`sin`) and cosine (`cos`) transformations to represent cyclical time.\n",
    "2. **Drop Original Temporal Columns**:\n",
    "   - Remove `hour` and `day_of_week` to avoid redundancy."
   ]
  },
  {
   "cell_type": "code",
   "execution_count": 51,
   "metadata": {},
   "outputs": [],
   "source": [
    "# Feature engineering: Add cyclic features for temporal columns\n",
    "df[\"hour_sin\"] = np.sin(2 * np.pi * df[\"hour\"] / 24)\n",
    "df[\"hour_cos\"] = np.cos(2 * np.pi * df[\"hour\"] / 24)\n",
    "df[\"day_sin\"] = np.sin(2 * np.pi * df[\"day_of_week\"] / 7)\n",
    "df[\"day_cos\"] = np.cos(2 * np.pi * df[\"day_of_week\"] / 7)\n",
    "df.drop(columns=[\"hour\", \"day_of_week\"], inplace=True)"
   ]
  },
  {
   "cell_type": "markdown",
   "metadata": {},
   "source": [
    "### 3.6 Final Cleanup\n",
    "\n",
    "To prepare the dataset for model training:\n",
    "- Remove non-essential columns, such as:\n",
    "  - `pod_name`: Identifier not relevant for predictions.\n",
    "  - `event_message`: Already encoded as `event_message_encoded`.\n",
    "- The cleaned dataset (`df_cleaned`) is now ready for sequence generation."
   ]
  },
  {
   "cell_type": "code",
   "execution_count": 52,
   "metadata": {},
   "outputs": [],
   "source": [
    "# Drop unnecessary columns\n",
    "columns_to_drop = [\"pod_name\", \"event_message\"]\n",
    "df_cleaned = df.drop(columns=columns_to_drop)"
   ]
  },
  {
   "cell_type": "code",
   "execution_count": 53,
   "metadata": {},
   "outputs": [
    {
     "data": {
      "text/html": [
       "<div>\n",
       "<style scoped>\n",
       "    .dataframe tbody tr th:only-of-type {\n",
       "        vertical-align: middle;\n",
       "    }\n",
       "\n",
       "    .dataframe tbody tr th {\n",
       "        vertical-align: top;\n",
       "    }\n",
       "\n",
       "    .dataframe thead th {\n",
       "        text-align: right;\n",
       "    }\n",
       "</style>\n",
       "<table border=\"1\" class=\"dataframe\">\n",
       "  <thead>\n",
       "    <tr style=\"text-align: right;\">\n",
       "      <th></th>\n",
       "      <th>cpu_allocation_efficiency</th>\n",
       "      <th>memory_allocation_efficiency</th>\n",
       "      <th>disk_io</th>\n",
       "      <th>network_latency</th>\n",
       "      <th>node_temperature</th>\n",
       "      <th>node_cpu_usage</th>\n",
       "      <th>node_memory_usage</th>\n",
       "      <th>scaling_event</th>\n",
       "      <th>pod_lifetime_seconds</th>\n",
       "      <th>resource_efficiency</th>\n",
       "      <th>io_latency_ratio</th>\n",
       "      <th>namespace_default</th>\n",
       "      <th>namespace_dev</th>\n",
       "      <th>namespace_kube-system</th>\n",
       "      <th>namespace_prod</th>\n",
       "      <th>event_message_encoded</th>\n",
       "      <th>hour_sin</th>\n",
       "      <th>hour_cos</th>\n",
       "      <th>day_sin</th>\n",
       "      <th>day_cos</th>\n",
       "    </tr>\n",
       "    <tr>\n",
       "      <th>timestamp</th>\n",
       "      <th></th>\n",
       "      <th></th>\n",
       "      <th></th>\n",
       "      <th></th>\n",
       "      <th></th>\n",
       "      <th></th>\n",
       "      <th></th>\n",
       "      <th></th>\n",
       "      <th></th>\n",
       "      <th></th>\n",
       "      <th></th>\n",
       "      <th></th>\n",
       "      <th></th>\n",
       "      <th></th>\n",
       "      <th></th>\n",
       "      <th></th>\n",
       "      <th></th>\n",
       "      <th></th>\n",
       "      <th></th>\n",
       "      <th></th>\n",
       "    </tr>\n",
       "  </thead>\n",
       "  <tbody>\n",
       "    <tr>\n",
       "      <th>2023-01-01</th>\n",
       "      <td>0.038005</td>\n",
       "      <td>0.949293</td>\n",
       "      <td>0.009904</td>\n",
       "      <td>0.068610</td>\n",
       "      <td>0.720406</td>\n",
       "      <td>0.931793</td>\n",
       "      <td>0.378946</td>\n",
       "      <td>0</td>\n",
       "      <td>119648</td>\n",
       "      <td>0.493711</td>\n",
       "      <td>0.678794</td>\n",
       "      <td>0</td>\n",
       "      <td>1</td>\n",
       "      <td>0</td>\n",
       "      <td>0</td>\n",
       "      <td>2</td>\n",
       "      <td>0.0</td>\n",
       "      <td>1.0</td>\n",
       "      <td>-0.781831</td>\n",
       "      <td>0.62349</td>\n",
       "    </tr>\n",
       "    <tr>\n",
       "      <th>2023-01-01</th>\n",
       "      <td>0.500702</td>\n",
       "      <td>0.048471</td>\n",
       "      <td>0.935862</td>\n",
       "      <td>0.277469</td>\n",
       "      <td>0.802465</td>\n",
       "      <td>0.614357</td>\n",
       "      <td>0.051991</td>\n",
       "      <td>1</td>\n",
       "      <td>144516</td>\n",
       "      <td>0.274653</td>\n",
       "      <td>16.564471</td>\n",
       "      <td>1</td>\n",
       "      <td>0</td>\n",
       "      <td>0</td>\n",
       "      <td>0</td>\n",
       "      <td>1</td>\n",
       "      <td>0.0</td>\n",
       "      <td>1.0</td>\n",
       "      <td>-0.781831</td>\n",
       "      <td>0.62349</td>\n",
       "    </tr>\n",
       "    <tr>\n",
       "      <th>2023-01-01</th>\n",
       "      <td>0.746716</td>\n",
       "      <td>0.447320</td>\n",
       "      <td>0.328318</td>\n",
       "      <td>0.869555</td>\n",
       "      <td>0.016188</td>\n",
       "      <td>0.558113</td>\n",
       "      <td>0.183280</td>\n",
       "      <td>1</td>\n",
       "      <td>68857</td>\n",
       "      <td>0.597035</td>\n",
       "      <td>1.877264</td>\n",
       "      <td>0</td>\n",
       "      <td>0</td>\n",
       "      <td>1</td>\n",
       "      <td>0</td>\n",
       "      <td>0</td>\n",
       "      <td>0.0</td>\n",
       "      <td>1.0</td>\n",
       "      <td>-0.781831</td>\n",
       "      <td>0.62349</td>\n",
       "    </tr>\n",
       "    <tr>\n",
       "      <th>2023-01-01</th>\n",
       "      <td>0.526637</td>\n",
       "      <td>0.870275</td>\n",
       "      <td>0.778340</td>\n",
       "      <td>0.336979</td>\n",
       "      <td>0.813050</td>\n",
       "      <td>0.789665</td>\n",
       "      <td>0.946192</td>\n",
       "      <td>1</td>\n",
       "      <td>72080</td>\n",
       "      <td>0.698472</td>\n",
       "      <td>11.379332</td>\n",
       "      <td>1</td>\n",
       "      <td>0</td>\n",
       "      <td>0</td>\n",
       "      <td>0</td>\n",
       "      <td>3</td>\n",
       "      <td>0.0</td>\n",
       "      <td>1.0</td>\n",
       "      <td>-0.781831</td>\n",
       "      <td>0.62349</td>\n",
       "    </tr>\n",
       "    <tr>\n",
       "      <th>2023-01-01</th>\n",
       "      <td>0.425265</td>\n",
       "      <td>0.885485</td>\n",
       "      <td>0.711212</td>\n",
       "      <td>0.458625</td>\n",
       "      <td>0.114493</td>\n",
       "      <td>0.527093</td>\n",
       "      <td>0.707678</td>\n",
       "      <td>0</td>\n",
       "      <td>123016</td>\n",
       "      <td>0.655401</td>\n",
       "      <td>7.669813</td>\n",
       "      <td>0</td>\n",
       "      <td>0</td>\n",
       "      <td>0</td>\n",
       "      <td>1</td>\n",
       "      <td>2</td>\n",
       "      <td>0.0</td>\n",
       "      <td>1.0</td>\n",
       "      <td>-0.781831</td>\n",
       "      <td>0.62349</td>\n",
       "    </tr>\n",
       "  </tbody>\n",
       "</table>\n",
       "</div>"
      ],
      "text/plain": [
       "            cpu_allocation_efficiency  memory_allocation_efficiency   disk_io  \\\n",
       "timestamp                                                                       \n",
       "2023-01-01                   0.038005                      0.949293  0.009904   \n",
       "2023-01-01                   0.500702                      0.048471  0.935862   \n",
       "2023-01-01                   0.746716                      0.447320  0.328318   \n",
       "2023-01-01                   0.526637                      0.870275  0.778340   \n",
       "2023-01-01                   0.425265                      0.885485  0.711212   \n",
       "\n",
       "            network_latency  node_temperature  node_cpu_usage  \\\n",
       "timestamp                                                       \n",
       "2023-01-01         0.068610          0.720406        0.931793   \n",
       "2023-01-01         0.277469          0.802465        0.614357   \n",
       "2023-01-01         0.869555          0.016188        0.558113   \n",
       "2023-01-01         0.336979          0.813050        0.789665   \n",
       "2023-01-01         0.458625          0.114493        0.527093   \n",
       "\n",
       "            node_memory_usage  scaling_event  pod_lifetime_seconds  \\\n",
       "timestamp                                                            \n",
       "2023-01-01           0.378946              0                119648   \n",
       "2023-01-01           0.051991              1                144516   \n",
       "2023-01-01           0.183280              1                 68857   \n",
       "2023-01-01           0.946192              1                 72080   \n",
       "2023-01-01           0.707678              0                123016   \n",
       "\n",
       "            resource_efficiency  io_latency_ratio  namespace_default  \\\n",
       "timestamp                                                              \n",
       "2023-01-01             0.493711          0.678794                  0   \n",
       "2023-01-01             0.274653         16.564471                  1   \n",
       "2023-01-01             0.597035          1.877264                  0   \n",
       "2023-01-01             0.698472         11.379332                  1   \n",
       "2023-01-01             0.655401          7.669813                  0   \n",
       "\n",
       "            namespace_dev  namespace_kube-system  namespace_prod  \\\n",
       "timestamp                                                          \n",
       "2023-01-01              1                      0               0   \n",
       "2023-01-01              0                      0               0   \n",
       "2023-01-01              0                      1               0   \n",
       "2023-01-01              0                      0               0   \n",
       "2023-01-01              0                      0               1   \n",
       "\n",
       "            event_message_encoded  hour_sin  hour_cos   day_sin  day_cos  \n",
       "timestamp                                                                 \n",
       "2023-01-01                      2       0.0       1.0 -0.781831  0.62349  \n",
       "2023-01-01                      1       0.0       1.0 -0.781831  0.62349  \n",
       "2023-01-01                      0       0.0       1.0 -0.781831  0.62349  \n",
       "2023-01-01                      3       0.0       1.0 -0.781831  0.62349  \n",
       "2023-01-01                      2       0.0       1.0 -0.781831  0.62349  "
      ]
     },
     "execution_count": 53,
     "metadata": {},
     "output_type": "execute_result"
    }
   ],
   "source": [
    "# Verify cleaned data\n",
    "df_cleaned.head()"
   ]
  },
  {
   "cell_type": "markdown",
   "metadata": {},
   "source": [
    "## 4. Sequence Preparation for Time-Series Modeling\n",
    "\n",
    "In time-series modeling, the goal is to capture temporal dependencies in the data. This is achieved by transforming the dataset into sequences of fixed length (`sequence_length`). Each sequence contains a sliding window of historical observations, and the target is the next event message (`event_message_encoded`).\n",
    "\n",
    "### Key Steps:\n",
    "1. **Input Sequences**:\n",
    "   - Each sequence consists of `sequence_length` consecutive rows, excluding the target column.\n",
    "   - This allows the model to learn patterns over time.\n",
    "\n",
    "2. **Target Values**:\n",
    "   - The target for each sequence is the event message (`event_message_encoded`) immediately following the sequence.\n",
    "\n",
    "3. **Output**:\n",
    "   - `X`: A 3D array of shape `(number_of_sequences, sequence_length, number_of_features)`, containing the input features.\n",
    "   - `y`: A 1D array of corresponding target values."
   ]
  },
  {
   "cell_type": "code",
   "execution_count": 54,
   "metadata": {},
   "outputs": [
    {
     "name": "stdout",
     "output_type": "stream",
     "text": [
      "X shape: (14970, 30, 19), y shape: (14970,)\n"
     ]
    }
   ],
   "source": [
    "def create_sequences(data, target_column, sequence_length=30):\n",
    "    sequences, targets = [], []\n",
    "    for i in range(len(data) - sequence_length):\n",
    "        seq = data.iloc[i : i + sequence_length].drop(columns=[target_column]).values\n",
    "        target = data.iloc[i + sequence_length][target_column]\n",
    "        sequences.append(seq)\n",
    "        targets.append(target)\n",
    "    return np.array(sequences), np.array(targets)\n",
    "\n",
    "\n",
    "# Create sequences\n",
    "X, y = create_sequences(\n",
    "    df_cleaned, target_column=\"event_message_encoded\", sequence_length=30\n",
    ")\n",
    "\n",
    "# Check shapes\n",
    "print(f\"X shape: {X.shape}, y shape: {y.shape}\")"
   ]
  },
  {
   "cell_type": "markdown",
   "metadata": {},
   "source": [
    "### Result:\n",
    "- `X`: Temporal input features for training (e.g., shape `(14970, 30, 20)`).\n",
    "- `y`: Corresponding event message labels (`event_message_encoded`).\n",
    "\n",
    "This setup ensures the model learns from historical trends to predict future event messages effectively. "
   ]
  },
  {
   "cell_type": "markdown",
   "metadata": {},
   "source": [
    "## 5. Splitting Data into Training and Testing Sets\n",
    "\n",
    "To evaluate the model effectively, we split the dataset into **training** and **testing** sets. This ensures that the model is trained on one portion of the data and evaluated on another, unseen portion, to assess its real-world performance.\n",
    "\n",
    "### Key Steps:\n",
    "\n",
    "1. **Training Set**:\n",
    "   - Used by the model to learn patterns and relationships in the data.\n",
    "   \n",
    "2. **Testing Set**:\n",
    "   - Held back during training and used to evaluate the model’s performance on unseen data.\n",
    "\n",
    "3. **Parameters**:\n",
    "   - **`test_size=0.2`**: Allocates 20% of the data for testing.\n",
    "   - **`random_state=42`**: Ensures reproducibility of the split.\n",
    "   - **`shuffle=False`**: Keeps the time-series order intact, as shuffling would disrupt temporal dependencies.\n",
    "\n",
    "4. **One-Hot Encoding the Target Variable**:\n",
    "   - Since the task involves multi-class classification, the target variable (`y`) is one-hot encoded to represent each class as a binary vector. For example:\n",
    "     - Class `0`: `[1, 0, 0]`\n",
    "     - Class `1`: `[0, 1, 0]`\n",
    "     - Class `2`: `[0, 0, 1]`"
   ]
  },
  {
   "cell_type": "code",
   "execution_count": 55,
   "metadata": {},
   "outputs": [
    {
     "name": "stdout",
     "output_type": "stream",
     "text": [
      "Training set: X_train shape (11976, 30, 19), y_train shape (11976, 5)\n",
      "Testing set: X_test shape (2994, 30, 19), y_test shape (2994, 5)\n"
     ]
    }
   ],
   "source": [
    "from sklearn.model_selection import train_test_split\n",
    "from tensorflow.keras.utils import to_categorical\n",
    "\n",
    "# Model definition for multi-class classification\n",
    "num_classes = len(label_encoder.classes_)\n",
    "\n",
    "# Split data into training and testing sets\n",
    "X_train, X_test, y_train, y_test = train_test_split(\n",
    "    X, y, test_size=0.2, random_state=42, shuffle=False\n",
    ")\n",
    "\n",
    "# One-hot encode the target variable\n",
    "y_train_encoded = to_categorical(y_train, num_classes=num_classes)\n",
    "y_test_encoded = to_categorical(y_test, num_classes=num_classes)\n",
    "\n",
    "print(\n",
    "    f\"Training set: X_train shape {X_train.shape}, y_train shape {y_train_encoded.shape}\"\n",
    ")\n",
    "print(f\"Testing set: X_test shape {X_test.shape}, y_test shape {y_test_encoded.shape}\")"
   ]
  },
  {
   "cell_type": "markdown",
   "metadata": {},
   "source": [
    "## 6. Defining the LSTM Model\n",
    "\n",
    "In this step, we create a **Long Short-Term Memory (LSTM)** model to predict **event messages** in Kubernetes based on historical data. LSTMs are particularly well-suited for time-series tasks because they can learn both short-term and long-term dependencies in sequential data.\n",
    "\n",
    "### Model Architecture:\n",
    "\n",
    "1. **LSTM Layers**:\n",
    "   - The first LSTM layer has **64 units** and returns sequences, enabling the next layer to process temporal information.\n",
    "   - The second LSTM layer has **32 units** and outputs its results directly to the dense layers.\n",
    "\n",
    "2. **Dropout Layers**:\n",
    "   - Dropout layers prevent overfitting by randomly setting a fraction of input units to 0 during training.\n",
    "\n",
    "3. **Dense Layers**:\n",
    "   - A fully connected layer with **16 units** and **ReLU activation** processes features extracted by the LSTM layers.\n",
    "   - The final dense layer uses the **softmax activation function** to output a probability distribution across all possible event messages."
   ]
  },
  {
   "cell_type": "code",
   "execution_count": 56,
   "metadata": {},
   "outputs": [
    {
     "name": "stderr",
     "output_type": "stream",
     "text": [
      "/Users/gsampaio/redhat/ai/aiops_101/.venv/lib/python3.12/site-packages/keras/src/layers/rnn/rnn.py:200: UserWarning: Do not pass an `input_shape`/`input_dim` argument to a layer. When using Sequential models, prefer using an `Input(shape)` object as the first layer in the model instead.\n",
      "  super().__init__(**kwargs)\n"
     ]
    },
    {
     "data": {
      "text/html": [
       "<pre style=\"white-space:pre;overflow-x:auto;line-height:normal;font-family:Menlo,'DejaVu Sans Mono',consolas,'Courier New',monospace\"><span style=\"font-weight: bold\">Model: \"sequential_1\"</span>\n",
       "</pre>\n"
      ],
      "text/plain": [
       "\u001b[1mModel: \"sequential_1\"\u001b[0m\n"
      ]
     },
     "metadata": {},
     "output_type": "display_data"
    },
    {
     "data": {
      "text/html": [
       "<pre style=\"white-space:pre;overflow-x:auto;line-height:normal;font-family:Menlo,'DejaVu Sans Mono',consolas,'Courier New',monospace\">┏━━━━━━━━━━━━━━━━━━━━━━━━━━━━━━━━━┳━━━━━━━━━━━━━━━━━━━━━━━━┳━━━━━━━━━━━━━━━┓\n",
       "┃<span style=\"font-weight: bold\"> Layer (type)                    </span>┃<span style=\"font-weight: bold\"> Output Shape           </span>┃<span style=\"font-weight: bold\">       Param # </span>┃\n",
       "┡━━━━━━━━━━━━━━━━━━━━━━━━━━━━━━━━━╇━━━━━━━━━━━━━━━━━━━━━━━━╇━━━━━━━━━━━━━━━┩\n",
       "│ lstm_2 (<span style=\"color: #0087ff; text-decoration-color: #0087ff\">LSTM</span>)                   │ (<span style=\"color: #00d7ff; text-decoration-color: #00d7ff\">None</span>, <span style=\"color: #00af00; text-decoration-color: #00af00\">30</span>, <span style=\"color: #00af00; text-decoration-color: #00af00\">64</span>)         │        <span style=\"color: #00af00; text-decoration-color: #00af00\">21,504</span> │\n",
       "├─────────────────────────────────┼────────────────────────┼───────────────┤\n",
       "│ dropout_2 (<span style=\"color: #0087ff; text-decoration-color: #0087ff\">Dropout</span>)             │ (<span style=\"color: #00d7ff; text-decoration-color: #00d7ff\">None</span>, <span style=\"color: #00af00; text-decoration-color: #00af00\">30</span>, <span style=\"color: #00af00; text-decoration-color: #00af00\">64</span>)         │             <span style=\"color: #00af00; text-decoration-color: #00af00\">0</span> │\n",
       "├─────────────────────────────────┼────────────────────────┼───────────────┤\n",
       "│ lstm_3 (<span style=\"color: #0087ff; text-decoration-color: #0087ff\">LSTM</span>)                   │ (<span style=\"color: #00d7ff; text-decoration-color: #00d7ff\">None</span>, <span style=\"color: #00af00; text-decoration-color: #00af00\">32</span>)             │        <span style=\"color: #00af00; text-decoration-color: #00af00\">12,416</span> │\n",
       "├─────────────────────────────────┼────────────────────────┼───────────────┤\n",
       "│ dropout_3 (<span style=\"color: #0087ff; text-decoration-color: #0087ff\">Dropout</span>)             │ (<span style=\"color: #00d7ff; text-decoration-color: #00d7ff\">None</span>, <span style=\"color: #00af00; text-decoration-color: #00af00\">32</span>)             │             <span style=\"color: #00af00; text-decoration-color: #00af00\">0</span> │\n",
       "├─────────────────────────────────┼────────────────────────┼───────────────┤\n",
       "│ dense_2 (<span style=\"color: #0087ff; text-decoration-color: #0087ff\">Dense</span>)                 │ (<span style=\"color: #00d7ff; text-decoration-color: #00d7ff\">None</span>, <span style=\"color: #00af00; text-decoration-color: #00af00\">16</span>)             │           <span style=\"color: #00af00; text-decoration-color: #00af00\">528</span> │\n",
       "├─────────────────────────────────┼────────────────────────┼───────────────┤\n",
       "│ dense_3 (<span style=\"color: #0087ff; text-decoration-color: #0087ff\">Dense</span>)                 │ (<span style=\"color: #00d7ff; text-decoration-color: #00d7ff\">None</span>, <span style=\"color: #00af00; text-decoration-color: #00af00\">5</span>)              │            <span style=\"color: #00af00; text-decoration-color: #00af00\">85</span> │\n",
       "└─────────────────────────────────┴────────────────────────┴───────────────┘\n",
       "</pre>\n"
      ],
      "text/plain": [
       "┏━━━━━━━━━━━━━━━━━━━━━━━━━━━━━━━━━┳━━━━━━━━━━━━━━━━━━━━━━━━┳━━━━━━━━━━━━━━━┓\n",
       "┃\u001b[1m \u001b[0m\u001b[1mLayer (type)                   \u001b[0m\u001b[1m \u001b[0m┃\u001b[1m \u001b[0m\u001b[1mOutput Shape          \u001b[0m\u001b[1m \u001b[0m┃\u001b[1m \u001b[0m\u001b[1m      Param #\u001b[0m\u001b[1m \u001b[0m┃\n",
       "┡━━━━━━━━━━━━━━━━━━━━━━━━━━━━━━━━━╇━━━━━━━━━━━━━━━━━━━━━━━━╇━━━━━━━━━━━━━━━┩\n",
       "│ lstm_2 (\u001b[38;5;33mLSTM\u001b[0m)                   │ (\u001b[38;5;45mNone\u001b[0m, \u001b[38;5;34m30\u001b[0m, \u001b[38;5;34m64\u001b[0m)         │        \u001b[38;5;34m21,504\u001b[0m │\n",
       "├─────────────────────────────────┼────────────────────────┼───────────────┤\n",
       "│ dropout_2 (\u001b[38;5;33mDropout\u001b[0m)             │ (\u001b[38;5;45mNone\u001b[0m, \u001b[38;5;34m30\u001b[0m, \u001b[38;5;34m64\u001b[0m)         │             \u001b[38;5;34m0\u001b[0m │\n",
       "├─────────────────────────────────┼────────────────────────┼───────────────┤\n",
       "│ lstm_3 (\u001b[38;5;33mLSTM\u001b[0m)                   │ (\u001b[38;5;45mNone\u001b[0m, \u001b[38;5;34m32\u001b[0m)             │        \u001b[38;5;34m12,416\u001b[0m │\n",
       "├─────────────────────────────────┼────────────────────────┼───────────────┤\n",
       "│ dropout_3 (\u001b[38;5;33mDropout\u001b[0m)             │ (\u001b[38;5;45mNone\u001b[0m, \u001b[38;5;34m32\u001b[0m)             │             \u001b[38;5;34m0\u001b[0m │\n",
       "├─────────────────────────────────┼────────────────────────┼───────────────┤\n",
       "│ dense_2 (\u001b[38;5;33mDense\u001b[0m)                 │ (\u001b[38;5;45mNone\u001b[0m, \u001b[38;5;34m16\u001b[0m)             │           \u001b[38;5;34m528\u001b[0m │\n",
       "├─────────────────────────────────┼────────────────────────┼───────────────┤\n",
       "│ dense_3 (\u001b[38;5;33mDense\u001b[0m)                 │ (\u001b[38;5;45mNone\u001b[0m, \u001b[38;5;34m5\u001b[0m)              │            \u001b[38;5;34m85\u001b[0m │\n",
       "└─────────────────────────────────┴────────────────────────┴───────────────┘\n"
      ]
     },
     "metadata": {},
     "output_type": "display_data"
    },
    {
     "data": {
      "text/html": [
       "<pre style=\"white-space:pre;overflow-x:auto;line-height:normal;font-family:Menlo,'DejaVu Sans Mono',consolas,'Courier New',monospace\"><span style=\"font-weight: bold\"> Total params: </span><span style=\"color: #00af00; text-decoration-color: #00af00\">34,533</span> (134.89 KB)\n",
       "</pre>\n"
      ],
      "text/plain": [
       "\u001b[1m Total params: \u001b[0m\u001b[38;5;34m34,533\u001b[0m (134.89 KB)\n"
      ]
     },
     "metadata": {},
     "output_type": "display_data"
    },
    {
     "data": {
      "text/html": [
       "<pre style=\"white-space:pre;overflow-x:auto;line-height:normal;font-family:Menlo,'DejaVu Sans Mono',consolas,'Courier New',monospace\"><span style=\"font-weight: bold\"> Trainable params: </span><span style=\"color: #00af00; text-decoration-color: #00af00\">34,533</span> (134.89 KB)\n",
       "</pre>\n"
      ],
      "text/plain": [
       "\u001b[1m Trainable params: \u001b[0m\u001b[38;5;34m34,533\u001b[0m (134.89 KB)\n"
      ]
     },
     "metadata": {},
     "output_type": "display_data"
    },
    {
     "data": {
      "text/html": [
       "<pre style=\"white-space:pre;overflow-x:auto;line-height:normal;font-family:Menlo,'DejaVu Sans Mono',consolas,'Courier New',monospace\"><span style=\"font-weight: bold\"> Non-trainable params: </span><span style=\"color: #00af00; text-decoration-color: #00af00\">0</span> (0.00 B)\n",
       "</pre>\n"
      ],
      "text/plain": [
       "\u001b[1m Non-trainable params: \u001b[0m\u001b[38;5;34m0\u001b[0m (0.00 B)\n"
      ]
     },
     "metadata": {},
     "output_type": "display_data"
    }
   ],
   "source": [
    "import tensorflow as tf\n",
    "from tensorflow.keras.models import Sequential\n",
    "from tensorflow.keras.layers import LSTM, Dense, Dropout  # Number of unique event types\n",
    "\n",
    "# Define LSTM model\n",
    "model = Sequential(\n",
    "    [\n",
    "        LSTM(\n",
    "            64, return_sequences=True, input_shape=(X_train.shape[1], X_train.shape[2])\n",
    "        ),\n",
    "        Dropout(0.2),\n",
    "        LSTM(32, return_sequences=False),\n",
    "        Dropout(0.2),\n",
    "        Dense(16, activation=\"relu\"),\n",
    "        Dense(num_classes, activation=\"softmax\"),  # Multi-class output layer\n",
    "    ]\n",
    ")\n",
    "\n",
    "# Compile the model for multi-class classification\n",
    "model.compile(optimizer=\"adam\", loss=\"categorical_crossentropy\", metrics=[\"accuracy\"])\n",
    "\n",
    "# Model summary\n",
    "model.summary()"
   ]
  },
  {
   "cell_type": "markdown",
   "metadata": {},
   "source": [
    "### Explanation of Key Components:\n",
    "\n",
    "1. **Input Shape**:\n",
    "   - `input_shape=(sequence_length, num_features)`:\n",
    "     - `sequence_length`: The number of time steps in each sequence.\n",
    "     - `num_features`: The number of features in the dataset.\n",
    "\n",
    "2. **Dropout Rate**:\n",
    "   - The dropout layers use a rate of **0.2**, meaning 20% of the input units are randomly set to 0 during training to reduce overfitting.\n",
    "\n",
    "3. **Softmax Activation**:\n",
    "   - The final dense layer outputs probabilities for each class (event message), making it suitable for multi-class classification.\n",
    "\n",
    "4. **Loss Function**:\n",
    "   - `categorical_crossentropy`: Measures the difference between predicted and true class distributions, ideal for multi-class problems.\n",
    "\n",
    "5. **Optimizer**:\n",
    "   - `adam`: A widely used optimizer that adapts the learning rate during training, speeding up convergence."
   ]
  },
  {
   "cell_type": "markdown",
   "metadata": {},
   "source": [
    "## 7. Training the Model with Early Stopping and Learning Rate Scheduler\n",
    "\n",
    "Once the LSTM model is defined, the next step is to train it using the training data. To enhance training efficiency and prevent overfitting, we employ two critical callbacks:\n",
    "\n",
    "### Key Components:\n",
    "\n",
    "1. **Early Stopping**:\n",
    "   - Monitors the validation loss and stops training if it does not improve for a specified number of epochs (`patience=5`).\n",
    "   - Prevents overfitting by halting training once the model reaches its optimal performance.\n",
    "\n",
    "2. **Learning Rate Scheduler**:\n",
    "   - The `ReduceLROnPlateau` callback adjusts the learning rate dynamically:\n",
    "     - Reduces the learning rate by a factor of 0.5 when the validation loss stops improving for 3 consecutive epochs.\n",
    "     - Allows the model to fine-tune its weights more effectively as it approaches convergence.\n",
    "\n",
    "3. **Training Process**:\n",
    "   - The model is trained for a maximum of 50 epochs with a batch size of 32.\n",
    "   - Both training and validation losses are monitored, and the callbacks act as needed to ensure optimal training.\n"
   ]
  },
  {
   "cell_type": "code",
   "execution_count": 57,
   "metadata": {},
   "outputs": [
    {
     "name": "stdout",
     "output_type": "stream",
     "text": [
      "Epoch 1/50\n",
      "\u001b[1m375/375\u001b[0m \u001b[32m━━━━━━━━━━━━━━━━━━━━\u001b[0m\u001b[37m\u001b[0m \u001b[1m6s\u001b[0m 12ms/step - accuracy: 0.1970 - loss: 1.6159 - val_accuracy: 0.1947 - val_loss: 1.6100 - learning_rate: 0.0010\n",
      "Epoch 2/50\n",
      "\u001b[1m375/375\u001b[0m \u001b[32m━━━━━━━━━━━━━━━━━━━━\u001b[0m\u001b[37m\u001b[0m \u001b[1m4s\u001b[0m 12ms/step - accuracy: 0.2020 - loss: 1.6101 - val_accuracy: 0.2124 - val_loss: 1.6100 - learning_rate: 0.0010\n",
      "Epoch 3/50\n",
      "\u001b[1m375/375\u001b[0m \u001b[32m━━━━━━━━━━━━━━━━━━━━\u001b[0m\u001b[37m\u001b[0m \u001b[1m4s\u001b[0m 12ms/step - accuracy: 0.2107 - loss: 1.6094 - val_accuracy: 0.2124 - val_loss: 1.6098 - learning_rate: 0.0010\n",
      "Epoch 4/50\n",
      "\u001b[1m375/375\u001b[0m \u001b[32m━━━━━━━━━━━━━━━━━━━━\u001b[0m\u001b[37m\u001b[0m \u001b[1m4s\u001b[0m 12ms/step - accuracy: 0.2021 - loss: 1.6097 - val_accuracy: 0.2124 - val_loss: 1.6097 - learning_rate: 0.0010\n",
      "Epoch 5/50\n",
      "\u001b[1m375/375\u001b[0m \u001b[32m━━━━━━━━━━━━━━━━━━━━\u001b[0m\u001b[37m\u001b[0m \u001b[1m4s\u001b[0m 12ms/step - accuracy: 0.2046 - loss: 1.6092 - val_accuracy: 0.2124 - val_loss: 1.6100 - learning_rate: 0.0010\n",
      "Epoch 6/50\n",
      "\u001b[1m375/375\u001b[0m \u001b[32m━━━━━━━━━━━━━━━━━━━━\u001b[0m\u001b[37m\u001b[0m \u001b[1m4s\u001b[0m 12ms/step - accuracy: 0.1979 - loss: 1.6094 - val_accuracy: 0.2124 - val_loss: 1.6096 - learning_rate: 0.0010\n",
      "Epoch 7/50\n",
      "\u001b[1m375/375\u001b[0m \u001b[32m━━━━━━━━━━━━━━━━━━━━\u001b[0m\u001b[37m\u001b[0m \u001b[1m4s\u001b[0m 12ms/step - accuracy: 0.1989 - loss: 1.6098 - val_accuracy: 0.2124 - val_loss: 1.6097 - learning_rate: 0.0010\n",
      "Epoch 8/50\n",
      "\u001b[1m375/375\u001b[0m \u001b[32m━━━━━━━━━━━━━━━━━━━━\u001b[0m\u001b[37m\u001b[0m \u001b[1m4s\u001b[0m 12ms/step - accuracy: 0.1918 - loss: 1.6096 - val_accuracy: 0.1934 - val_loss: 1.6096 - learning_rate: 0.0010\n",
      "Epoch 9/50\n",
      "\u001b[1m375/375\u001b[0m \u001b[32m━━━━━━━━━━━━━━━━━━━━\u001b[0m\u001b[37m\u001b[0m \u001b[1m4s\u001b[0m 12ms/step - accuracy: 0.1977 - loss: 1.6095 - val_accuracy: 0.2124 - val_loss: 1.6096 - learning_rate: 0.0010\n",
      "Epoch 10/50\n",
      "\u001b[1m375/375\u001b[0m \u001b[32m━━━━━━━━━━━━━━━━━━━━\u001b[0m\u001b[37m\u001b[0m \u001b[1m4s\u001b[0m 12ms/step - accuracy: 0.2095 - loss: 1.6091 - val_accuracy: 0.1934 - val_loss: 1.6096 - learning_rate: 5.0000e-04\n",
      "Epoch 11/50\n",
      "\u001b[1m375/375\u001b[0m \u001b[32m━━━━━━━━━━━━━━━━━━━━\u001b[0m\u001b[37m\u001b[0m \u001b[1m4s\u001b[0m 12ms/step - accuracy: 0.2038 - loss: 1.6096 - val_accuracy: 0.1934 - val_loss: 1.6096 - learning_rate: 5.0000e-04\n",
      "Epoch 12/50\n",
      "\u001b[1m375/375\u001b[0m \u001b[32m━━━━━━━━━━━━━━━━━━━━\u001b[0m\u001b[37m\u001b[0m \u001b[1m4s\u001b[0m 12ms/step - accuracy: 0.2028 - loss: 1.6093 - val_accuracy: 0.1934 - val_loss: 1.6097 - learning_rate: 5.0000e-04\n",
      "Epoch 13/50\n",
      "\u001b[1m375/375\u001b[0m \u001b[32m━━━━━━━━━━━━━━━━━━━━\u001b[0m\u001b[37m\u001b[0m \u001b[1m4s\u001b[0m 11ms/step - accuracy: 0.2121 - loss: 1.6092 - val_accuracy: 0.1934 - val_loss: 1.6097 - learning_rate: 2.5000e-04\n",
      "Epoch 14/50\n",
      "\u001b[1m375/375\u001b[0m \u001b[32m━━━━━━━━━━━━━━━━━━━━\u001b[0m\u001b[37m\u001b[0m \u001b[1m4s\u001b[0m 12ms/step - accuracy: 0.2046 - loss: 1.6094 - val_accuracy: 0.1934 - val_loss: 1.6097 - learning_rate: 2.5000e-04\n"
     ]
    }
   ],
   "source": [
    "# Early stopping and learning rate scheduler\n",
    "early_stopping = tf.keras.callbacks.EarlyStopping(\n",
    "    monitor=\"val_loss\", patience=5, restore_best_weights=True\n",
    ")\n",
    "reduce_lr = tf.keras.callbacks.ReduceLROnPlateau(\n",
    "    monitor=\"val_loss\", factor=0.5, patience=3\n",
    ")\n",
    "\n",
    "# Train the model\n",
    "history = model.fit(\n",
    "    X_train,\n",
    "    y_train_encoded,\n",
    "    validation_data=(X_test, y_test_encoded),\n",
    "    epochs=50,\n",
    "    batch_size=32,\n",
    "    callbacks=[early_stopping, reduce_lr],\n",
    "    verbose=1,\n",
    ")"
   ]
  },
  {
   "cell_type": "markdown",
   "metadata": {},
   "source": [
    "### Explanation of Key Parameters:\n",
    "\n",
    "1. **EarlyStopping**:\n",
    "   - `monitor=\"val_loss\"`: Tracks the validation loss to decide when to stop training.\n",
    "   - `patience=5`: Stops training if no improvement is seen for 5 consecutive epochs.\n",
    "   - `restore_best_weights=True`: Ensures the model reverts to the best-performing weights before training stopped.\n",
    "\n",
    "2. **ReduceLROnPlateau**:\n",
    "   - `monitor=\"val_loss\"`: Monitors the validation loss for plateaus.\n",
    "   - `factor=0.5`: Reduces the learning rate by half when triggered.\n",
    "   - `patience=3`: Activates after 3 consecutive epochs without improvement.\n",
    "\n",
    "3. **Training Configuration**:\n",
    "   - `epochs=50`: Maximum number of training epochs.\n",
    "   - `batch_size=32`: Number of samples per training batch."
   ]
  },
  {
   "cell_type": "markdown",
   "metadata": {},
   "source": [
    "## 8. Model Evaluation and Visualization\n",
    "\n",
    "Once the LSTM model has been trained, evaluating its performance and visualizing the results are critical for understanding its ability to predict **event messages** accurately. This section focuses on three evaluation methods:\n",
    "\n",
    "### 8.1. Classification Report\n",
    "\n",
    "The classification report provides key metrics for each event message class:\n",
    "- **Precision**: The proportion of correct positive predictions out of all positive predictions made by the model.\n",
    "- **Recall**: The proportion of actual positives that the model correctly identified.\n",
    "- **F1-Score**: The harmonic mean of precision and recall, balancing both metrics.\n",
    "- **Support**: The number of actual occurrences of each class in the test set."
   ]
  },
  {
   "cell_type": "code",
   "execution_count": 58,
   "metadata": {},
   "outputs": [
    {
     "name": "stdout",
     "output_type": "stream",
     "text": [
      "\u001b[1m94/94\u001b[0m \u001b[32m━━━━━━━━━━━━━━━━━━━━\u001b[0m\u001b[37m\u001b[0m \u001b[1m0s\u001b[0m 4ms/step\n"
     ]
    }
   ],
   "source": [
    "# Evaluate model performance\n",
    "y_pred = model.predict(X_test)\n",
    "\n",
    "# Convert predictions to class labels\n",
    "y_pred_classes = np.argmax(y_pred, axis=1)"
   ]
  },
  {
   "cell_type": "code",
   "execution_count": 59,
   "metadata": {},
   "outputs": [
    {
     "name": "stdout",
     "output_type": "stream",
     "text": [
      "Classification Report:\n",
      "              precision    recall  f1-score   support\n",
      "\n",
      "           0       0.00      0.00      0.00       615\n",
      "           1       0.21      1.00      0.35       636\n",
      "           2       0.00      0.00      0.00       634\n",
      "           3       0.00      0.00      0.00       530\n",
      "           4       0.00      0.00      0.00       579\n",
      "\n",
      "    accuracy                           0.21      2994\n",
      "   macro avg       0.04      0.20      0.07      2994\n",
      "weighted avg       0.05      0.21      0.07      2994\n",
      "\n"
     ]
    },
    {
     "name": "stderr",
     "output_type": "stream",
     "text": [
      "/Users/gsampaio/redhat/ai/aiops_101/.venv/lib/python3.12/site-packages/sklearn/metrics/_classification.py:1565: UndefinedMetricWarning: Precision is ill-defined and being set to 0.0 in labels with no predicted samples. Use `zero_division` parameter to control this behavior.\n",
      "  _warn_prf(average, modifier, f\"{metric.capitalize()} is\", len(result))\n",
      "/Users/gsampaio/redhat/ai/aiops_101/.venv/lib/python3.12/site-packages/sklearn/metrics/_classification.py:1565: UndefinedMetricWarning: Precision is ill-defined and being set to 0.0 in labels with no predicted samples. Use `zero_division` parameter to control this behavior.\n",
      "  _warn_prf(average, modifier, f\"{metric.capitalize()} is\", len(result))\n",
      "/Users/gsampaio/redhat/ai/aiops_101/.venv/lib/python3.12/site-packages/sklearn/metrics/_classification.py:1565: UndefinedMetricWarning: Precision is ill-defined and being set to 0.0 in labels with no predicted samples. Use `zero_division` parameter to control this behavior.\n",
      "  _warn_prf(average, modifier, f\"{metric.capitalize()} is\", len(result))\n"
     ]
    }
   ],
   "source": [
    "# Evaluate performance with classification report and confusion matrix\n",
    "from sklearn.metrics import classification_report, confusion_matrix\n",
    "\n",
    "print(\"Classification Report:\")\n",
    "print(classification_report(np.argmax(y_test_encoded, axis=1), y_pred_classes))"
   ]
  },
  {
   "cell_type": "markdown",
   "metadata": {},
   "source": [
    "### 8.2. Confusion Matrix\n",
    "\n",
    "The confusion matrix visualizes the model's performance for each class, showing:\n",
    "- True Positives (correct predictions).\n",
    "- False Positives (incorrect predictions for that class).\n",
    "- False Negatives (missed predictions for that class)."
   ]
  },
  {
   "cell_type": "code",
   "execution_count": 60,
   "metadata": {},
   "outputs": [
    {
     "data": {
      "image/png": "[encoded data removed]",
      "text/plain": [
       "<Figure size 640x480 with 2 Axes>"
      ]
     },
     "metadata": {},
     "output_type": "display_data"
    }
   ],
   "source": [
    "# Confusion matrix\n",
    "conf_matrix = confusion_matrix(np.argmax(y_test_encoded, axis=1), y_pred_classes)\n",
    "sns.heatmap(conf_matrix, annot=True, fmt=\"d\", cmap=\"Blues\")\n",
    "plt.xlabel(\"Predicted\")\n",
    "plt.ylabel(\"Actual\")\n",
    "plt.title(\"Confusion Matrix\")\n",
    "plt.show()"
   ]
  },
  {
   "cell_type": "markdown",
   "metadata": {},
   "source": [
    "### 8.3. Loss and Accuracy Plots\n",
    "\n",
    "Tracking training and validation metrics over epochs helps visualize:\n",
    "- **Model Convergence**: If the training and validation loss decrease steadily.\n",
    "- **Overfitting**: If the validation loss increases while the training loss decreases.\n",
    "- **Generalization**: If the validation and training accuracies align well."
   ]
  },
  {
   "cell_type": "code",
   "execution_count": 61,
   "metadata": {},
   "outputs": [
    {
     "data": {
      "image/png": "[encoded data removed]",
      "text/plain": [
       "<Figure size 640x480 with 1 Axes>"
      ]
     },
     "metadata": {},
     "output_type": "display_data"
    },
    {
     "data": {
      "image/png": "[encoded data removed]",
      "text/plain": [
       "<Figure size 640x480 with 1 Axes>"
      ]
     },
     "metadata": {},
     "output_type": "display_data"
    }
   ],
   "source": [
    "# Plot training and validation loss\n",
    "plt.plot(history.history[\"loss\"], label=\"Training Loss\")\n",
    "plt.plot(history.history[\"val_loss\"], label=\"Validation Loss\")\n",
    "plt.xlabel(\"Epochs\")\n",
    "plt.ylabel(\"Loss\")\n",
    "plt.legend()\n",
    "plt.title(\"Model Loss\")\n",
    "plt.show()\n",
    "\n",
    "# Plot training and validation accuracy\n",
    "plt.plot(history.history[\"accuracy\"], label=\"Training Accuracy\")\n",
    "plt.plot(history.history[\"val_accuracy\"], label=\"Validation Accuracy\")\n",
    "plt.xlabel(\"Epochs\")\n",
    "plt.ylabel(\"Accuracy\")\n",
    "plt.legend()\n",
    "plt.title(\"Model Accuracy\")\n",
    "plt.show()"
   ]
  },
  {
   "cell_type": "markdown",
   "metadata": {},
   "source": [
    "## 9. Conclusion\n",
    "\n",
    "In this notebook, we explored the fundamentals of **deep learning** for **time-series data analysis** in Kubernetes environments. Our primary objective was to predict event messages using **LSTM (Long Short-Term Memory)** networks, leveraging sequential patterns in operational metrics.\n",
    "\n",
    "### Key Takeaways\n",
    "\n",
    "1. **Deep Learning for Time-Series Analysis**:\n",
    "   - **LSTM networks** effectively captured sequential dependencies, enabling predictions based on historical metrics like **CPU allocation**, **memory usage**, and **disk I/O**.\n",
    "   - This approach demonstrated how AI can enhance Kubernetes operations by identifying trends and predicting potential issues.\n",
    "\n",
    "2. **Data Preprocessing**:\n",
    "   - We transformed raw Kubernetes data into a structured format using techniques like **feature scaling**, **cyclic transformations**, and **encoding categorical data**.\n",
    "   - Proper preprocessing was crucial for the LSTM model to learn meaningful patterns.\n",
    "\n",
    "3. **Model Evaluation**:\n",
    "   - Evaluation metrics like the **classification report**, **confusion matrix**, and **training curves** highlighted the model's performance.\n",
    "   - Imbalanced class predictions underscored the need for fine-tuning and advanced techniques to improve results.\n",
    "\n",
    "4. **Improvement Opportunities**:\n",
    "   - Strategies for enhancement include:\n",
    "     - Adjusting **hyperparameters** and **learning rates**.\n",
    "     - Incorporating **class weights** to address imbalances.\n",
    "     - Experimenting with advanced architectures like **GRUs** and **Transformers**.\n",
    "\n",
    "### Limitations\n",
    "\n",
    "1. **Data Challenges**:\n",
    "   - The dataset’s complexity requires advanced **feature engineering** to fully capture Kubernetes behaviors.\n",
    "   - The current model focused on predicting a single event type, which simplifies the problem but may overlook more complex multi-class scenarios.\n",
    "\n",
    "2. **Model Constraints**:\n",
    "   - While **LSTM models** excel at sequential tasks, they may struggle with long sequences or volatile data.\n",
    "   - Exploring newer architectures like **Transformers** could improve scalability and accuracy.\n",
    "\n",
    "### What’s Next?\n",
    "\n",
    "Building on this foundation, our next steps include:\n",
    "1. **Dataset Refinement**:\n",
    "   - Further optimize data preparation to enhance signal extraction and reduce noise.\n",
    "2. **Advanced Models**:\n",
    "   - Train and compare models such as **GRUs** and **Transformers** for better time-series predictions.\n",
    "3. **Multi-Class Classification**:\n",
    "   - Extend beyond binary predictions to tackle multi-class scenarios, capturing diverse operational events in Kubernetes.\n",
    "\n",
    "These advancements will deepen our understanding of how AI models can optimize Kubernetes operations, enabling more robust and scalable systems."
   ]
  }
 ],
 "metadata": {
  "kernelspec": {
   "display_name": ".venv",
   "language": "python",
   "name": "python3"
  },
  "language_info": {
   "codemirror_mode": {
    "name": "ipython",
    "version": 3
   },
   "file_extension": ".py",
   "mimetype": "text/x-python",
   "name": "python",
   "nbconvert_exporter": "python",
   "pygments_lexer": "ipython3",
   "version": "3.12.4"
  }
 },
 "nbformat": 4,
 "nbformat_minor": 2
}
