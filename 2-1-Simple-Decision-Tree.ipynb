{
 "cells": [
  {
   "cell_type": "markdown",
   "metadata": {},
   "source": [
    "# 2. Machine Learning Basics: Predicting Kubernetes Incidents - Part 1\n",
    "\n",
    "## Introduction\n",
    "\n",
    "Machine Learning (ML) enables computers to learn from data and make predictions without being explicitly programmed. In this notebook, we’ll use ML to predict Kubernetes incidents (e.g., `Normal` vs. `Warning`) based on system metrics like CPU and memory usage.\n",
    "\n",
    "By the end of this notebook, you will:\n",
    "- Understand the basics of machine learning and supervised learning.\n",
    "- Learn how to prepare data for a machine learning model.\n",
    "- Train and evaluate a simple decision tree model.\n",
    "- Interpret the model's predictions.\n",
    "\n",
    "**Instructions**:\n",
    "- Follow each section sequentially.\n",
    "- Pay attention to markdown cells that explain each concept and code snippet."
   ]
  },
  {
   "cell_type": "markdown",
   "metadata": {},
   "source": [
    "## 1. What is AI and Machine Learning?\n",
    "\n",
    "### Artificial Intelligence (AI)\n",
    "AI is the field of computer science that focuses on creating systems capable of performing tasks that typically require human intelligence, such as decision-making, pattern recognition, and problem-solving.\n",
    "\n",
    "### Machine Learning? (ML)\n",
    "\n",
    "Machine Learning (ML) is a field of computer science where machines learn patterns from data to make decisions or predictions. It’s like teaching a machine to recognize situations and take appropriate actions based on experience.\n",
    "\n",
    "### Types of Machine Learning\n",
    "- **Supervised Learning**: The model learns from labeled data (e.g., predict incidents like `Normal` or `Warning` based on metrics).\n",
    "- **Unsupervised Learning**: The model identifies patterns in unlabeled data (e.g., detect anomalies).\n",
    "- **Reinforcement Learning**: The model learns by trial and error (e.g., optimizing a process).\n",
    "\n",
    "In this notebook, we’ll focus on **supervised learning** to predict Kubernetes incidents."
   ]
  },
  {
   "cell_type": "markdown",
   "metadata": {},
   "source": [
    "## 2. Simple Prediction Example\n",
    "\n",
    "Let’s understand prediction with a simple example. Imagine you’re managing a Kubernetes cluster and observing:\n",
    "- High CPU allocation efficiency often correlates with incidents (`Warning`).\n",
    "- Low CPU and memory efficiency usually indicate no incidents (`Normal`).\n",
    "\n",
    "We’ll use this intuition to create a simple dataset and predict incidents based on these metrics."
   ]
  },
  {
   "cell_type": "code",
   "execution_count": 155,
   "metadata": {},
   "outputs": [
    {
     "data": {
      "text/html": [
       "<div>\n",
       "<style scoped>\n",
       "    .dataframe tbody tr th:only-of-type {\n",
       "        vertical-align: middle;\n",
       "    }\n",
       "\n",
       "    .dataframe tbody tr th {\n",
       "        vertical-align: top;\n",
       "    }\n",
       "\n",
       "    .dataframe thead th {\n",
       "        text-align: right;\n",
       "    }\n",
       "</style>\n",
       "<table border=\"1\" class=\"dataframe\">\n",
       "  <thead>\n",
       "    <tr style=\"text-align: right;\">\n",
       "      <th></th>\n",
       "      <th>cpu_allocation_efficiency</th>\n",
       "      <th>memory_allocation_efficiency</th>\n",
       "      <th>event_type</th>\n",
       "    </tr>\n",
       "  </thead>\n",
       "  <tbody>\n",
       "    <tr>\n",
       "      <th>0</th>\n",
       "      <td>0.30</td>\n",
       "      <td>0.40</td>\n",
       "      <td>Normal</td>\n",
       "    </tr>\n",
       "    <tr>\n",
       "      <th>1</th>\n",
       "      <td>0.90</td>\n",
       "      <td>0.85</td>\n",
       "      <td>Warning</td>\n",
       "    </tr>\n",
       "    <tr>\n",
       "      <th>2</th>\n",
       "      <td>0.50</td>\n",
       "      <td>0.30</td>\n",
       "      <td>Normal</td>\n",
       "    </tr>\n",
       "    <tr>\n",
       "      <th>3</th>\n",
       "      <td>0.70</td>\n",
       "      <td>0.75</td>\n",
       "      <td>Warning</td>\n",
       "    </tr>\n",
       "    <tr>\n",
       "      <th>4</th>\n",
       "      <td>0.80</td>\n",
       "      <td>0.90</td>\n",
       "      <td>Warning</td>\n",
       "    </tr>\n",
       "    <tr>\n",
       "      <th>5</th>\n",
       "      <td>0.20</td>\n",
       "      <td>0.20</td>\n",
       "      <td>Normal</td>\n",
       "    </tr>\n",
       "    <tr>\n",
       "      <th>6</th>\n",
       "      <td>0.95</td>\n",
       "      <td>0.95</td>\n",
       "      <td>Warning</td>\n",
       "    </tr>\n",
       "    <tr>\n",
       "      <th>7</th>\n",
       "      <td>0.60</td>\n",
       "      <td>0.65</td>\n",
       "      <td>Normal</td>\n",
       "    </tr>\n",
       "    <tr>\n",
       "      <th>8</th>\n",
       "      <td>0.40</td>\n",
       "      <td>0.50</td>\n",
       "      <td>Normal</td>\n",
       "    </tr>\n",
       "    <tr>\n",
       "      <th>9</th>\n",
       "      <td>0.85</td>\n",
       "      <td>0.80</td>\n",
       "      <td>Warning</td>\n",
       "    </tr>\n",
       "  </tbody>\n",
       "</table>\n",
       "</div>"
      ],
      "text/plain": [
       "   cpu_allocation_efficiency  memory_allocation_efficiency event_type\n",
       "0                       0.30                          0.40     Normal\n",
       "1                       0.90                          0.85    Warning\n",
       "2                       0.50                          0.30     Normal\n",
       "3                       0.70                          0.75    Warning\n",
       "4                       0.80                          0.90    Warning\n",
       "5                       0.20                          0.20     Normal\n",
       "6                       0.95                          0.95    Warning\n",
       "7                       0.60                          0.65     Normal\n",
       "8                       0.40                          0.50     Normal\n",
       "9                       0.85                          0.80    Warning"
      ]
     },
     "execution_count": 155,
     "metadata": {},
     "output_type": "execute_result"
    }
   ],
   "source": [
    "# Create a structured in-memory dataset\n",
    "import pandas as pd\n",
    "\n",
    "data = {\n",
    "    \"cpu_allocation_efficiency\": [0.3, 0.9, 0.5, 0.7, 0.8, 0.2, 0.95, 0.6, 0.4, 0.85],\n",
    "    \"memory_allocation_efficiency\": [\n",
    "        0.4,\n",
    "        0.85,\n",
    "        0.3,\n",
    "        0.75,\n",
    "        0.9,\n",
    "        0.2,\n",
    "        0.95,\n",
    "        0.65,\n",
    "        0.5,\n",
    "        0.8,\n",
    "    ],\n",
    "    \"event_type\": [\n",
    "        \"Normal\",\n",
    "        \"Warning\",\n",
    "        \"Normal\",\n",
    "        \"Warning\",\n",
    "        \"Warning\",\n",
    "        \"Normal\",\n",
    "        \"Warning\",\n",
    "        \"Normal\",\n",
    "        \"Normal\",\n",
    "        \"Warning\",\n",
    "    ],\n",
    "}\n",
    "\n",
    "# Create the DataFrame\n",
    "df_simple = pd.DataFrame(data)\n",
    "\n",
    "# Display the dataset\n",
    "df_simple"
   ]
  },
  {
   "cell_type": "markdown",
   "metadata": {},
   "source": [
    "## 3. Splitting the Data: Training and Testing\n",
    "\n",
    "To train and evaluate the machine learning model:\n",
    "1. **Training Data**: Used to teach the model (70% of the dataset).\n",
    "2. **Testing Data**: Used to evaluate the model’s performance on unseen data (30% of the dataset).\n",
    "\n",
    "This ensures the model learns from one part of the data and is tested on another, preventing overfitting."
   ]
  },
  {
   "cell_type": "code",
   "execution_count": 156,
   "metadata": {},
   "outputs": [
    {
     "data": {
      "text/plain": [
       "((7, 2), (3, 2))"
      ]
     },
     "execution_count": 156,
     "metadata": {},
     "output_type": "execute_result"
    }
   ],
   "source": [
    "# Separate features and target\n",
    "from sklearn.model_selection import train_test_split\n",
    "\n",
    "X = df_simple[[\"cpu_allocation_efficiency\", \"memory_allocation_efficiency\"]]\n",
    "y = df_simple[\"event_type\"]\n",
    "\n",
    "# Split the data\n",
    "X_train, X_test, y_train, y_test = train_test_split(\n",
    "    X, y, test_size=0.3, random_state=42\n",
    ")\n",
    "\n",
    "# Show shapes of the splits\n",
    "X_train.shape, X_test.shape"
   ]
  },
  {
   "cell_type": "markdown",
   "metadata": {},
   "source": [
    "## 4. Training a Simple Decision Tree Model\n",
    "\n",
    "We’ll train a simple decision tree model using the training data. Decision trees work by splitting the data into smaller groups based on the most important features.\n",
    "\n",
    "For example:\n",
    "- If CPU allocation efficiency is > 0.8, the incident might be a `Warning`.\n",
    "- Otherwise, it might be `Normal`.\n",
    "\n",
    "Let’s train the model and evaluate its performance."
   ]
  },
  {
   "cell_type": "code",
   "execution_count": 157,
   "metadata": {},
   "outputs": [
    {
     "data": {
      "text/plain": [
       "1.0"
      ]
     },
     "execution_count": 157,
     "metadata": {},
     "output_type": "execute_result"
    }
   ],
   "source": [
    "from sklearn.tree import DecisionTreeClassifier\n",
    "from sklearn.metrics import accuracy_score\n",
    "\n",
    "# Train the Decision Tree model\n",
    "simple_tree = DecisionTreeClassifier(max_depth=3, random_state=42)\n",
    "simple_tree.fit(X_train, y_train)\n",
    "\n",
    "# Predict on the test set\n",
    "y_pred = simple_tree.predict(X_test)\n",
    "\n",
    "# Evaluate the model\n",
    "accuracy = accuracy_score(y_test, y_pred)\n",
    "accuracy"
   ]
  },
  {
   "cell_type": "markdown",
   "metadata": {},
   "source": [
    "## 5. Interpreting a Prediction\n",
    "\n",
    "Let’s take a single test sample and see how the model predicts the incident type. We’ll display:\n",
    "1. The input metrics (features).\n",
    "2. The model’s predicted incident type.\n",
    "3. The actual incident type."
   ]
  },
  {
   "cell_type": "code",
   "execution_count": 158,
   "metadata": {},
   "outputs": [
    {
     "name": "stdout",
     "output_type": "stream",
     "text": [
      "Input Features: {'cpu_allocation_efficiency': 0.4, 'memory_allocation_efficiency': 0.5}\n",
      "Predicted Incident: Normal\n",
      "Actual Incident: Normal\n"
     ]
    }
   ],
   "source": [
    "# Display a single prediction\n",
    "sample_index = 0\n",
    "sample_features = X_test.iloc[sample_index]\n",
    "sample_features_df = pd.DataFrame(\n",
    "    [sample_features], columns=X_test.columns\n",
    ")  # Wrap as DataFrame\n",
    "sample_prediction = simple_tree.predict(sample_features_df)\n",
    "actual_label = y_test.iloc[sample_index]\n",
    "\n",
    "print(f\"Input Features: {sample_features.to_dict()}\")\n",
    "print(f\"Predicted Incident: {sample_prediction[0]}\")\n",
    "print(f\"Actual Incident: {actual_label}\")"
   ]
  },
  {
   "cell_type": "markdown",
   "metadata": {},
   "source": [
    "## 6. Visualizing Predictions\n",
    "\n",
    "### 6.1. CPU vs. Memory Allocation Efficiency\n",
    "\n",
    "This scatter plot shows how the machine learning model makes predictions based on the two key metrics:\n",
    "1. **CPU Allocation Efficiency** (x-axis): Measures how efficiently CPU resources are allocated.\n",
    "2. **Memory Allocation Efficiency** (y-axis): Measures how efficiently memory resources are allocated.\n",
    "\n",
    "### What the Chart Shows:\n",
    "- **Data Points**: Each point represents a Kubernetes incident, described by its CPU and memory usage.\n",
    "- **Colors**:\n",
    "  - **Blue**: The model predicted the incident as `Normal`.\n",
    "  - **Red**: The model predicted the incident as `Warning`.\n",
    "- **Clusters**:\n",
    "  - Clusters of blue and red points indicate how the model distinguishes between `Normal` and `Warning` based on CPU and memory efficiency.\n",
    "\n",
    "This visualization helps us understand how the features (CPU and memory) influence the model’s predictions. It also reveals patterns, such as:\n",
    "- Incidents with high CPU and memory efficiency are often classified as `Warning`.\n",
    "- Incidents with low CPU and memory efficiency are often classified as `Normal`.\n",
    "\n",
    "By plotting predictions, we can validate whether the model aligns with our expectations."
   ]
  },
  {
   "cell_type": "code",
   "execution_count": 159,
   "metadata": {},
   "outputs": [
    {
     "data": {
      "image/png": "[encoded data removed]",
      "text/plain": [
       "<Figure size 1400x600 with 2 Axes>"
      ]
     },
     "metadata": {},
     "output_type": "display_data"
    }
   ],
   "source": [
    "# Predict for the entire dataset\n",
    "df_simple[\"predicted_event\"] = simple_tree.predict(X)\n",
    "\n",
    "# %%\n",
    "# Map actual and predicted labels to colors\n",
    "color_map = {\"Normal\": \"blue\", \"Warning\": \"red\"}\n",
    "\n",
    "# Create subplots for side-by-side comparison\n",
    "fig, axes = plt.subplots(1, 2, figsize=(14, 6), sharex=True, sharey=True)\n",
    "\n",
    "# Plot actual labels\n",
    "axes[0].scatter(\n",
    "    df_simple[\"cpu_allocation_efficiency\"],\n",
    "    df_simple[\"memory_allocation_efficiency\"],\n",
    "    c=df_simple[\"event_type\"].map(color_map),\n",
    "    edgecolor=\"k\",\n",
    "    alpha=0.7,\n",
    ")\n",
    "axes[0].set_title(\"Actual Labels\")\n",
    "axes[0].set_xlabel(\"CPU Allocation Efficiency\")\n",
    "axes[0].set_ylabel(\"Memory Allocation Efficiency\")\n",
    "axes[0].grid(alpha=0.3)\n",
    "\n",
    "# Plot predicted labels\n",
    "axes[1].scatter(\n",
    "    df_simple[\"cpu_allocation_efficiency\"],\n",
    "    df_simple[\"memory_allocation_efficiency\"],\n",
    "    c=df_simple[\"predicted_event\"].map(color_map),\n",
    "    edgecolor=\"k\",\n",
    "    alpha=0.7,\n",
    ")\n",
    "axes[1].set_title(\"Predicted Labels\")\n",
    "axes[1].set_xlabel(\"CPU Allocation Efficiency\")\n",
    "axes[1].grid(alpha=0.3)\n",
    "\n",
    "# Add legends\n",
    "for ax in axes:\n",
    "    ax.legend(\n",
    "        handles=[\n",
    "            plt.Line2D(\n",
    "                [0],\n",
    "                [0],\n",
    "                marker=\"o\",\n",
    "                color=\"w\",\n",
    "                label=\"Normal\",\n",
    "                markerfacecolor=\"blue\",\n",
    "                markersize=10,\n",
    "            ),\n",
    "            plt.Line2D(\n",
    "                [0],\n",
    "                [0],\n",
    "                marker=\"o\",\n",
    "                color=\"w\",\n",
    "                label=\"Warning\",\n",
    "                markerfacecolor=\"red\",\n",
    "                markersize=10,\n",
    "            ),\n",
    "        ],\n",
    "        title=\"Incident Type\",\n",
    "    )\n",
    "\n",
    "plt.tight_layout()\n",
    "plt.show()"
   ]
  },
  {
   "cell_type": "markdown",
   "metadata": {},
   "source": [
    "### 6.2. Visualizing Model Performance: Confusion Matrix\n",
    "\n",
    "A confusion matrix shows the number of correct and incorrect predictions made by the model, broken down by each class (e.g., `Normal` and `Warning`).\n",
    "\n",
    "- **True Positives (TP):** Correctly predicted `Normal`.\n",
    "- **True Negatives (TN):** Correctly predicted `Warning`.\n",
    "- **False Positives (FP):** Incorrectly predicted `Normal` when it was `Warning`.\n",
    "- **False Negatives (FN):** Incorrectly predicted `Warning` when it was `Normal`.\n"
   ]
  },
  {
   "cell_type": "code",
   "execution_count": 160,
   "metadata": {},
   "outputs": [
    {
     "data": {
      "image/png": "[encoded data removed]",
      "text/plain": [
       "<Figure size 640x480 with 1 Axes>"
      ]
     },
     "metadata": {},
     "output_type": "display_data"
    }
   ],
   "source": [
    "from sklearn.metrics import ConfusionMatrixDisplay\n",
    "import matplotlib.pyplot as plt\n",
    "\n",
    "# Plot the confusion matrix\n",
    "ConfusionMatrixDisplay.from_estimator(\n",
    "    simple_tree,\n",
    "    X_test,\n",
    "    y_test,\n",
    "    display_labels=[\"Normal\", \"Warning\"],\n",
    "    cmap=\"Blues\",\n",
    "    colorbar=False,\n",
    ")\n",
    "plt.title(\"Confusion Matrix\")\n",
    "plt.show()"
   ]
  },
  {
   "cell_type": "markdown",
   "metadata": {},
   "source": [
    "## 7. Conclusion\n",
    "\n",
    "In this notebook, we introduced the basics of machine learning by predicting Kubernetes incidents (`Normal` vs. `Warning`) using a decision tree classifier. This exercise provided a hands-on understanding of key concepts in supervised learning:\n",
    "\n",
    "- **Data Preparation:** Splitting datasets into training and testing subsets to evaluate model performance on unseen data.\n",
    "- **Model Training and Evaluation:** Using a decision tree to classify incidents based on features like CPU and memory allocation efficiencies.\n",
    "- **Visualization for Insights:** Leveraging tools like scatter plots and confusion matrices to interpret model behavior and identify patterns.\n",
    "\n",
    "**Takeaways**\n",
    "- **Decision Trees:** A simple yet effective algorithm for classification tasks, offering interpretability through feature-based decision-making.\n",
    "- **Feature Importance:** Metrics like CPU and memory allocation efficiencies can strongly influence predictions, demonstrating the importance of selecting relevant features.\n",
    "- **Model Performance:** While decision trees perform well for simple datasets, more sophisticated models may be needed for complex real-world scenarios.\n",
    "\n",
    "**Limitations**\n",
    "- **Dataset Scope:** This example used a simplified, in-memory dataset for educational purposes.\n",
    "- **Model Complexity:** Decision trees may overfit or underperform compared to ensemble methods like Random Forests or Gradient Boosting.\n",
    "\n",
    "**What’s Next?**\n",
    "In the next notebook, we will:\n",
    "1. Use the **preprocessed dataset** from Notebook 1, containing real Kubernetes operational data.\n",
    "2. Apply **Linear Regression** for continuous variable predictions (e.g., resource efficiency metrics).\n",
    "3. Train a **Random Forest Classifier** for improved classification of incidents, comparing its performance to simpler models like decision trees.\n",
    "\n",
    "This will demonstrate how machine learning can scale to handle more realistic datasets, providing deeper insights into Kubernetes operations."
   ]
  }
 ],
 "metadata": {
  "kernelspec": {
   "display_name": ".venv",
   "language": "python",
   "name": "python3"
  },
  "language_info": {
   "codemirror_mode": {
    "name": "ipython",
    "version": 3
   },
   "file_extension": ".py",
   "mimetype": "text/x-python",
   "name": "python",
   "nbconvert_exporter": "python",
   "pygments_lexer": "ipython3",
   "version": "3.12.4"
  }
 },
 "nbformat": 4,
 "nbformat_minor": 2
}
