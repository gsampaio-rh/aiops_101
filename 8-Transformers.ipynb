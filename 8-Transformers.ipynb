{
 "cells": [
  {
   "cell_type": "markdown",
   "metadata": {},
   "source": [
    "# 8. Transformers for Kubernetes Operations: Enhancing Prediction Accuracy with NLP\n",
    "\n",
    "## Introduction\n",
    "\n",
    "Welcome to the 8th notebook in our series on **AI for Kubernetes operations**! In this notebook, we take a leap into cutting-edge AI techniques by leveraging **transformer models** like **BERT** for Kubernetes event classification. \n",
    "\n",
    "Transformers are a revolutionary class of models that have redefined how machines process sequential data, particularly in natural language processing (NLP). Their ability to capture **contextual relationships** in text makes them highly effective for understanding Kubernetes operational data, such as logs and events.\n",
    "\n",
    "### Objectives\n",
    "\n",
    "By the end of this notebook, you will be able to:\n",
    "1. Understand the foundational concepts behind transformer models and their advantages over traditional approaches.\n",
    "2. Fine-tune a pretrained transformer model (**BERT**) for Kubernetes event classification.\n",
    "3. Evaluate the model's performance using metrics such as accuracy, precision, recall, and confusion matrices.\n",
    "\n",
    "### What Are Transformers, and Why Do They Matter?\n",
    "\n",
    "Transformers are advanced neural network architectures designed to process and analyze sequential data. Unlike traditional sequence models like LSTMs or RNNs, transformers use a mechanism called **self-attention** to understand relationships between different parts of the input sequence.\n",
    "\n",
    "<img src=\"https://machinelearningmastery.com/wp-content/uploads/2021/08/attention_research_1.png\" alt=\"The encoder-decoder structure of the Transformer architecture\" width=\"600\"/>\n",
    "<p><em>Source: Attention Is All You Need, 2017.</em></p>\n",
    "\n",
    "#### Key Features of Transformers:\n",
    "1. **Self-Attention**: Captures dependencies between words, regardless of their position in the sequence.\n",
    "   - Example: In the phrase \"The pod crashed because it ran out of memory,\" transformers link \"crashed\" with \"ran out of memory\" even though the words are separated.\n",
    "2. **Parallel Processing**: Unlike RNNs, transformers process input sequences in parallel, making them faster and more scalable.\n",
    "3. **Pretrained Models**: Models like **BERT** come pretrained on massive datasets, enabling them to quickly adapt to specific tasks with minimal additional training.\n",
    "\n",
    "#### Why Do Transformers Exist?\n",
    "Transformers were introduced to overcome the limitations of earlier sequence models, which struggled with:\n",
    "- Capturing long-range dependencies in text.\n",
    "- Training inefficiencies due to sequential data processing.\n",
    "\n",
    "By addressing these issues, transformers enable:\n",
    "- **Faster Training**: Thanks to parallelization.\n",
    "- **Better Context Understanding**: Through self-attention.\n",
    "\n",
    "### Relevance to Kubernetes Operations\n",
    "\n",
    "Kubernetes environments generate vast amounts of sequential data, such as:\n",
    "- **Logs**: Event logs describing system behaviors (e.g., \"Pod restarted due to memory exhaustion\").\n",
    "- **Metrics**: Time-series data on resource utilization (e.g., CPU usage, memory allocation).\n",
    "\n",
    "Transformers, particularly models like **BERT**, excel in understanding the context within such text-based data. For example:\n",
    "- **Use Case**: Classifying Kubernetes events (e.g., Normal, Warning, Error) based on operational logs.\n",
    "- **Benefit**: Accurately identifying and categorizing events helps operators prioritize and respond to critical issues faster."
   ]
  },
  {
   "cell_type": "markdown",
   "metadata": {},
   "source": [
    "## 1. Installing the Required Libraries\n",
    "\n",
    "Before we start, we need to install the necessary libraries. These include **transformers**, **torch**, and **scikit-learn**, which are required to build and fine-tune the BERT model. Run the following cell to install these libraries:"
   ]
  },
  {
   "cell_type": "code",
   "execution_count": 52,
   "metadata": {},
   "outputs": [
    {
     "name": "stdout",
     "output_type": "stream",
     "text": [
      "Note: you may need to restart the kernel to use updated packages.\n"
     ]
    }
   ],
   "source": [
    "%pip install transformers torch scikit-learn matplotlib seaborn --quiet"
   ]
  },
  {
   "cell_type": "markdown",
   "metadata": {},
   "source": [
    "### System Information\n",
    "\n",
    "In this section, we check the environment in which we are running the code. This includes the Python version, PyTorch version, and whether a compatible GPU or Apple MPS is available.\n",
    "This helps us ensure that we are leveraging the best computational resources for model training and evaluation."
   ]
  },
  {
   "cell_type": "code",
   "execution_count": 32,
   "metadata": {},
   "outputs": [
    {
     "name": "stdout",
     "output_type": "stream",
     "text": [
      "Python Platform: macOS-15.2-arm64-arm-64bit\n",
      "PyTorch Version: 2.5.1\n",
      "\n",
      "Python 3.12.4 (main, Jun  6 2024, 18:26:44) [Clang 15.0.0 (clang-1500.3.9.4)]\n",
      "Pandas 2.2.3\n",
      "Scikit-Learn 1.6.1\n",
      "NVIDIA/CUDA GPU is NOT AVAILABLE\n",
      "MPS (Apple Metal) is AVAILABLE\n",
      "Target device is mps\n"
     ]
    }
   ],
   "source": [
    "# What version of Python do you have?\n",
    "import sys\n",
    "import platform\n",
    "import pandas as pd\n",
    "import sklearn as sk\n",
    "import torch\n",
    "import numpy as np\n",
    "from sklearn.preprocessing import LabelEncoder\n",
    "from sklearn.model_selection import train_test_split\n",
    "from torch.utils.data import DataLoader, TensorDataset\n",
    "from transformers import (\n",
    "    BertTokenizer,\n",
    "    BertForSequenceClassification,\n",
    "    AdamW,\n",
    ")\n",
    "\n",
    "has_gpu = torch.cuda.is_available()\n",
    "has_mps = torch.backends.mps.is_built()\n",
    "device = \"mps\" if has_mps else \"cuda\" if torch.cuda.is_available() else \"cpu\"\n",
    "\n",
    "print(f\"Python Platform: {platform.platform()}\")\n",
    "print(f\"PyTorch Version: {torch.__version__}\")\n",
    "print()\n",
    "print(f\"Python {sys.version}\")\n",
    "print(f\"Pandas {pd.__version__}\")\n",
    "print(f\"Scikit-Learn {sk.__version__}\")\n",
    "print(\"NVIDIA/CUDA GPU is\", \"available\" if has_gpu else \"NOT AVAILABLE\")\n",
    "print(\"MPS (Apple Metal) is\", \"AVAILABLE\" if has_mps else \"NOT AVAILABLE\")\n",
    "print(f\"Target device is {device}\")\n",
    "\n",
    "torch.cuda.empty_cache()"
   ]
  },
  {
   "cell_type": "markdown",
   "metadata": {},
   "source": [
    "## **2. Loading and Preparing the Dataset**\n",
    "\n",
    "In this section, we load a preprocessed Kubernetes dataset containing event information and operational metrics. We then aggregate event-related columns into a single target column, `event_message`, which simplifies our classification task. This column is encoded into numerical values, making it ready for use with our BERT model.\n",
    "\n",
    "### **Why Aggregate Event Columns?**\n",
    "Kubernetes generates multiple event-related metrics, often represented across several columns. For example:\n",
    "- `event_message_Completed`\n",
    "- `event_message_Failed`\n",
    "- `event_message_Killed`\n",
    "\n",
    "By aggregating these columns into a single `event_message` column, we:\n",
    "1. **Simplify the Classification Task**: The model only needs to classify one target column instead of multiple.\n",
    "2. **Prepare for BERT**: A single target column allows for easier integration with BERT, which expects categorical outputs for classification.\n",
    "\n",
    "### Steps for Dataset Preparation\n",
    "1. **Load the Dataset**:\n",
    "   - Load the dataset from a CSV file, ensuring timestamps are parsed and used as the index.\n",
    "2. **Aggregate Event Columns**:\n",
    "   - Combine event-related columns using the `idxmax` function to extract the most relevant event for each row.\n",
    "   - Clean up the resulting column by removing prefixes (`event_message_` or `event_type_`).\n",
    "3. **Encode Target Labels**:\n",
    "   - Convert the string-based `event_message` column into numerical labels using `LabelEncoder`."
   ]
  },
  {
   "cell_type": "code",
   "execution_count": 33,
   "metadata": {},
   "outputs": [],
   "source": [
    "# Load dataset\n",
    "file_path = \"data/preprocessed_kubernetes_data.csv\"  # Update with the correct path\n",
    "df = pd.read_csv(file_path, parse_dates=[\"timestamp\"], index_col=\"timestamp\")"
   ]
  },
  {
   "cell_type": "markdown",
   "metadata": {},
   "source": [
    "### 2.1. Why Aggregate Event Columns?\n",
    "\n",
    "Kubernetes generates multiple event-related metrics, often represented across several columns. For example:\n",
    "- `event_message_Completed`\n",
    "- `event_message_Failed`\n",
    "- `event_message_Killed`\n",
    "\n",
    "By aggregating these columns into a single `event_message` column, we:\n",
    "1. **Simplify the Classification Task**: The model only needs to classify one target column instead of multiple.\n",
    "2. **Prepare for BERT**: A single target column allows for easier integration with BERT, which expects categorical outputs for classification."
   ]
  },
  {
   "cell_type": "code",
   "execution_count": 34,
   "metadata": {},
   "outputs": [],
   "source": [
    "# Combine event-related columns into a single target column\n",
    "event_columns = [\n",
    "    \"event_message_Completed\",\n",
    "    \"event_message_Failed\",\n",
    "    \"event_message_Killed\",\n",
    "    \"event_message_OOMKilled\",\n",
    "    \"event_message_Started\",\n",
    "    \"event_type_Error\",\n",
    "    \"event_type_Normal\",\n",
    "    \"event_type_Warning\",\n",
    "]\n",
    "\n",
    "df[\"event_message\"] = df[event_columns].idxmax(axis=1)  # get the event type\n",
    "df[\"event_message\"] = (\n",
    "    df[\"event_message\"].str.replace(\"event_message_\", \"\").str.replace(\"event_type_\", \"\")\n",
    ")\n",
    "df.drop(columns=event_columns, inplace=True)"
   ]
  },
  {
   "cell_type": "markdown",
   "metadata": {},
   "source": [
    "### 2.2. Encoding the Target Labels\n",
    "\n",
    "In this step, we transform the event labels (like `Normal`, `Warning`, `Error`) into numeric values. This transformation is necessary because machine learning models, including BERT, work with numerical data, not categorical strings.\n",
    "\n",
    "- **Label Encoding**: The `LabelEncoder` from `sklearn` is used to convert the string labels into integers (e.g., `Normal` -> 0, `Warning` -> 1, `Error` -> 2). This allows the model to understand and process the data.\n",
    "- **BERT Processing**: BERT and other machine learning models expect the target labels to be in a numerical format for tasks like classification. The encoding ensures that the model can learn to predict the correct event type.\n",
    "\n",
    "By encoding the labels, we make the dataset ready for training with a machine learning model."
   ]
  },
  {
   "cell_type": "code",
   "execution_count": 35,
   "metadata": {},
   "outputs": [],
   "source": [
    "label_encoder = LabelEncoder()\n",
    "df[\"event_message_encoded\"] = label_encoder.fit_transform(df[\"event_message\"])"
   ]
  },
  {
   "cell_type": "markdown",
   "metadata": {},
   "source": [
    "## 2.3. Selecting Features and Target Variable\n",
    "\n",
    "With the target variable (`event_message_encoded`) prepared, we now define the input features (`X`) and target variable (`y`) for training:\n",
    "- **Input Features**:\n",
    "  - Operational metrics that describe the state of the Kubernetes system, such as CPU and memory efficiency, disk I/O, and network latency.\n",
    "- **Target Variable**:\n",
    "  - The encoded `event_message_encoded` column, representing the type of event."
   ]
  },
  {
   "cell_type": "code",
   "execution_count": 36,
   "metadata": {},
   "outputs": [],
   "source": [
    "numerical_features = [\n",
    "    \"cpu_allocation_efficiency\",\n",
    "    \"memory_allocation_efficiency\",\n",
    "    \"disk_io\",\n",
    "    \"network_latency\",\n",
    "    \"node_temperature\",\n",
    "    \"node_cpu_usage\",\n",
    "    \"node_memory_usage\",\n",
    "]\n",
    "\n",
    "# Select features\n",
    "X = df[numerical_features]\n",
    "y = df[\"event_message_encoded\"]"
   ]
  },
  {
   "cell_type": "markdown",
   "metadata": {},
   "source": [
    "## 3. Tokenizing the Event Messages\n",
    "\n",
    "In this step, we prepare the text data (event messages) for input into the BERT model by using the **BERT tokenizer**. The tokenizer converts the raw text into token IDs that represent words or subwords, allowing BERT to process the text.\n",
    "\n",
    "- **BERT Tokenizer**: The tokenizer splits the event messages into subwords or words and then converts them into corresponding token IDs. This is necessary because BERT understands the text in the form of token IDs, not raw text.\n",
    "- **Padding**: Since BERT expects all input sequences to be of the same length, we apply padding to ensure that all event messages are of uniform length (e.g., 128 tokens). If a message is shorter, it is padded with zeros to match the desired length.\n",
    "- **Attention Masks**: Attention masks indicate which tokens are actual data (1) and which ones are padding (0). This helps the model focus on the real tokens during processing and ignore the padding tokens.\n",
    "\n",
    "By tokenizing, padding, and creating attention masks, we prepare the text data in a format that BERT can efficiently process for classification tasks."
   ]
  },
  {
   "cell_type": "markdown",
   "metadata": {},
   "source": [
    "### 3.1. Visualizing the Tokenization Process"
   ]
  },
  {
   "cell_type": "code",
   "execution_count": null,
   "metadata": {},
   "outputs": [
    {
     "data": {
      "application/vnd.jupyter.widget-view+json": {
       "model_id": "aa2fc2e18a654abe8507c80f249bbdfc",
       "version_major": 2,
       "version_minor": 0
      },
      "text/plain": [
       "Text(value='Pod restarted due to memory exhaustion.', description='Message:', layout=Layout(width='100%'))"
      ]
     },
     "metadata": {},
     "output_type": "display_data"
    },
    {
     "data": {
      "application/vnd.jupyter.widget-view+json": {
       "model_id": "40f4f756c6984f608ca501bd7096028e",
       "version_major": 2,
       "version_minor": 0
      },
      "text/plain": [
       "Button(button_style='info', description='Tokenize Message', style=ButtonStyle())"
      ]
     },
     "metadata": {},
     "output_type": "display_data"
    },
    {
     "name": "stdout",
     "output_type": "stream",
     "text": [
      "\n",
      "Tokenization Process:\n"
     ]
    },
    {
     "data": {
      "application/vnd.jupyter.widget-view+json": {
       "model_id": "c3e60318938a4defbe51fee723e4ea99",
       "version_major": 2,
       "version_minor": 0
      },
      "text/plain": [
       "HTML(value='<b>Raw Message:</b>')"
      ]
     },
     "metadata": {},
     "output_type": "display_data"
    },
    {
     "name": "stdout",
     "output_type": "stream",
     "text": [
      "Pod restarted due to memory exhaustion.\n"
     ]
    },
    {
     "data": {
      "application/vnd.jupyter.widget-view+json": {
       "model_id": "511bbc0da14f4be78acc5bc23af723b4",
       "version_major": 2,
       "version_minor": 0
      },
      "text/plain": [
       "HTML(value='<b>Tokens:</b>')"
      ]
     },
     "metadata": {},
     "output_type": "display_data"
    },
    {
     "name": "stdout",
     "output_type": "stream",
     "text": [
      "['pod', 'restarted', 'due', 'to', 'memory', 'exhaustion', '.']\n"
     ]
    },
    {
     "data": {
      "application/vnd.jupyter.widget-view+json": {
       "model_id": "067d4fb6041d445db71f5ca8b6a6189c",
       "version_major": 2,
       "version_minor": 0
      },
      "text/plain": [
       "HTML(value='<b>Token IDs:</b>')"
      ]
     },
     "metadata": {},
     "output_type": "display_data"
    },
    {
     "name": "stdout",
     "output_type": "stream",
     "text": [
      "[17491, 25606, 2349, 2000, 3638, 15575, 1012]\n"
     ]
    }
   ],
   "source": [
    "# from transformers import BertTokenizer\n",
    "from IPython.display import display\n",
    "import ipywidgets as widgets\n",
    "\n",
    "# Initialize the BERT tokenizer\n",
    "tokenizer = BertTokenizer.from_pretrained(\"bert-base-uncased\")\n",
    "\n",
    "# Sample message for tokenization\n",
    "default_message = \"Pod restarted due to memory exhaustion.\"\n",
    "\n",
    "# Create an input widget for dynamic message input\n",
    "message_input = widgets.Text(\n",
    "    value=default_message,\n",
    "    description=\"Message:\",\n",
    "    layout=widgets.Layout(width=\"100%\"),\n",
    ")\n",
    "\n",
    "# Function to visualize the tokenization process\n",
    "def visualize_tokenization(message):\n",
    "    tokens = tokenizer.tokenize(message)\n",
    "    token_ids = tokenizer.convert_tokens_to_ids(tokens)\n",
    "\n",
    "    # Display results\n",
    "    display(widgets.HTML(\"<b>Raw Message:</b>\"))\n",
    "    print(message)\n",
    "    display(widgets.HTML(\"<b>Tokens:</b>\"))\n",
    "    print(tokens)\n",
    "    display(widgets.HTML(\"<b>Token IDs:</b>\"))\n",
    "    print(token_ids)\n",
    "\n",
    "# Button to trigger tokenization visualization\n",
    "tokenize_button = widgets.Button(description=\"Tokenize Message\", button_style=\"info\")\n",
    "\n",
    "# Button event handler\n",
    "def on_tokenize_click(b):\n",
    "    print(\"\\nTokenization Process:\")\n",
    "    visualize_tokenization(message_input.value)\n",
    "\n",
    "\n",
    "# Attach the event handler and display\n",
    "tokenize_button.on_click(on_tokenize_click)\n",
    "display(message_input, tokenize_button)"
   ]
  },
  {
   "cell_type": "markdown",
   "metadata": {},
   "source": [
    "### 3.2. Tokenizing Text Data for BERT\n",
    "\n",
    "To prepare textual data for input into the BERT model, the raw text must be converted into a numerical format that the model can understand. This involves three key steps: **tokenization**, **padding**, and **attention masking**.\n",
    "\n",
    "#### 3.2.1 Initialize the BERT Tokenizer\n",
    "The tokenizer from the Hugging Face Transformers library is used to preprocess the text data. It breaks down the text into tokens (subwords) and converts these tokens into numerical IDs.\n",
    "\n",
    "- **Why \"bert-base-uncased\"?**\n",
    "  - This refers to the pretrained BERT model where the tokenizer converts all input text to lowercase and ignores casing distinctions (e.g., \"Pod\" becomes \"pod\")."
   ]
  },
  {
   "cell_type": "code",
   "execution_count": 38,
   "metadata": {},
   "outputs": [],
   "source": [
    "# Initialize BERT tokenizer\n",
    "tokenizer = BertTokenizer.from_pretrained(\"bert-base-uncased\")"
   ]
  },
  {
   "cell_type": "markdown",
   "metadata": {},
   "source": [
    "#### 3.2.2. Tokenize the Event Messages\n",
    "Each event message in the dataset is tokenized and converted into token IDs. Additionally, we:\n",
    "1. **Truncate**: Ensure sequences longer than the maximum length are truncated.\n",
    "2. **Pad**: Shorter sequences are padded to a fixed length (e.g., 128 tokens)."
   ]
  },
  {
   "cell_type": "code",
   "execution_count": 39,
   "metadata": {},
   "outputs": [],
   "source": [
    "# Tokenize the event message (for BERT)\n",
    "X_text = df[\"event_message\"].apply(\n",
    "    lambda x: tokenizer.encode(x, truncation=True, padding=\"max_length\", max_length=128)\n",
    ")"
   ]
  },
  {
   "cell_type": "markdown",
   "metadata": {},
   "source": [
    "#### 3.2.3. Padding and Creating Attention Masks**\n",
    "\n",
    "After tokenization, we prepare two key inputs for the BERT model:\n",
    "1. **Padded Sequences**:\n",
    "   - Ensures all sequences are of uniform length by appending zeros to the end of shorter sequences.\n",
    "   - This is necessary because BERT processes batches of data, which require uniform input sizes.\n",
    "2. **Attention Masks**:\n",
    "   - Indicates which tokens in the sequence are actual data (`1`) and which are padding (`0`).\n",
    "   - This helps BERT focus on the relevant tokens and ignore the padding during computation."
   ]
  },
  {
   "cell_type": "code",
   "execution_count": 40,
   "metadata": {},
   "outputs": [],
   "source": [
    "# Padding and attention mask\n",
    "def create_attention_mask(input_ids):\n",
    "    attention_mask = [1 if token_id > 0 else 0 for token_id in input_ids]\n",
    "    return attention_mask\n",
    "\n",
    "\n",
    "X_text_pad = torch.tensor(\n",
    "    [x + [0] * (128 - len(x)) if len(x) < 128 else x[:128] for x in X_text]\n",
    ")  # Padding\n",
    "attention_masks = torch.tensor([create_attention_mask(x) for x in X_text_pad])"
   ]
  },
  {
   "cell_type": "markdown",
   "metadata": {},
   "source": [
    "## 4. Training the BERT Model\n",
    "\n",
    "In this step, we initiate the **training process** for the BERT model. The model learns to classify Kubernetes events based on operational metrics by adjusting its weights to minimize prediction errors.\n",
    "\n",
    "### Key Components of the Training Process:\n",
    "- **Training Loop**: The model is trained over multiple epochs, where each epoch consists of several batches of data. During each epoch, the model learns from the training data and updates its parameters to improve performance.\n",
    "- **tqdm**: We use **tqdm** to track the progress of the training loop. It provides a progress bar that shows the number of batches processed, the current epoch, and key metrics such as loss and accuracy.\n",
    "- **Loss Function**: We use **CrossEntropyLoss** as the loss function. This function computes the difference between the predicted class probabilities and the actual labels, guiding the model in adjusting its parameters to minimize the error.\n",
    "- **Accuracy Calculation**: After each epoch, we calculate the model’s accuracy by comparing its predictions with the true labels. This helps us monitor the model's performance over time.\n",
    "\n",
    "During training, the model adjusts its internal weights to better understand how operational metrics influence event types, improving its ability to classify Kubernetes incidents accurately."
   ]
  },
  {
   "cell_type": "markdown",
   "metadata": {},
   "source": [
    "## 4.1. Splitting the Data into Training and Testing Sets\n",
    "\n",
    "In this step, we **split the dataset** into two parts: one for training the model and another for testing its performance. This is essential to evaluate how well the model generalizes to unseen data.\n",
    "\n",
    "### Key Actions:\n",
    "- **train_test_split**: We use the `train_test_split` function from **scikit-learn** to randomly divide the data into training and testing sets. The training set is used to teach the model, while the testing set is used to evaluate the model's performance. We allocate 80% of the data for training and 20% for testing, ensuring a balanced split.\n",
    "- **TensorDataset**: We convert the data into **TensorDataset** objects, which are compatible with PyTorch’s **DataLoader**. This allows the model to efficiently access the training and testing data during training and evaluation.\n",
    "- **DataLoader**: The **DataLoader** provides an iterable over the dataset, splitting it into batches of a specified size (32 in this case). This is crucial for handling large datasets, as it allows the model to process data in manageable chunks, updating its weights incrementally.\n",
    "\n",
    "This step prepares the data for feeding into the BERT model, ensuring that the model can efficiently process both the text data and the operational metrics."
   ]
  },
  {
   "cell_type": "code",
   "execution_count": 41,
   "metadata": {},
   "outputs": [],
   "source": [
    "# Split the data into training and testing sets\n",
    "X_train, X_test, y_train, y_test = train_test_split(\n",
    "    X_text_pad, y, test_size=0.2, random_state=42, shuffle=True\n",
    ")\n",
    "\n",
    "# Convert to TensorDataset for DataLoader\n",
    "train_data = TensorDataset(\n",
    "    X_train, attention_masks[: len(X_train)], torch.tensor(y_train.values)\n",
    ")\n",
    "test_data = TensorDataset(\n",
    "    X_test, attention_masks[len(X_train) :], torch.tensor(y_test.values)\n",
    ")\n",
    "\n",
    "# Create DataLoader\n",
    "train_dataloader = DataLoader(train_data, batch_size=32, shuffle=True)\n",
    "test_dataloader = DataLoader(test_data, batch_size=32)"
   ]
  },
  {
   "cell_type": "markdown",
   "metadata": {},
   "source": [
    "### 4.2. Initializing the BERT Model for Sequence Classification\n",
    "\n",
    "In this step, we initialize the **BERT model** to perform sequence classification, which is essential for classifying the Kubernetes event types based on the input data.\n",
    "\n",
    "### Key Actions:\n",
    "- **BERT Model Initialization**: We load a pre-trained version of **BERT** (`bert-base-uncased`) using the `BertForSequenceClassification` class. This class is specifically designed for text classification tasks. We set the `num_labels` argument to match the number of unique event types, ensuring the model outputs the correct number of class predictions (e.g., Normal, Warning, Error).\n",
    "- **Adam Optimizer**: The **AdamW** optimizer is used to update the model’s weights during training. We set the learning rate to `1e-5` to ensure the model learns effectively without overshooting the optimal weights. Adam is widely used for its ability to adapt the learning rate for each parameter.\n",
    "- **Moving to GPU/CPU**: The model is moved to the available device (GPU or CPU) using `model.to(device)`. This is important because training deep learning models can be computationally intensive, and using a GPU can significantly speed up the process.\n",
    "\n",
    "By setting up the BERT model in this way, we are ready to begin training it on the dataset to classify the Kubernetes events based on both the text and operational features."
   ]
  },
  {
   "cell_type": "code",
   "execution_count": 42,
   "metadata": {},
   "outputs": [
    {
     "name": "stderr",
     "output_type": "stream",
     "text": [
      "Some weights of BertForSequenceClassification were not initialized from the model checkpoint at bert-base-uncased and are newly initialized: ['classifier.bias', 'classifier.weight']\n",
      "You should probably TRAIN this model on a down-stream task to be able to use it for predictions and inference.\n",
      "/Users/gsampaio/redhat/ai/aiops_101/.venv/lib/python3.12/site-packages/transformers/optimization.py:591: FutureWarning: This implementation of AdamW is deprecated and will be removed in a future version. Use the PyTorch implementation torch.optim.AdamW instead, or set `no_deprecation_warning=True` to disable this warning\n",
      "  warnings.warn(\n"
     ]
    },
    {
     "data": {
      "text/plain": [
       "BertForSequenceClassification(\n",
       "  (bert): BertModel(\n",
       "    (embeddings): BertEmbeddings(\n",
       "      (word_embeddings): Embedding(30522, 768, padding_idx=0)\n",
       "      (position_embeddings): Embedding(512, 768)\n",
       "      (token_type_embeddings): Embedding(2, 768)\n",
       "      (LayerNorm): LayerNorm((768,), eps=1e-12, elementwise_affine=True)\n",
       "      (dropout): Dropout(p=0.1, inplace=False)\n",
       "    )\n",
       "    (encoder): BertEncoder(\n",
       "      (layer): ModuleList(\n",
       "        (0-11): 12 x BertLayer(\n",
       "          (attention): BertAttention(\n",
       "            (self): BertSdpaSelfAttention(\n",
       "              (query): Linear(in_features=768, out_features=768, bias=True)\n",
       "              (key): Linear(in_features=768, out_features=768, bias=True)\n",
       "              (value): Linear(in_features=768, out_features=768, bias=True)\n",
       "              (dropout): Dropout(p=0.1, inplace=False)\n",
       "            )\n",
       "            (output): BertSelfOutput(\n",
       "              (dense): Linear(in_features=768, out_features=768, bias=True)\n",
       "              (LayerNorm): LayerNorm((768,), eps=1e-12, elementwise_affine=True)\n",
       "              (dropout): Dropout(p=0.1, inplace=False)\n",
       "            )\n",
       "          )\n",
       "          (intermediate): BertIntermediate(\n",
       "            (dense): Linear(in_features=768, out_features=3072, bias=True)\n",
       "            (intermediate_act_fn): GELUActivation()\n",
       "          )\n",
       "          (output): BertOutput(\n",
       "            (dense): Linear(in_features=3072, out_features=768, bias=True)\n",
       "            (LayerNorm): LayerNorm((768,), eps=1e-12, elementwise_affine=True)\n",
       "            (dropout): Dropout(p=0.1, inplace=False)\n",
       "          )\n",
       "        )\n",
       "      )\n",
       "    )\n",
       "    (pooler): BertPooler(\n",
       "      (dense): Linear(in_features=768, out_features=768, bias=True)\n",
       "      (activation): Tanh()\n",
       "    )\n",
       "  )\n",
       "  (dropout): Dropout(p=0.1, inplace=False)\n",
       "  (classifier): Linear(in_features=768, out_features=5, bias=True)\n",
       ")"
      ]
     },
     "execution_count": 42,
     "metadata": {},
     "output_type": "execute_result"
    }
   ],
   "source": [
    "# Initialize the BERT model for sequence classification\n",
    "model = BertForSequenceClassification.from_pretrained(\n",
    "    \"bert-base-uncased\", num_labels=len(label_encoder.classes_)\n",
    ")\n",
    "\n",
    "# Use Adam optimizer\n",
    "optimizer = AdamW(model.parameters(), lr=1e-5)\n",
    "\n",
    "# Move the model to GPU if available\n",
    "model.to(device)"
   ]
  },
  {
   "cell_type": "markdown",
   "metadata": {},
   "source": [
    "### 4.3. Training the BERT Model\n",
    "\n",
    "We now train the BERT model using the prepared dataset. The training loop updates the model’s parameters and evaluates its performance over several epochs.\n",
    "\n",
    "### Key Steps\n",
    "1. **Optimizer and Loss Function**:\n",
    "   - **AdamW Optimizer**: Adjusts model weights with a learning rate of `2e-5`, enabling efficient convergence.\n",
    "   - **CrossEntropyLoss**: Calculates the difference between predicted and true labels, suitable for multi-class classification tasks like Kubernetes event prediction.\n",
    "\n",
    "2. **Epoch Loop**:\n",
    "   - The model is trained for **3 epochs** (or fewer in `fast_train` mode). Each epoch processes the entire training dataset, updating the model to minimize loss.\n",
    "\n",
    "3. **Training Data Loop**:\n",
    "   - For each batch of training data:\n",
    "     - Transfer data to the available device (`to(device)`).\n",
    "     - Perform a **forward pass** to compute predictions.\n",
    "     - Calculate the **loss** and perform a **backward pass** to update weights.\n",
    "\n",
    "4. **Performance Tracking**:\n",
    "   - Track **loss** and **accuracy** during training to monitor progress.\n",
    "   - After each epoch, display the average loss and accuracy.\n",
    "\n",
    "5. **Validation**:\n",
    "   - After every epoch, evaluate the model on the **test dataset** to measure generalization.\n",
    "   - Calculate **validation loss** and **accuracy**, similar to training."
   ]
  },
  {
   "cell_type": "code",
   "execution_count": 45,
   "metadata": {},
   "outputs": [
    {
     "name": "stderr",
     "output_type": "stream",
     "text": [
      "Training Epoch 1: 100%|██████████| 375/375 [08:47<00:00,  1.41s/batch]  \n"
     ]
    },
    {
     "name": "stdout",
     "output_type": "stream",
     "text": [
      "Epoch 1 - Loss: 0.0005, Accuracy: 1.0000\n"
     ]
    },
    {
     "name": "stderr",
     "output_type": "stream",
     "text": [
      "Validating: 100%|██████████| 94/94 [00:13<00:00,  6.90batch/s]\n"
     ]
    },
    {
     "name": "stdout",
     "output_type": "stream",
     "text": [
      "Validation Loss: 0.0001, Validation Accuracy: 1.0000\n"
     ]
    },
    {
     "name": "stderr",
     "output_type": "stream",
     "text": [
      "Training Epoch 2: 100%|██████████| 375/375 [02:45<00:00,  2.26batch/s]\n"
     ]
    },
    {
     "name": "stdout",
     "output_type": "stream",
     "text": [
      "Epoch 2 - Loss: 0.0001, Accuracy: 1.0000\n"
     ]
    },
    {
     "name": "stderr",
     "output_type": "stream",
     "text": [
      "Validating: 100%|██████████| 94/94 [00:12<00:00,  7.37batch/s]\n"
     ]
    },
    {
     "name": "stdout",
     "output_type": "stream",
     "text": [
      "Validation Loss: 0.0000, Validation Accuracy: 1.0000\n"
     ]
    },
    {
     "name": "stderr",
     "output_type": "stream",
     "text": [
      "Training Epoch 3: 100%|██████████| 375/375 [02:44<00:00,  2.28batch/s]\n"
     ]
    },
    {
     "name": "stdout",
     "output_type": "stream",
     "text": [
      "Epoch 3 - Loss: 0.0000, Accuracy: 1.0000\n"
     ]
    },
    {
     "name": "stderr",
     "output_type": "stream",
     "text": [
      "Validating: 100%|██████████| 94/94 [00:12<00:00,  7.41batch/s]"
     ]
    },
    {
     "name": "stdout",
     "output_type": "stream",
     "text": [
      "Validation Loss: 0.0000, Validation Accuracy: 1.0000\n"
     ]
    },
    {
     "name": "stderr",
     "output_type": "stream",
     "text": [
      "\n"
     ]
    }
   ],
   "source": [
    "from tqdm import tqdm  # Import tqdm\n",
    "\n",
    "model.to(device)\n",
    "\n",
    "# Set up optimizer and loss function\n",
    "optimizer = torch.optim.AdamW(model.parameters(), lr=2e-5)\n",
    "loss_fn = torch.nn.CrossEntropyLoss()\n",
    "\n",
    "# Set training parameters\n",
    "fast_train = False  # Enable fast training mode\n",
    "epochs = 1 if fast_train else 3  # Use fewer epochs in fast mode\n",
    "\n",
    "# Training loop with tqdm progress bar\n",
    "for epoch in range(epochs):\n",
    "    model.train()\n",
    "    running_loss = 0.0\n",
    "    correct_predictions = 0\n",
    "    total_predictions = 0\n",
    "\n",
    "    # Loop through training data with progress bar\n",
    "    for batch in tqdm(\n",
    "        train_dataloader, desc=f\"Training Epoch {epoch + 1}\", unit=\"batch\"\n",
    "    ):\n",
    "        # Get the data for the current batch\n",
    "        input_ids, attention_mask, labels = [item.to(device) for item in batch]\n",
    "\n",
    "        # Zero the gradients\n",
    "        optimizer.zero_grad()\n",
    "\n",
    "        # Forward pass\n",
    "        outputs = model(input_ids, attention_mask=attention_mask)\n",
    "        logits = outputs.logits\n",
    "\n",
    "        # Calculate loss\n",
    "        loss = loss_fn(logits, labels)\n",
    "\n",
    "        # Backward pass and optimization\n",
    "        loss.backward()\n",
    "        optimizer.step()\n",
    "\n",
    "        # Track loss and accuracy\n",
    "        running_loss += loss.item()\n",
    "\n",
    "        # Get predictions and calculate accuracy\n",
    "        preds = torch.argmax(logits, dim=-1)\n",
    "        correct_predictions += torch.sum(preds == labels)\n",
    "        total_predictions += labels.size(0)\n",
    "\n",
    "    # Calculate and print the epoch loss and accuracy\n",
    "    avg_loss = running_loss / len(train_dataloader)\n",
    "    accuracy = correct_predictions / total_predictions\n",
    "    print(f\"Epoch {epoch + 1} - Loss: {avg_loss:.4f}, Accuracy: {accuracy:.4f}\")\n",
    "\n",
    "    # Validation (optional)\n",
    "    model.eval()\n",
    "    with torch.no_grad():\n",
    "        val_loss = 0.0\n",
    "        val_correct_predictions = 0\n",
    "        val_total_predictions = 0\n",
    "        for batch in tqdm(test_dataloader, desc=\"Validating\", unit=\"batch\"):\n",
    "            input_ids, attention_mask, labels = [item.to(device) for item in batch]\n",
    "            outputs = model(input_ids, attention_mask=attention_mask)\n",
    "            logits = outputs.logits\n",
    "            loss = loss_fn(logits, labels)\n",
    "            val_loss += loss.item()\n",
    "\n",
    "            preds = torch.argmax(logits, dim=-1)\n",
    "            val_correct_predictions += torch.sum(preds == labels)\n",
    "            val_total_predictions += labels.size(0)\n",
    "\n",
    "        avg_val_loss = val_loss / len(test_dataloader)\n",
    "        val_accuracy = val_correct_predictions / val_total_predictions\n",
    "        print(\n",
    "            f\"Validation Loss: {avg_val_loss:.4f}, Validation Accuracy: {val_accuracy:.4f}\"\n",
    "        )"
   ]
  },
  {
   "cell_type": "markdown",
   "metadata": {},
   "source": [
    "## 5. Evaluating the Model\n",
    "\n",
    "Once the model is trained, it's crucial to evaluate its performance on the **test set**. This evaluation helps us understand how well the model generalizes to new, unseen data. The two primary tools we use for evaluating model performance are **classification reports** and **confusion matrices**."
   ]
  },
  {
   "cell_type": "code",
   "execution_count": 56,
   "metadata": {},
   "outputs": [
    {
     "name": "stdout",
     "output_type": "stream",
     "text": [
      "['OOMKilled' 'Killed' 'Killed' ... 'Failed' 'Completed' 'OOMKilled']\n"
     ]
    }
   ],
   "source": [
    "from sklearn.metrics import classification_report, confusion_matrix\n",
    "\n",
    "# Evaluate the model\n",
    "model.eval()\n",
    "y_pred = []\n",
    "y_true = []\n",
    "\n",
    "with torch.no_grad():\n",
    "    for batch in test_dataloader:\n",
    "        input_ids, attention_mask, labels = [b.to(device) for b in batch]\n",
    "        outputs = model(input_ids, attention_mask=attention_mask)\n",
    "        logits = outputs.logits\n",
    "\n",
    "        # Convert logits to predicted class labels\n",
    "        preds = torch.argmax(logits, dim=1)\n",
    "        y_pred.extend(preds.cpu().numpy())\n",
    "        y_true.extend(labels.cpu().numpy())\n",
    "\n",
    "# Mapping back the numeric predictions to original class labels\n",
    "y_pred_labels = label_encoder.inverse_transform(y_pred)\n",
    "y_true_labels = label_encoder.inverse_transform(y_true)"
   ]
  },
  {
   "cell_type": "markdown",
   "metadata": {},
   "source": [
    "### 5.1. Classification Report\n",
    "\n",
    "- The classification report provides a detailed breakdown of the model’s performance across each class (in this case, the different event types).\n",
    "- It includes metrics like **precision**, **recall**, **f1-score**, and **support**:\n",
    "    - **Precision**: The percentage of positive predictions that are correct.\n",
    "    - **Recall**: The percentage of actual positive instances that were correctly identified.\n",
    "    - **F1-score**: The harmonic mean of precision and recall, providing a single metric that balances both.\n",
    "    - **Support**: The number of occurrences of each class in the dataset."
   ]
  },
  {
   "cell_type": "code",
   "execution_count": 47,
   "metadata": {},
   "outputs": [
    {
     "name": "stdout",
     "output_type": "stream",
     "text": [
      "              precision    recall  f1-score   support\n",
      "\n",
      "   Completed       1.00      1.00      1.00       608\n",
      "      Failed       1.00      1.00      1.00       593\n",
      "      Killed       1.00      1.00      1.00       574\n",
      "   OOMKilled       1.00      1.00      1.00       621\n",
      "     Started       1.00      1.00      1.00       604\n",
      "\n",
      "    accuracy                           1.00      3000\n",
      "   macro avg       1.00      1.00      1.00      3000\n",
      "weighted avg       1.00      1.00      1.00      3000\n",
      "\n"
     ]
    }
   ],
   "source": [
    "# Classification Report\n",
    "print(classification_report(y_true_labels, y_pred_labels))"
   ]
  },
  {
   "cell_type": "markdown",
   "metadata": {},
   "source": [
    "### 5.2. Confusion Matrix:\n",
    "\n",
    "- The confusion matrix visualizes the model’s prediction errors and successes. It shows how many instances from each class were correctly predicted (True Positives and True Negatives) and how many were misclassified (False Positives and False Negatives).\n",
    "- By examining the confusion matrix, we can identify which event types the model struggles to classify, giving insight into areas where the model needs improvement."
   ]
  },
  {
   "cell_type": "code",
   "execution_count": 60,
   "metadata": {},
   "outputs": [
    {
     "data": {
      "image/png": "[encoded data removed]",
      "text/plain": [
       "<Figure size 1000x800 with 1 Axes>"
      ]
     },
     "metadata": {},
     "output_type": "display_data"
    }
   ],
   "source": [
    "import seaborn as sns\n",
    "\n",
    "# Replace 'label_encoder.classes_' with your class names if you have them as a list\n",
    "class_names = label_encoder.classes_  # Real class labels from the LabelEncoder\n",
    "\n",
    "# Generate confusion matrix\n",
    "conf_matrix = confusion_matrix(y_true_labels, y_pred_labels)\n",
    "\n",
    "# Plot the confusion matrix with real labels\n",
    "plt.figure(figsize=(10, 8))\n",
    "sns.heatmap(\n",
    "    conf_matrix,\n",
    "    annot=True,\n",
    "    fmt=\"d\",\n",
    "    cmap=\"Blues\",\n",
    "    cbar=False,\n",
    "    xticklabels=class_names,  # Add class names as x-axis labels\n",
    "    yticklabels=class_names,  # Add class names as y-axis labels\n",
    "    annot_kws={\"size\": 12},  # Adjust annotation size\n",
    ")\n",
    "\n",
    "# Add labels and title\n",
    "plt.xlabel(\"Predicted Label\", fontsize=14)\n",
    "plt.ylabel(\"True Label\", fontsize=14)\n",
    "plt.title(\"Confusion Matrix\", fontsize=16)\n",
    "plt.show()"
   ]
  },
  {
   "cell_type": "markdown",
   "metadata": {},
   "source": [
    "## 6. Conclusion\n",
    "\n",
    "In this notebook, we explored how to use **BERT**, a state-of-the-art transformer model, to classify Kubernetes events based on operational metrics and event logs. By leveraging BERT’s ability to understand contextual relationships in text, we demonstrated how transformer models can enhance the accuracy and robustness of event classification tasks in Kubernetes operations.\n",
    "\n",
    "### Key Highlights\n",
    "1. **Effective Use of Transformers**:\n",
    "   - BERT’s self-attention mechanism allows it to capture complex dependencies in event messages, enabling more accurate predictions compared to traditional ML models.\n",
    "2. **Comprehensive Model Evaluation**:\n",
    "   - We evaluated the fine-tuned BERT model using **classification reports** and **confusion matrices**, revealing both strengths and areas for improvement in classification accuracy.\n",
    "3. **Operational Insights**:\n",
    "   - The fine-tuned model provided actionable insights by accurately classifying Kubernetes events like `Warning` and `Error`, which are critical for maintaining cluster health and uptime.\n",
    "\n",
    "### What's Next?\n",
    "In the next notebook, we will:\n",
    "1. **Explore Advanced Transformers**:\n",
    "   - Investigate newer architectures like **RoBERTa** and **GPT** to push the boundaries of classification accuracy.\n",
    "2. **Implement Custom Architectures**:\n",
    "   - Experiment with hybrid models that combine transformer capabilities with domain-specific feature engineering.\n",
    "3. **Focus on Real-World Integration**:\n",
    "   - Develop practical workflows to integrate transformer models with Kubernetes monitoring and alerting systems for automated decision-making.\n"
   ]
  }
 ],
 "metadata": {
  "kernelspec": {
   "display_name": ".venv",
   "language": "python",
   "name": "python3"
  },
  "language_info": {
   "codemirror_mode": {
    "name": "ipython",
    "version": 3
   },
   "file_extension": ".py",
   "mimetype": "text/x-python",
   "name": "python",
   "nbconvert_exporter": "python",
   "pygments_lexer": "ipython3",
   "version": "3.12.4"
  }
 },
 "nbformat": 4,
 "nbformat_minor": 2
}
