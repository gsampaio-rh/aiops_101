{
 "cells": [
  {
   "cell_type": "markdown",
   "metadata": {},
   "source": [
    "# 8. Transformers for Kubernetes Operations: Enhancing Prediction Accuracy with NLP\n",
    "\n",
    "## Introduction\n",
    "\n",
    "Welcome to the 8th notebook in our series on **AI for Kubernetes operations**! In the previous notebook, we explored the basics of **machine learning** and applied a **Decision Tree Classifier** to predict Kubernetes incidents. Now, we’ll dive deeper into a more advanced approach using **transformer models** like **BERT** to enhance the prediction accuracy for Kubernetes incidents.\n",
    "\n",
    "Transformer models have revolutionized the field of Natural Language Processing (NLP) and can also be leveraged for tasks like classifying Kubernetes events based on operational metrics and logs. In this notebook, we will explore how to fine-tune a pre-trained transformer model, BERT (Bidirectional Encoder Representations from Transformers), for the task of event classification in Kubernetes operations.\n",
    "\n",
    "By using BERT, we aim to leverage its ability to understand contextual relationships in text-based data to classify events more accurately and robustly.\n",
    "\n",
    "### Objectives\n",
    "\n",
    "By the end of this notebook, you will be able to:\n",
    "- Understand the key concepts behind transformer models and BERT.\n",
    "- Fine-tune a pre-trained BERT model on Kubernetes operational data.\n",
    "- Evaluate the model's performance using standard classification metrics.\n",
    "- Interpret results and visualize the predictions using confusion matrices and classification reports.\n",
    "\n",
    "### Key Features\n",
    "\n",
    "This notebook introduces:\n",
    "- An introduction to **transformer models** and their applications in AI and NLP.\n",
    "- A hands-on guide to **fine-tuning BERT** on Kubernetes operational data for event classification.\n",
    "- Evaluation and interpretation of model performance:\n",
    "  - Classification reports to understand model accuracy and performance.\n",
    "  - Confusion matrices to identify misclassifications and improve model performance.\n"
   ]
  },
  {
   "cell_type": "markdown",
   "metadata": {},
   "source": [
    "## 1. Installing the Required Libraries\n",
    "\n",
    "Before we start, we need to install the necessary libraries. These include **transformers**, **torch**, and **scikit-learn**, which are required to build and fine-tune the BERT model. Run the following cell to install these libraries:"
   ]
  },
  {
   "cell_type": "code",
   "execution_count": 80,
   "metadata": {},
   "outputs": [
    {
     "name": "stdout",
     "output_type": "stream",
     "text": [
      "Note: you may need to restart the kernel to use updated packages.\n"
     ]
    }
   ],
   "source": [
    "%pip install transformers torch scikit-learn matplotlib seaborn --quiet"
   ]
  },
  {
   "cell_type": "markdown",
   "metadata": {},
   "source": [
    "### System Information\n",
    "\n",
    "In this section, we check the environment in which we are running the code. This includes the Python version, PyTorch version, and whether a compatible GPU or Apple MPS is available.\n",
    "\n",
    "This helps us ensure that we are leveraging the best computational resources for model training and evaluation."
   ]
  },
  {
   "cell_type": "code",
   "execution_count": 81,
   "metadata": {},
   "outputs": [
    {
     "name": "stdout",
     "output_type": "stream",
     "text": [
      "Python Platform: macOS-15.2-arm64-arm-64bit\n",
      "PyTorch Version: 2.5.1\n",
      "\n",
      "Python 3.12.4 (main, Jun  6 2024, 18:26:44) [Clang 15.0.0 (clang-1500.3.9.4)]\n",
      "Pandas 2.2.3\n",
      "Scikit-Learn 1.6.1\n",
      "NVIDIA/CUDA GPU is NOT AVAILABLE\n",
      "MPS (Apple Metal) is AVAILABLE\n",
      "Target device is mps\n"
     ]
    }
   ],
   "source": [
    "# What version of Python do you have?\n",
    "import sys\n",
    "import platform\n",
    "import pandas as pd\n",
    "import sklearn as sk\n",
    "import torch\n",
    "import numpy as np\n",
    "from sklearn.preprocessing import LabelEncoder\n",
    "from sklearn.model_selection import train_test_split\n",
    "from torch.utils.data import DataLoader, TensorDataset\n",
    "from transformers import (\n",
    "    BertTokenizer,\n",
    "    BertForSequenceClassification,\n",
    "    AdamW,\n",
    ")\n",
    "\n",
    "has_gpu = torch.cuda.is_available()\n",
    "has_mps = torch.backends.mps.is_built()\n",
    "device = \"mps\" if has_mps else \"cuda\" if torch.cuda.is_available() else \"cpu\"\n",
    "\n",
    "print(f\"Python Platform: {platform.platform()}\")\n",
    "print(f\"PyTorch Version: {torch.__version__}\")\n",
    "print()\n",
    "print(f\"Python {sys.version}\")\n",
    "print(f\"Pandas {pd.__version__}\")\n",
    "print(f\"Scikit-Learn {sk.__version__}\")\n",
    "print(\"NVIDIA/CUDA GPU is\", \"available\" if has_gpu else \"NOT AVAILABLE\")\n",
    "print(\"MPS (Apple Metal) is\", \"AVAILABLE\" if has_mps else \"NOT AVAILABLE\")\n",
    "print(f\"Target device is {device}\")\n",
    "\n",
    "torch.cuda.empty_cache()"
   ]
  },
  {
   "cell_type": "markdown",
   "metadata": {},
   "source": [
    "## 2. Loading and Preparing the Dataset\n",
    "\n",
    "In this section, we load the preprocessed Kubernetes dataset that contains event information and operational metrics. We combine the relevant event columns into a single target column (`event_message`) and encode it for use with BERT. \n",
    "\n",
    "This dataset will be used to fine-tune the BERT model for classifying Kubernetes events."
   ]
  },
  {
   "cell_type": "code",
   "execution_count": 82,
   "metadata": {},
   "outputs": [],
   "source": [
    "# Load dataset\n",
    "file_path = \"data/preprocessed_kubernetes_data.csv\"  # Update with the correct path\n",
    "df = pd.read_csv(file_path, parse_dates=[\"timestamp\"], index_col=\"timestamp\")"
   ]
  },
  {
   "cell_type": "markdown",
   "metadata": {},
   "source": [
    "## 3. Encoding the Target Labels\n",
    "\n",
    "In this step, we transform the event labels (like `Normal`, `Warning`, `Error`) into numeric values. This transformation is necessary because machine learning models, including BERT, work with numerical data, not categorical strings.\n",
    "\n",
    "- **Label Encoding**: The `LabelEncoder` from `sklearn` is used to convert the string labels into integers (e.g., `Normal` -> 0, `Warning` -> 1, `Error` -> 2). This allows the model to understand and process the data.\n",
    "- **BERT Processing**: BERT and other machine learning models expect the target labels to be in a numerical format for tasks like classification. The encoding ensures that the model can learn to predict the correct event type.\n",
    "\n",
    "By encoding the labels, we make the dataset ready for training with a machine learning model."
   ]
  },
  {
   "cell_type": "code",
   "execution_count": 83,
   "metadata": {},
   "outputs": [],
   "source": [
    "# Combine event-related columns into a single target column\n",
    "event_columns = [\n",
    "    \"event_message_Completed\",\n",
    "    \"event_message_Failed\",\n",
    "    \"event_message_Killed\",\n",
    "    \"event_message_OOMKilled\",\n",
    "    \"event_message_Started\",\n",
    "    \"event_type_Error\",\n",
    "    \"event_type_Normal\",\n",
    "    \"event_type_Warning\",\n",
    "]\n",
    "\n",
    "df[\"event_message\"] = df[event_columns].idxmax(axis=1)  # get the event type\n",
    "df[\"event_message\"] = (\n",
    "    df[\"event_message\"].str.replace(\"event_message_\", \"\").str.replace(\"event_type_\", \"\")\n",
    ")\n",
    "df.drop(columns=event_columns, inplace=True)"
   ]
  },
  {
   "cell_type": "code",
   "execution_count": 84,
   "metadata": {},
   "outputs": [],
   "source": [
    "label_encoder = LabelEncoder()\n",
    "df[\"event_message_encoded\"] = label_encoder.fit_transform(df[\"event_message\"])"
   ]
  },
  {
   "cell_type": "markdown",
   "metadata": {},
   "source": [
    "## 4. Selecting Features and Target Variable\n",
    "\n",
    "In this section, we define the **features** (inputs) and the **target variable** (output) that our model will use for training.\n",
    "\n",
    "- **Feature Selection**: The features describe the state of the system and its health. By selecting the right features, the model can learn patterns that help predict Kubernetes events.\n",
    "- **Target Variable**: This tells the model what to predict (event type), and it is encoded numerically to make the data easier to work with.\n",
    "\n",
    "Together, these features and the target variable provide the necessary data for the model to train and make predictions on Kubernetes events.\n",
    "\n",
    "### Numerical Features\n",
    "The features selected are important Kubernetes operational metrics, including:\n",
    "- `cpu_allocation_efficiency`: How efficiently CPU resources are used.\n",
    "- `memory_allocation_efficiency`: How efficiently memory is used.\n",
    "- `disk_io`: Rate of data transfer to/from the disk.\n",
    "- `network_latency`: Delay in network communication.\n",
    "- `node_temperature`: Temperature of the node, which can affect performance.\n",
    "- `node_cpu_usage`: Percentage of CPU used on the node.\n",
    "- `node_memory_usage`: Amount of memory used on the node.\n",
    "\n",
    "These features are essential because they help the model understand the conditions in which various Kubernetes events (such as `Normal`, `Warning`, or `Error`) occur.\n",
    "\n",
    "### Target Variable\n",
    "The target variable, `event_message_encoded`, represents the event type (e.g., `Normal`, `Warning`, `Error`). The target is encoded into numerical values so that the model can learn to predict event types."
   ]
  },
  {
   "cell_type": "code",
   "execution_count": 85,
   "metadata": {},
   "outputs": [],
   "source": [
    "numerical_features = [\n",
    "    \"cpu_allocation_efficiency\",\n",
    "    \"memory_allocation_efficiency\",\n",
    "    \"disk_io\",\n",
    "    \"network_latency\",\n",
    "    \"node_temperature\",\n",
    "    \"node_cpu_usage\",\n",
    "    \"node_memory_usage\",\n",
    "]\n",
    "\n",
    "# Select features\n",
    "X = df[numerical_features]\n",
    "y = df[\"event_message_encoded\"]"
   ]
  },
  {
   "cell_type": "markdown",
   "metadata": {},
   "source": [
    "## 5. Tokenizing the Event Messages\n",
    "\n",
    "In this step, we prepare the text data (event messages) for input into the BERT model by using the **BERT tokenizer**. The tokenizer converts the raw text into token IDs that represent words or subwords, allowing BERT to process the text.\n",
    "\n",
    "- **BERT Tokenizer**: The tokenizer splits the event messages into subwords or words and then converts them into corresponding token IDs. This is necessary because BERT understands the text in the form of token IDs, not raw text.\n",
    "- **Padding**: Since BERT expects all input sequences to be of the same length, we apply padding to ensure that all event messages are of uniform length (e.g., 128 tokens). If a message is shorter, it is padded with zeros to match the desired length.\n",
    "- **Attention Masks**: Attention masks indicate which tokens are actual data (1) and which ones are padding (0). This helps the model focus on the real tokens during processing and ignore the padding tokens.\n",
    "\n",
    "By tokenizing, padding, and creating attention masks, we prepare the text data in a format that BERT can efficiently process for classification tasks."
   ]
  },
  {
   "cell_type": "code",
   "execution_count": 86,
   "metadata": {},
   "outputs": [],
   "source": [
    "# Initialize BERT tokenizer\n",
    "tokenizer = BertTokenizer.from_pretrained(\"bert-base-uncased\")\n",
    "\n",
    "# Tokenize the event message (for BERT)\n",
    "X_text = df[\"event_message\"].apply(\n",
    "    lambda x: tokenizer.encode(x, truncation=True, padding=\"max_length\", max_length=128)\n",
    ")"
   ]
  },
  {
   "cell_type": "code",
   "execution_count": 87,
   "metadata": {},
   "outputs": [],
   "source": [
    "# Padding and attention mask\n",
    "def create_attention_mask(input_ids):\n",
    "    attention_mask = [1 if token_id > 0 else 0 for token_id in input_ids]\n",
    "    return attention_mask\n",
    "\n",
    "\n",
    "X_text_pad = torch.tensor(\n",
    "    [x + [0] * (128 - len(x)) if len(x) < 128 else x[:128] for x in X_text]\n",
    ")  # Padding\n",
    "attention_masks = torch.tensor([create_attention_mask(x) for x in X_text_pad])"
   ]
  },
  {
   "cell_type": "markdown",
   "metadata": {},
   "source": [
    "## 6. Training the BERT Model\n",
    "\n",
    "In this step, we initiate the **training process** for the BERT model. The model learns to classify Kubernetes events based on operational metrics by adjusting its weights to minimize prediction errors.\n",
    "\n",
    "### Key Components of the Training Process:\n",
    "- **Training Loop**: The model is trained over multiple epochs, where each epoch consists of several batches of data. During each epoch, the model learns from the training data and updates its parameters to improve performance.\n",
    "- **tqdm**: We use **tqdm** to track the progress of the training loop. It provides a progress bar that shows the number of batches processed, the current epoch, and key metrics such as loss and accuracy.\n",
    "- **Loss Function**: We use **CrossEntropyLoss** as the loss function. This function computes the difference between the predicted class probabilities and the actual labels, guiding the model in adjusting its parameters to minimize the error.\n",
    "- **Accuracy Calculation**: After each epoch, we calculate the model’s accuracy by comparing its predictions with the true labels. This helps us monitor the model's performance over time.\n",
    "\n",
    "During training, the model adjusts its internal weights to better understand how operational metrics influence event types, improving its ability to classify Kubernetes incidents accurately."
   ]
  },
  {
   "cell_type": "markdown",
   "metadata": {},
   "source": [
    "## 6.1. Splitting the Data into Training and Testing Sets\n",
    "\n",
    "In this step, we **split the dataset** into two parts: one for training the model and another for testing its performance. This is essential to evaluate how well the model generalizes to unseen data.\n",
    "\n",
    "### Key Actions:\n",
    "- **train_test_split**: We use the `train_test_split` function from **scikit-learn** to randomly divide the data into training and testing sets. The training set is used to teach the model, while the testing set is used to evaluate the model's performance. We allocate 80% of the data for training and 20% for testing, ensuring a balanced split.\n",
    "  \n",
    "- **TensorDataset**: We convert the data into **TensorDataset** objects, which are compatible with PyTorch’s **DataLoader**. This allows the model to efficiently access the training and testing data during training and evaluation.\n",
    "  \n",
    "- **DataLoader**: The **DataLoader** provides an iterable over the dataset, splitting it into batches of a specified size (32 in this case). This is crucial for handling large datasets, as it allows the model to process data in manageable chunks, updating its weights incrementally.\n",
    "\n",
    "This step prepares the data for feeding into the BERT model, ensuring that the model can efficiently process both the text data and the operational metrics."
   ]
  },
  {
   "cell_type": "code",
   "execution_count": 88,
   "metadata": {},
   "outputs": [],
   "source": [
    "# Split the data into training and testing sets\n",
    "X_train, X_test, y_train, y_test = train_test_split(\n",
    "    X_text_pad, y, test_size=0.2, random_state=42, shuffle=True\n",
    ")\n",
    "\n",
    "# Convert to TensorDataset for DataLoader\n",
    "train_data = TensorDataset(\n",
    "    X_train, attention_masks[: len(X_train)], torch.tensor(y_train.values)\n",
    ")\n",
    "test_data = TensorDataset(\n",
    "    X_test, attention_masks[len(X_train) :], torch.tensor(y_test.values)\n",
    ")\n",
    "\n",
    "# Create DataLoader\n",
    "train_dataloader = DataLoader(train_data, batch_size=32, shuffle=True)\n",
    "test_dataloader = DataLoader(test_data, batch_size=32)"
   ]
  },
  {
   "cell_type": "markdown",
   "metadata": {},
   "source": [
    "## 6.2. Initializing the BERT Model for Sequence Classification\n",
    "\n",
    "In this step, we initialize the **BERT model** to perform sequence classification, which is essential for classifying the Kubernetes event types based on the input data.\n",
    "\n",
    "### Key Actions:\n",
    "- **BERT Model Initialization**: We load a pre-trained version of **BERT** (`bert-base-uncased`) using the `BertForSequenceClassification` class. This class is specifically designed for text classification tasks. We set the `num_labels` argument to match the number of unique event types, ensuring the model outputs the correct number of class predictions (e.g., Normal, Warning, Error).\n",
    "  \n",
    "- **Adam Optimizer**: The **AdamW** optimizer is used to update the model’s weights during training. We set the learning rate to `1e-5` to ensure the model learns effectively without overshooting the optimal weights. Adam is widely used for its ability to adapt the learning rate for each parameter.\n",
    "  \n",
    "- **Moving to GPU/CPU**: The model is moved to the available device (GPU or CPU) using `model.to(device)`. This is important because training deep learning models can be computationally intensive, and using a GPU can significantly speed up the process.\n",
    "\n",
    "By setting up the BERT model in this way, we are ready to begin training it on the dataset to classify the Kubernetes events based on both the text and operational features."
   ]
  },
  {
   "cell_type": "code",
   "execution_count": 89,
   "metadata": {},
   "outputs": [
    {
     "name": "stderr",
     "output_type": "stream",
     "text": [
      "Some weights of BertForSequenceClassification were not initialized from the model checkpoint at bert-base-uncased and are newly initialized: ['classifier.bias', 'classifier.weight']\n",
      "You should probably TRAIN this model on a down-stream task to be able to use it for predictions and inference.\n",
      "/Users/gsampaio/redhat/ai/aiops_101/.venv/lib/python3.12/site-packages/transformers/optimization.py:591: FutureWarning: This implementation of AdamW is deprecated and will be removed in a future version. Use the PyTorch implementation torch.optim.AdamW instead, or set `no_deprecation_warning=True` to disable this warning\n",
      "  warnings.warn(\n"
     ]
    },
    {
     "data": {
      "text/plain": [
       "BertForSequenceClassification(\n",
       "  (bert): BertModel(\n",
       "    (embeddings): BertEmbeddings(\n",
       "      (word_embeddings): Embedding(30522, 768, padding_idx=0)\n",
       "      (position_embeddings): Embedding(512, 768)\n",
       "      (token_type_embeddings): Embedding(2, 768)\n",
       "      (LayerNorm): LayerNorm((768,), eps=1e-12, elementwise_affine=True)\n",
       "      (dropout): Dropout(p=0.1, inplace=False)\n",
       "    )\n",
       "    (encoder): BertEncoder(\n",
       "      (layer): ModuleList(\n",
       "        (0-11): 12 x BertLayer(\n",
       "          (attention): BertAttention(\n",
       "            (self): BertSdpaSelfAttention(\n",
       "              (query): Linear(in_features=768, out_features=768, bias=True)\n",
       "              (key): Linear(in_features=768, out_features=768, bias=True)\n",
       "              (value): Linear(in_features=768, out_features=768, bias=True)\n",
       "              (dropout): Dropout(p=0.1, inplace=False)\n",
       "            )\n",
       "            (output): BertSelfOutput(\n",
       "              (dense): Linear(in_features=768, out_features=768, bias=True)\n",
       "              (LayerNorm): LayerNorm((768,), eps=1e-12, elementwise_affine=True)\n",
       "              (dropout): Dropout(p=0.1, inplace=False)\n",
       "            )\n",
       "          )\n",
       "          (intermediate): BertIntermediate(\n",
       "            (dense): Linear(in_features=768, out_features=3072, bias=True)\n",
       "            (intermediate_act_fn): GELUActivation()\n",
       "          )\n",
       "          (output): BertOutput(\n",
       "            (dense): Linear(in_features=3072, out_features=768, bias=True)\n",
       "            (LayerNorm): LayerNorm((768,), eps=1e-12, elementwise_affine=True)\n",
       "            (dropout): Dropout(p=0.1, inplace=False)\n",
       "          )\n",
       "        )\n",
       "      )\n",
       "    )\n",
       "    (pooler): BertPooler(\n",
       "      (dense): Linear(in_features=768, out_features=768, bias=True)\n",
       "      (activation): Tanh()\n",
       "    )\n",
       "  )\n",
       "  (dropout): Dropout(p=0.1, inplace=False)\n",
       "  (classifier): Linear(in_features=768, out_features=5, bias=True)\n",
       ")"
      ]
     },
     "execution_count": 89,
     "metadata": {},
     "output_type": "execute_result"
    }
   ],
   "source": [
    "# Initialize the BERT model for sequence classification\n",
    "model = BertForSequenceClassification.from_pretrained(\n",
    "    \"bert-base-uncased\", num_labels=len(label_encoder.classes_)\n",
    ")\n",
    "\n",
    "# Use Adam optimizer\n",
    "optimizer = AdamW(model.parameters(), lr=1e-5)\n",
    "\n",
    "# Move the model to GPU if available\n",
    "model.to(device)"
   ]
  },
  {
   "cell_type": "markdown",
   "metadata": {},
   "source": [
    "## 6.3. Training the BERT Model\n",
    "\n",
    "Now, we proceed with the training of the BERT model using the dataset. The training loop involves multiple key steps to update the model’s parameters and evaluate its performance.\n",
    "\n",
    "### Key Steps:\n",
    "1. **Optimizer and Loss Function Setup**:\n",
    "   - We use the **AdamW** optimizer with a learning rate of `2e-5`. This optimizer adapts the learning rate for each model parameter, helping the model converge efficiently during training.\n",
    "   - The **CrossEntropyLoss** function is chosen as the loss function, which is suitable for multi-class classification tasks like predicting the Kubernetes event type.\n",
    "\n",
    "2. **Epoch Loop**:\n",
    "   - The model is trained for a total of **3 epochs**. Each epoch represents a complete pass through the training data. During each epoch, the model learns from the training data and adjusts its weights to minimize the loss.\n",
    "   \n",
    "3. **Training Data Loop**:\n",
    "   - For each batch in the **training data**, we:\n",
    "     - Transfer the data to the GPU or CPU (`to(device)`).\n",
    "     - Perform a **forward pass** through the model to get the predicted logits (raw outputs from the model).\n",
    "     - **Calculate the loss** by comparing the predicted logits with the true labels.\n",
    "     - Perform a **backward pass** to compute gradients and **update the model's weights** using the optimizer.\n",
    "\n",
    "4. **Tracking Performance**:\n",
    "   - We track the running loss and accuracy throughout the training loop. The **accuracy** is calculated by comparing the predicted labels (`preds`) with the true labels (`labels`) in each batch.\n",
    "   - After each epoch, the average loss and accuracy for the epoch are displayed, providing feedback on the model’s progress.\n",
    "\n",
    "5. **Validation (optional)**:\n",
    "   - After training each epoch, we evaluate the model on the **test dataset**. This helps check how well the model generalizes to unseen data.\n",
    "   - We calculate **validation loss** and **validation accuracy** in the same way as during training.\n",
    "\n",
    "This process allows the model to progressively learn from the data, improving its ability to classify Kubernetes events correctly over time."
   ]
  },
  {
   "cell_type": "code",
   "execution_count": 90,
   "metadata": {},
   "outputs": [
    {
     "name": "stderr",
     "output_type": "stream",
     "text": [
      "Training Epoch 1: 100%|██████████| 375/375 [02:50<00:00,  2.20batch/s]\n"
     ]
    },
    {
     "name": "stdout",
     "output_type": "stream",
     "text": [
      "Epoch 1 - Loss: 0.1112, Accuracy: 0.9852\n"
     ]
    },
    {
     "name": "stderr",
     "output_type": "stream",
     "text": [
      "Validating: 100%|██████████| 94/94 [00:13<00:00,  6.93batch/s]\n"
     ]
    },
    {
     "name": "stdout",
     "output_type": "stream",
     "text": [
      "Validation Loss: 0.0034, Validation Accuracy: 1.0000\n"
     ]
    },
    {
     "name": "stderr",
     "output_type": "stream",
     "text": [
      "Training Epoch 2: 100%|██████████| 375/375 [03:18<00:00,  1.89batch/s]\n"
     ]
    },
    {
     "name": "stdout",
     "output_type": "stream",
     "text": [
      "Epoch 2 - Loss: 0.0031, Accuracy: 1.0000\n"
     ]
    },
    {
     "name": "stderr",
     "output_type": "stream",
     "text": [
      "Validating: 100%|██████████| 94/94 [00:14<00:00,  6.33batch/s]\n"
     ]
    },
    {
     "name": "stdout",
     "output_type": "stream",
     "text": [
      "Validation Loss: 0.0012, Validation Accuracy: 1.0000\n"
     ]
    },
    {
     "name": "stderr",
     "output_type": "stream",
     "text": [
      "Training Epoch 3: 100%|██████████| 375/375 [03:19<00:00,  1.88batch/s]\n"
     ]
    },
    {
     "name": "stdout",
     "output_type": "stream",
     "text": [
      "Epoch 3 - Loss: 0.0014, Accuracy: 1.0000\n"
     ]
    },
    {
     "name": "stderr",
     "output_type": "stream",
     "text": [
      "Validating: 100%|██████████| 94/94 [00:15<00:00,  5.90batch/s]"
     ]
    },
    {
     "name": "stdout",
     "output_type": "stream",
     "text": [
      "Validation Loss: 0.0007, Validation Accuracy: 1.0000\n"
     ]
    },
    {
     "name": "stderr",
     "output_type": "stream",
     "text": [
      "\n"
     ]
    }
   ],
   "source": [
    "from tqdm import tqdm  # Import tqdm\n",
    "\n",
    "model.to(device)\n",
    "\n",
    "# Set up optimizer and loss function\n",
    "optimizer = torch.optim.AdamW(model.parameters(), lr=2e-5)\n",
    "loss_fn = torch.nn.CrossEntropyLoss()\n",
    "\n",
    "# Number of epochs\n",
    "epochs = 3\n",
    "\n",
    "# Training loop with tqdm progress bar\n",
    "for epoch in range(epochs):\n",
    "    model.train()\n",
    "    running_loss = 0.0\n",
    "    correct_predictions = 0\n",
    "    total_predictions = 0\n",
    "\n",
    "    # Loop through training data with progress bar\n",
    "    for batch in tqdm(\n",
    "        train_dataloader, desc=f\"Training Epoch {epoch + 1}\", unit=\"batch\"\n",
    "    ):\n",
    "        # Get the data for the current batch\n",
    "        input_ids, attention_mask, labels = [item.to(device) for item in batch]\n",
    "\n",
    "        # Zero the gradients\n",
    "        optimizer.zero_grad()\n",
    "\n",
    "        # Forward pass\n",
    "        outputs = model(input_ids, attention_mask=attention_mask)\n",
    "        logits = outputs.logits\n",
    "\n",
    "        # Calculate loss\n",
    "        loss = loss_fn(logits, labels)\n",
    "\n",
    "        # Backward pass and optimization\n",
    "        loss.backward()\n",
    "        optimizer.step()\n",
    "\n",
    "        # Track loss and accuracy\n",
    "        running_loss += loss.item()\n",
    "\n",
    "        # Get predictions and calculate accuracy\n",
    "        preds = torch.argmax(logits, dim=-1)\n",
    "        correct_predictions += torch.sum(preds == labels)\n",
    "        total_predictions += labels.size(0)\n",
    "\n",
    "    # Calculate and print the epoch loss and accuracy\n",
    "    avg_loss = running_loss / len(train_dataloader)\n",
    "    accuracy = correct_predictions / total_predictions\n",
    "    print(f\"Epoch {epoch + 1} - Loss: {avg_loss:.4f}, Accuracy: {accuracy:.4f}\")\n",
    "\n",
    "    # Validation (optional)\n",
    "    model.eval()\n",
    "    with torch.no_grad():\n",
    "        val_loss = 0.0\n",
    "        val_correct_predictions = 0\n",
    "        val_total_predictions = 0\n",
    "        for batch in tqdm(test_dataloader, desc=\"Validating\", unit=\"batch\"):\n",
    "            input_ids, attention_mask, labels = [item.to(device) for item in batch]\n",
    "            outputs = model(input_ids, attention_mask=attention_mask)\n",
    "            logits = outputs.logits\n",
    "            loss = loss_fn(logits, labels)\n",
    "            val_loss += loss.item()\n",
    "\n",
    "            preds = torch.argmax(logits, dim=-1)\n",
    "            val_correct_predictions += torch.sum(preds == labels)\n",
    "            val_total_predictions += labels.size(0)\n",
    "\n",
    "        avg_val_loss = val_loss / len(test_dataloader)\n",
    "        val_accuracy = val_correct_predictions / val_total_predictions\n",
    "        print(\n",
    "            f\"Validation Loss: {avg_val_loss:.4f}, Validation Accuracy: {val_accuracy:.4f}\"\n",
    "        )"
   ]
  },
  {
   "cell_type": "markdown",
   "metadata": {},
   "source": [
    "## 7. Evaluating the Model\n",
    "\n",
    "Once the model is trained, it's crucial to evaluate its performance on the **test set**. This evaluation helps us understand how well the model generalizes to new, unseen data. The two primary tools we use for evaluating model performance are **classification reports** and **confusion matrices**.\n",
    "\n",
    "\n",
    "2. **Confusion Matrix**:\n",
    "   - The confusion matrix visualizes the model’s prediction errors and successes. It shows how many instances from each class were correctly predicted (True Positives and True Negatives) and how many were misclassified (False Positives and False Negatives).\n",
    "   - By examining the confusion matrix, we can identify which event types the model struggles to classify, giving insight into areas where the model needs improvement.\n",
    "\n",
    "By analyzing the classification report and confusion matrix, we can assess the model's overall effectiveness, detect potential issues like class imbalances, and refine the model further."
   ]
  },
  {
   "cell_type": "code",
   "execution_count": 91,
   "metadata": {},
   "outputs": [],
   "source": [
    "from sklearn.metrics import classification_report, confusion_matrix\n",
    "\n",
    "# Evaluate the model\n",
    "model.eval()\n",
    "y_pred = []\n",
    "y_true = []\n",
    "\n",
    "with torch.no_grad():\n",
    "    for batch in test_dataloader:\n",
    "        input_ids, attention_mask, labels = [b.to(device) for b in batch]\n",
    "        outputs = model(input_ids, attention_mask=attention_mask)\n",
    "        logits = outputs.logits\n",
    "\n",
    "        # Convert logits to predicted class labels\n",
    "        preds = torch.argmax(logits, dim=1)\n",
    "        y_pred.extend(preds.cpu().numpy())\n",
    "        y_true.extend(labels.cpu().numpy())\n",
    "\n",
    "# Mapping back the numeric predictions to original class labels\n",
    "y_pred_labels = label_encoder.inverse_transform(y_pred)\n",
    "y_true_labels = label_encoder.inverse_transform(y_true)"
   ]
  },
  {
   "cell_type": "markdown",
   "metadata": {},
   "source": [
    "### 7.1. Classification Report\n",
    "\n",
    "- The classification report provides a detailed breakdown of the model’s performance across each class (in this case, the different event types).\n",
    "- It includes metrics like **precision**, **recall**, **f1-score**, and **support**:\n",
    "    - **Precision**: The percentage of positive predictions that are correct.\n",
    "    - **Recall**: The percentage of actual positive instances that were correctly identified.\n",
    "    - **F1-score**: The harmonic mean of precision and recall, providing a single metric that balances both.\n",
    "    - **Support**: The number of occurrences of each class in the dataset."
   ]
  },
  {
   "cell_type": "code",
   "execution_count": 92,
   "metadata": {},
   "outputs": [
    {
     "name": "stdout",
     "output_type": "stream",
     "text": [
      "              precision    recall  f1-score   support\n",
      "\n",
      "   Completed       1.00      1.00      1.00       608\n",
      "      Failed       1.00      1.00      1.00       593\n",
      "      Killed       1.00      1.00      1.00       574\n",
      "   OOMKilled       1.00      1.00      1.00       621\n",
      "     Started       1.00      1.00      1.00       604\n",
      "\n",
      "    accuracy                           1.00      3000\n",
      "   macro avg       1.00      1.00      1.00      3000\n",
      "weighted avg       1.00      1.00      1.00      3000\n",
      "\n"
     ]
    }
   ],
   "source": [
    "# Classification Report\n",
    "print(classification_report(y_true_labels, y_pred_labels))"
   ]
  },
  {
   "cell_type": "markdown",
   "metadata": {},
   "source": [
    "### 7.2. Confusion Matrix:\n",
    "\n",
    "- The confusion matrix visualizes the model’s prediction errors and successes. It shows how many instances from each class were correctly predicted (True Positives and True Negatives) and how many were misclassified (False Positives and False Negatives).\n",
    "- By examining the confusion matrix, we can identify which event types the model struggles to classify, giving insight into areas where the model needs improvement."
   ]
  },
  {
   "cell_type": "code",
   "execution_count": 93,
   "metadata": {},
   "outputs": [
    {
     "data": {
      "image/png": "[encoded data removed]",
      "text/plain": [
       "<Figure size 640x480 with 2 Axes>"
      ]
     },
     "metadata": {},
     "output_type": "display_data"
    }
   ],
   "source": [
    "conf_matrix = confusion_matrix(y_true_labels, y_pred_labels)\n",
    "sns.heatmap(conf_matrix, annot=True, fmt=\"d\", cmap=\"Blues\")\n",
    "plt.xlabel(\"Predicted\")\n",
    "plt.ylabel(\"Actual\")\n",
    "plt.title(\"Confusion Matrix\")\n",
    "plt.show()"
   ]
  },
  {
   "cell_type": "markdown",
   "metadata": {},
   "source": [
    "## Conclusion\n",
    "\n",
    "In this notebook, we leveraged **BERT**, a powerful transformer model, to classify Kubernetes events. We fine-tuned the model using operational metrics and event data and evaluated its performance using standard classification metrics like accuracy, precision, and recall.\n",
    "\n",
    "### Key Takeaways:\n",
    "- **BERT** is highly effective at capturing contextual relationships in text and can be applied to a wide range of event classification tasks.\n",
    "- The model was evaluated using **classification reports** and **confusion matrices** to understand its accuracy and identify potential improvements.\n",
    "- Fine-tuning transformer models like BERT offers significant advantages over traditional machine learning models, particularly when working with text data.\n",
    "\n",
    "### What's Next?\n",
    "In the next notebook, we will explore more advanced transformer models and their applications in Kubernetes operations. We will also experiment with different architectures to improve classification performance.\n"
   ]
  }
 ],
 "metadata": {
  "kernelspec": {
   "display_name": ".venv",
   "language": "python",
   "name": "python3"
  },
  "language_info": {
   "codemirror_mode": {
    "name": "ipython",
    "version": 3
   },
   "file_extension": ".py",
   "mimetype": "text/x-python",
   "name": "python",
   "nbconvert_exporter": "python",
   "pygments_lexer": "ipython3",
   "version": "3.12.4"
  }
 },
 "nbformat": 4,
 "nbformat_minor": 2
}
