{
 "cells": [
  {
   "cell_type": "markdown",
   "metadata": {},
   "source": [
    "# 2. Machine Learning Basics: Predicting Kubernetes Incidents - Part 1\n",
    "\n",
    "## Introduction\n",
    "\n",
    "Welcome to the second notebook in our series on AI for Kubernetes operations! In this notebook, we’ll take a foundational step into **machine learning** and build a simple model to predict Kubernetes incidents, such as `Normal` or `Warning`, based on operational metrics.\n",
    "\n",
    "### Real-World Context\n",
    "Imagine a Kubernetes cluster where resource allocation spikes often lead to instability. By using machine learning, we can predict such incidents before they occur, enabling proactive measures like scaling resources or redistributing workloads.\n",
    "\n",
    "### Objectives\n",
    "By the end of this notebook, you will:\n",
    "- Understand the basics of **artificial intelligence (AI)** and **machine learning (ML)**.\n",
    "- Learn the concept of **supervised learning** and its relevance to Kubernetes.\n",
    "- Build and evaluate a simple **Decision Tree Classifier** to predict incidents.\n",
    "- Visualize and interpret model predictions using intuitive charts and metrics.\n",
    "\n",
    "### Key Features\n",
    "This notebook includes:\n",
    "- A concise explanation of AI, ML, and supervised learning.\n",
    "- A hands-on guide to training a **Decision Tree Classifier**.\n",
    "- Interactive visualizations, such as scatter plots and confusion matrices, to interpret model performance."
   ]
  },
  {
   "cell_type": "markdown",
   "metadata": {},
   "source": [
    "## What is AI and Machine Learning?\n",
    "\n",
    "### What is Artificial Intelligence (AI)?\n",
    "- AI enables systems to perform tasks that typically require human intelligence.\n",
    "- It was invented to automate repetitive and complex tasks, reduce human error, and process vast amounts of data faster than humans could.\n",
    "- Examples in Kubernetes include:\n",
    "  - Predicting incidents to improve reliability.\n",
    "  - Optimizing resource allocation to prevent overprovisioning.\n",
    "\n",
    "### What is Machine Learning (ML)?\n",
    "- ML is a subset of AI where machines learn from data to make predictions or decisions without explicit programming.\n",
    "- It was developed to solve problems where explicit rule-based programming is impractical due to complexity or variability in data.\n",
    "- For example, manually coding rules to predict Kubernetes incidents is inefficient; ML models can learn patterns from historical data instead.\n",
    "\n",
    "### Types of Machine Learning\n",
    "- **Supervised Learning**: Learns from labeled data (e.g., predicting incidents as `Normal` or `Warning`).\n",
    "- **Unsupervised Learning**: Identifies patterns in unlabeled data (e.g., anomaly detection).\n",
    "- **Reinforcement Learning**: Learns optimal actions through rewards and penalties (e.g., scaling clusters dynamically).\n",
    "\n",
    "### Why Use Supervised Learning for Kubernetes?\n",
    "Supervised learning helps detect patterns in labeled data, making it ideal for predicting specific incidents based on historical metrics."
   ]
  },
  {
   "cell_type": "markdown",
   "metadata": {},
   "source": [
    "## 1. Install Required Libraries\n",
    "\n",
    "Run the following command to install the necessary libraries:"
   ]
  },
  {
   "cell_type": "code",
   "execution_count": 1,
   "metadata": {},
   "outputs": [
    {
     "name": "stdout",
     "output_type": "stream",
     "text": [
      "Note: you may need to restart the kernel to use updated packages.\n"
     ]
    }
   ],
   "source": [
    "# Install required libraries\n",
    "%pip install pandas scikit-learn matplotlib seaborn plotly notebook nbformat --quiet"
   ]
  },
  {
   "cell_type": "markdown",
   "metadata": {},
   "source": [
    "## 2. Creating a Simple Dataset\n",
    "\n",
    "Let’s start with a small dataset to illustrate the basics of supervised learning. This dataset includes:\n",
    "- `cpu_allocation_efficiency`: CPU usage as a fraction of total available.\n",
    "- `memory_allocation_efficiency`: Memory usage as a fraction of total available.\n",
    "- `event_type`: Label indicating whether the system is `Normal` or under a `Warning` condition."
   ]
  },
  {
   "cell_type": "code",
   "execution_count": 2,
   "metadata": {},
   "outputs": [
    {
     "data": {
      "text/html": [
       "<div>\n",
       "<style scoped>\n",
       "    .dataframe tbody tr th:only-of-type {\n",
       "        vertical-align: middle;\n",
       "    }\n",
       "\n",
       "    .dataframe tbody tr th {\n",
       "        vertical-align: top;\n",
       "    }\n",
       "\n",
       "    .dataframe thead th {\n",
       "        text-align: right;\n",
       "    }\n",
       "</style>\n",
       "<table border=\"1\" class=\"dataframe\">\n",
       "  <thead>\n",
       "    <tr style=\"text-align: right;\">\n",
       "      <th></th>\n",
       "      <th>cpu_allocation_efficiency</th>\n",
       "      <th>memory_allocation_efficiency</th>\n",
       "      <th>event_type</th>\n",
       "    </tr>\n",
       "  </thead>\n",
       "  <tbody>\n",
       "    <tr>\n",
       "      <th>0</th>\n",
       "      <td>0.30</td>\n",
       "      <td>0.40</td>\n",
       "      <td>Normal</td>\n",
       "    </tr>\n",
       "    <tr>\n",
       "      <th>1</th>\n",
       "      <td>0.90</td>\n",
       "      <td>0.85</td>\n",
       "      <td>Warning</td>\n",
       "    </tr>\n",
       "    <tr>\n",
       "      <th>2</th>\n",
       "      <td>0.50</td>\n",
       "      <td>0.30</td>\n",
       "      <td>Normal</td>\n",
       "    </tr>\n",
       "    <tr>\n",
       "      <th>3</th>\n",
       "      <td>0.70</td>\n",
       "      <td>0.75</td>\n",
       "      <td>Warning</td>\n",
       "    </tr>\n",
       "    <tr>\n",
       "      <th>4</th>\n",
       "      <td>0.80</td>\n",
       "      <td>0.90</td>\n",
       "      <td>Warning</td>\n",
       "    </tr>\n",
       "    <tr>\n",
       "      <th>5</th>\n",
       "      <td>0.20</td>\n",
       "      <td>0.20</td>\n",
       "      <td>Normal</td>\n",
       "    </tr>\n",
       "    <tr>\n",
       "      <th>6</th>\n",
       "      <td>0.95</td>\n",
       "      <td>0.95</td>\n",
       "      <td>Warning</td>\n",
       "    </tr>\n",
       "    <tr>\n",
       "      <th>7</th>\n",
       "      <td>0.60</td>\n",
       "      <td>0.65</td>\n",
       "      <td>Normal</td>\n",
       "    </tr>\n",
       "    <tr>\n",
       "      <th>8</th>\n",
       "      <td>0.40</td>\n",
       "      <td>0.50</td>\n",
       "      <td>Normal</td>\n",
       "    </tr>\n",
       "    <tr>\n",
       "      <th>9</th>\n",
       "      <td>0.85</td>\n",
       "      <td>0.80</td>\n",
       "      <td>Warning</td>\n",
       "    </tr>\n",
       "  </tbody>\n",
       "</table>\n",
       "</div>"
      ],
      "text/plain": [
       "   cpu_allocation_efficiency  memory_allocation_efficiency event_type\n",
       "0                       0.30                          0.40     Normal\n",
       "1                       0.90                          0.85    Warning\n",
       "2                       0.50                          0.30     Normal\n",
       "3                       0.70                          0.75    Warning\n",
       "4                       0.80                          0.90    Warning\n",
       "5                       0.20                          0.20     Normal\n",
       "6                       0.95                          0.95    Warning\n",
       "7                       0.60                          0.65     Normal\n",
       "8                       0.40                          0.50     Normal\n",
       "9                       0.85                          0.80    Warning"
      ]
     },
     "execution_count": 2,
     "metadata": {},
     "output_type": "execute_result"
    }
   ],
   "source": [
    "# Import necessary library\n",
    "import pandas as pd\n",
    "\n",
    "# Create a structured in-memory dataset\n",
    "data = {\n",
    "    \"cpu_allocation_efficiency\": [0.3, 0.9, 0.5, 0.7, 0.8, 0.2, 0.95, 0.6, 0.4, 0.85],\n",
    "    \"memory_allocation_efficiency\": [\n",
    "        0.4,\n",
    "        0.85,\n",
    "        0.3,\n",
    "        0.75,\n",
    "        0.9,\n",
    "        0.2,\n",
    "        0.95,\n",
    "        0.65,\n",
    "        0.5,\n",
    "        0.8,\n",
    "    ],\n",
    "    \"event_type\": [\n",
    "        \"Normal\",\n",
    "        \"Warning\",\n",
    "        \"Normal\",\n",
    "        \"Warning\",\n",
    "        \"Warning\",\n",
    "        \"Normal\",\n",
    "        \"Warning\",\n",
    "        \"Normal\",\n",
    "        \"Normal\",\n",
    "        \"Warning\",\n",
    "    ],\n",
    "}\n",
    "\n",
    "# Create the DataFrame\n",
    "df_simple = pd.DataFrame(data)\n",
    "\n",
    "# Display the dataset\n",
    "df_simple"
   ]
  },
  {
   "cell_type": "markdown",
   "metadata": {},
   "source": [
    "## 3. Splitting the Data: Training and Testing\n",
    "\n",
    "To train and evaluate a machine learning model, it’s essential to split the dataset into two parts:\n",
    "\n",
    "1. **Training Data (70%)**:\n",
    "   - Used to train the model.\n",
    "   - The model learns patterns and relationships in this subset of data.\n",
    "\n",
    "2. **Testing Data (30%)**:\n",
    "   - Used to evaluate the model’s performance on unseen data.\n",
    "   - Ensures the model generalizes well and avoids overfitting.\n",
    "\n",
    "### Why Split the Data?\n",
    "- **Prevent Overfitting**: Training on all data can lead to overfitting, where the model memorizes the data but performs poorly on unseen examples.\n",
    "- **Measure Generalization**: Testing on unseen data evaluates how well the model generalizes to new data, critical for real-world use.\n",
    "\n",
    "### Steps to Split the Data\n",
    "In this example:\n",
    "- **Features (X)**: `cpu_allocation_efficiency` and `memory_allocation_efficiency`.\n",
    "- **Target (y)**: `event_type`.\n",
    "\n",
    "Let’s use the `train_test_split` function from `scikit-learn` to split the dataset."
   ]
  },
  {
   "cell_type": "code",
   "execution_count": 3,
   "metadata": {},
   "outputs": [
    {
     "name": "stdout",
     "output_type": "stream",
     "text": [
      "Training features shape: (7, 2)\n",
      "Testing features shape: (3, 2)\n"
     ]
    }
   ],
   "source": [
    "# Import train_test_split\n",
    "from sklearn.model_selection import train_test_split\n",
    "\n",
    "# Separate features and target\n",
    "X = df_simple[[\"cpu_allocation_efficiency\", \"memory_allocation_efficiency\"]]\n",
    "y = df_simple[\"event_type\"]\n",
    "\n",
    "# Split the data into training and testing subsets\n",
    "X_train, X_test, y_train, y_test = train_test_split(\n",
    "    X, y, test_size=0.3, random_state=42\n",
    ")\n",
    "\n",
    "# Display the shapes of the splits\n",
    "print(f\"Training features shape: {X_train.shape}\")\n",
    "print(f\"Testing features shape: {X_test.shape}\")"
   ]
  },
  {
   "cell_type": "markdown",
   "metadata": {},
   "source": [
    "## 4. Training a Decision Tree Model\n",
    "\n",
    "A **Decision Tree Classifier** is a simple and interpretable machine learning algorithm used for classification tasks. It splits data into smaller subsets based on the most informative features. Each split is based on a condition that maximizes the separation of classes (e.g., `Normal` vs. `Warning`).\n",
    "\n",
    "Below is a visual example of a decision tree:\n",
    "\n",
    "![Decision Tree Example](https://upload.wikimedia.org/wikipedia/commons/f/f3/CART_tree_titanic_survivors.png)  \n",
    "*(Source: Wikipedia)*\n",
    "\n",
    "### Why Use a Decision Tree?\n",
    "- **Interpretability**: Decision Trees are easy to understand and visualize, mimicking human decision-making.\n",
    "- **Handles Non-Linear Data**: They work well with both linear and non-linear relationships in data.\n",
    "- **Drawbacks**: They can overfit small datasets, but this can be mitigated by limiting the tree’s depth.\n",
    "\n",
    "Let’s train a Decision Tree Classifier and evaluate its performance."
   ]
  },
  {
   "cell_type": "code",
   "execution_count": 4,
   "metadata": {},
   "outputs": [
    {
     "name": "stdout",
     "output_type": "stream",
     "text": [
      "Model Accuracy: 1.00\n"
     ]
    }
   ],
   "source": [
    "# Import DecisionTreeClassifier and accuracy_score\n",
    "from sklearn.tree import DecisionTreeClassifier\n",
    "from sklearn.metrics import accuracy_score\n",
    "\n",
    "# Initialize and train the Decision Tree model\n",
    "model = DecisionTreeClassifier(max_depth=3, random_state=42)\n",
    "model.fit(X_train, y_train)\n",
    "\n",
    "# Make predictions on the test set\n",
    "y_pred = model.predict(X_test)\n",
    "\n",
    "# Evaluate accuracy\n",
    "accuracy = accuracy_score(y_test, y_pred)\n",
    "print(f\"Model Accuracy: {accuracy:.2f}\")"
   ]
  },
  {
   "cell_type": "markdown",
   "metadata": {},
   "source": [
    "## 5. Interpreting a Prediction\n",
    "\n",
    "After training the model, the next step is to **interpret its predictions**. Understanding how the model makes decisions is crucial for gaining confidence in its outputs and identifying areas for improvement.\n",
    "\n",
    "In this section, we will:\n",
    "1. Select a single test sample.\n",
    "2. Display the sample’s features and actual incident type.\n",
    "3. Show the model’s predicted incident type.\n",
    "\n",
    "### Single Prediction Example\n",
    "\n",
    "Let’s pick a sample from the test set and see how the model performs:"
   ]
  },
  {
   "cell_type": "code",
   "execution_count": 5,
   "metadata": {},
   "outputs": [
    {
     "name": "stdout",
     "output_type": "stream",
     "text": [
      "Input Features: {'cpu_allocation_efficiency': 0.4, 'memory_allocation_efficiency': 0.5}\n",
      "Predicted Incident: Normal\n",
      "Actual Incident: Normal\n"
     ]
    }
   ],
   "source": [
    "# Select a single test sample\n",
    "sample_index = 0  # You can change this to test other samples\n",
    "sample_features = X_test.iloc[sample_index]\n",
    "sample_features_df = pd.DataFrame([sample_features], columns=X_test.columns)\n",
    "\n",
    "# Predict the incident type for the selected sample\n",
    "sample_prediction = model.predict(sample_features_df)\n",
    "actual_label = y_test.iloc[sample_index]\n",
    "\n",
    "# Display results\n",
    "print(f\"Input Features: {sample_features.to_dict()}\")\n",
    "print(f\"Predicted Incident: {sample_prediction[0]}\")\n",
    "print(f\"Actual Incident: {actual_label}\")"
   ]
  },
  {
   "cell_type": "markdown",
   "metadata": {},
   "source": [
    "### What Does This Show?\n",
    "\n",
    "1. **Input Features**:\n",
    "   - The `cpu_allocation_efficiency` and `memory_allocation_efficiency` metrics provided to the model.\n",
    "\n",
    "2. **Predicted Incident**:\n",
    "   - The model’s classification (`Normal` or `Warning`).\n",
    "\n",
    "3. **Actual Incident**:\n",
    "   - The ground truth label from the dataset."
   ]
  },
  {
   "cell_type": "markdown",
   "metadata": {},
   "source": [
    "## 5. Visualizing Predictions\n",
    "\n",
    "Visualizations help us understand how well the model performs. In this section, we’ll:\n",
    "1. Compare **actual vs. predicted labels**.\n",
    "2. Use a **scatter plot** to visualize classification results.\n",
    "3. Evaluate model performance using a **confusion matrix**.\n",
    "\n",
    "### Scatter Plot: Actual vs. Predicted Labels\n",
    "Each point represents an incident with its CPU and memory allocation efficiencies plotted. The color indicates whether it was classified as `Normal` or `Warning`."
   ]
  },
  {
   "cell_type": "code",
   "execution_count": 6,
   "metadata": {},
   "outputs": [
    {
     "data": {
      "application/vnd.plotly.v1+json": {
       "config": {
        "plotlyServerURL": "https://plot.ly"
       },
       "data": [
        {
         "hovertemplate": "CPU Efficiency: %{x}<br>Memory Efficiency: %{y}<br>Actual: Normal",
         "marker": {
          "color": "blue"
         },
         "mode": "markers",
         "name": "Normal (Actual)",
         "type": "scatter",
         "x": [
          0.3,
          0.5,
          0.2,
          0.6,
          0.4
         ],
         "xaxis": "x",
         "y": [
          0.4,
          0.3,
          0.2,
          0.65,
          0.5
         ],
         "yaxis": "y"
        },
        {
         "hovertemplate": "CPU Efficiency: %{x}<br>Memory Efficiency: %{y}<br>Actual: Warning",
         "marker": {
          "color": "red"
         },
         "mode": "markers",
         "name": "Warning (Actual)",
         "type": "scatter",
         "x": [
          0.9,
          0.7,
          0.8,
          0.95,
          0.85
         ],
         "xaxis": "x",
         "y": [
          0.85,
          0.75,
          0.9,
          0.95,
          0.8
         ],
         "yaxis": "y"
        },
        {
         "hovertemplate": "CPU Efficiency: %{x}<br>Memory Efficiency: %{y}<br>Predicted: Normal",
         "marker": {
          "color": "blue"
         },
         "mode": "markers",
         "name": "Normal (Predicted)",
         "type": "scatter",
         "x": [
          0.3,
          0.5,
          0.2,
          0.6,
          0.4
         ],
         "xaxis": "x2",
         "y": [
          0.4,
          0.3,
          0.2,
          0.65,
          0.5
         ],
         "yaxis": "y2"
        },
        {
         "hovertemplate": "CPU Efficiency: %{x}<br>Memory Efficiency: %{y}<br>Predicted: Warning",
         "marker": {
          "color": "red"
         },
         "mode": "markers",
         "name": "Warning (Predicted)",
         "type": "scatter",
         "x": [
          0.9,
          0.7,
          0.8,
          0.95,
          0.85
         ],
         "xaxis": "x2",
         "y": [
          0.85,
          0.75,
          0.9,
          0.95,
          0.8
         ],
         "yaxis": "y2"
        }
       ],
       "layout": {
        "annotations": [
         {
          "font": {
           "size": 16
          },
          "showarrow": false,
          "text": "Actual Labels",
          "x": 0.225,
          "xanchor": "center",
          "xref": "paper",
          "y": 1,
          "yanchor": "bottom",
          "yref": "paper"
         },
         {
          "font": {
           "size": 16
          },
          "showarrow": false,
          "text": "Predicted Labels",
          "x": 0.775,
          "xanchor": "center",
          "xref": "paper",
          "y": 1,
          "yanchor": "bottom",
          "yref": "paper"
         }
        ],
        "height": 500,
        "template": {
         "data": {
          "bar": [
           {
            "error_x": {
             "color": "#2a3f5f"
            },
            "error_y": {
             "color": "#2a3f5f"
            },
            "marker": {
             "line": {
              "color": "#E5ECF6",
              "width": 0.5
             },
             "pattern": {
              "fillmode": "overlay",
              "size": 10,
              "solidity": 0.2
             }
            },
            "type": "bar"
           }
          ],
          "barpolar": [
           {
            "marker": {
             "line": {
              "color": "#E5ECF6",
              "width": 0.5
             },
             "pattern": {
              "fillmode": "overlay",
              "size": 10,
              "solidity": 0.2
             }
            },
            "type": "barpolar"
           }
          ],
          "carpet": [
           {
            "aaxis": {
             "endlinecolor": "#2a3f5f",
             "gridcolor": "white",
             "linecolor": "white",
             "minorgridcolor": "white",
             "startlinecolor": "#2a3f5f"
            },
            "baxis": {
             "endlinecolor": "#2a3f5f",
             "gridcolor": "white",
             "linecolor": "white",
             "minorgridcolor": "white",
             "startlinecolor": "#2a3f5f"
            },
            "type": "carpet"
           }
          ],
          "choropleth": [
           {
            "colorbar": {
             "outlinewidth": 0,
             "ticks": ""
            },
            "type": "choropleth"
           }
          ],
          "contour": [
           {
            "colorbar": {
             "outlinewidth": 0,
             "ticks": ""
            },
            "colorscale": [
             [
              0,
              "#0d0887"
             ],
             [
              0.1111111111111111,
              "#46039f"
             ],
             [
              0.2222222222222222,
              "#7201a8"
             ],
             [
              0.3333333333333333,
              "#9c179e"
             ],
             [
              0.4444444444444444,
              "#bd3786"
             ],
             [
              0.5555555555555556,
              "#d8576b"
             ],
             [
              0.6666666666666666,
              "#ed7953"
             ],
             [
              0.7777777777777778,
              "#fb9f3a"
             ],
             [
              0.8888888888888888,
              "#fdca26"
             ],
             [
              1,
              "#f0f921"
             ]
            ],
            "type": "contour"
           }
          ],
          "contourcarpet": [
           {
            "colorbar": {
             "outlinewidth": 0,
             "ticks": ""
            },
            "type": "contourcarpet"
           }
          ],
          "heatmap": [
           {
            "colorbar": {
             "outlinewidth": 0,
             "ticks": ""
            },
            "colorscale": [
             [
              0,
              "#0d0887"
             ],
             [
              0.1111111111111111,
              "#46039f"
             ],
             [
              0.2222222222222222,
              "#7201a8"
             ],
             [
              0.3333333333333333,
              "#9c179e"
             ],
             [
              0.4444444444444444,
              "#bd3786"
             ],
             [
              0.5555555555555556,
              "#d8576b"
             ],
             [
              0.6666666666666666,
              "#ed7953"
             ],
             [
              0.7777777777777778,
              "#fb9f3a"
             ],
             [
              0.8888888888888888,
              "#fdca26"
             ],
             [
              1,
              "#f0f921"
             ]
            ],
            "type": "heatmap"
           }
          ],
          "heatmapgl": [
           {
            "colorbar": {
             "outlinewidth": 0,
             "ticks": ""
            },
            "colorscale": [
             [
              0,
              "#0d0887"
             ],
             [
              0.1111111111111111,
              "#46039f"
             ],
             [
              0.2222222222222222,
              "#7201a8"
             ],
             [
              0.3333333333333333,
              "#9c179e"
             ],
             [
              0.4444444444444444,
              "#bd3786"
             ],
             [
              0.5555555555555556,
              "#d8576b"
             ],
             [
              0.6666666666666666,
              "#ed7953"
             ],
             [
              0.7777777777777778,
              "#fb9f3a"
             ],
             [
              0.8888888888888888,
              "#fdca26"
             ],
             [
              1,
              "#f0f921"
             ]
            ],
            "type": "heatmapgl"
           }
          ],
          "histogram": [
           {
            "marker": {
             "pattern": {
              "fillmode": "overlay",
              "size": 10,
              "solidity": 0.2
             }
            },
            "type": "histogram"
           }
          ],
          "histogram2d": [
           {
            "colorbar": {
             "outlinewidth": 0,
             "ticks": ""
            },
            "colorscale": [
             [
              0,
              "#0d0887"
             ],
             [
              0.1111111111111111,
              "#46039f"
             ],
             [
              0.2222222222222222,
              "#7201a8"
             ],
             [
              0.3333333333333333,
              "#9c179e"
             ],
             [
              0.4444444444444444,
              "#bd3786"
             ],
             [
              0.5555555555555556,
              "#d8576b"
             ],
             [
              0.6666666666666666,
              "#ed7953"
             ],
             [
              0.7777777777777778,
              "#fb9f3a"
             ],
             [
              0.8888888888888888,
              "#fdca26"
             ],
             [
              1,
              "#f0f921"
             ]
            ],
            "type": "histogram2d"
           }
          ],
          "histogram2dcontour": [
           {
            "colorbar": {
             "outlinewidth": 0,
             "ticks": ""
            },
            "colorscale": [
             [
              0,
              "#0d0887"
             ],
             [
              0.1111111111111111,
              "#46039f"
             ],
             [
              0.2222222222222222,
              "#7201a8"
             ],
             [
              0.3333333333333333,
              "#9c179e"
             ],
             [
              0.4444444444444444,
              "#bd3786"
             ],
             [
              0.5555555555555556,
              "#d8576b"
             ],
             [
              0.6666666666666666,
              "#ed7953"
             ],
             [
              0.7777777777777778,
              "#fb9f3a"
             ],
             [
              0.8888888888888888,
              "#fdca26"
             ],
             [
              1,
              "#f0f921"
             ]
            ],
            "type": "histogram2dcontour"
           }
          ],
          "mesh3d": [
           {
            "colorbar": {
             "outlinewidth": 0,
             "ticks": ""
            },
            "type": "mesh3d"
           }
          ],
          "parcoords": [
           {
            "line": {
             "colorbar": {
              "outlinewidth": 0,
              "ticks": ""
             }
            },
            "type": "parcoords"
           }
          ],
          "pie": [
           {
            "automargin": true,
            "type": "pie"
           }
          ],
          "scatter": [
           {
            "fillpattern": {
             "fillmode": "overlay",
             "size": 10,
             "solidity": 0.2
            },
            "type": "scatter"
           }
          ],
          "scatter3d": [
           {
            "line": {
             "colorbar": {
              "outlinewidth": 0,
              "ticks": ""
             }
            },
            "marker": {
             "colorbar": {
              "outlinewidth": 0,
              "ticks": ""
             }
            },
            "type": "scatter3d"
           }
          ],
          "scattercarpet": [
           {
            "marker": {
             "colorbar": {
              "outlinewidth": 0,
              "ticks": ""
             }
            },
            "type": "scattercarpet"
           }
          ],
          "scattergeo": [
           {
            "marker": {
             "colorbar": {
              "outlinewidth": 0,
              "ticks": ""
             }
            },
            "type": "scattergeo"
           }
          ],
          "scattergl": [
           {
            "marker": {
             "colorbar": {
              "outlinewidth": 0,
              "ticks": ""
             }
            },
            "type": "scattergl"
           }
          ],
          "scattermapbox": [
           {
            "marker": {
             "colorbar": {
              "outlinewidth": 0,
              "ticks": ""
             }
            },
            "type": "scattermapbox"
           }
          ],
          "scatterpolar": [
           {
            "marker": {
             "colorbar": {
              "outlinewidth": 0,
              "ticks": ""
             }
            },
            "type": "scatterpolar"
           }
          ],
          "scatterpolargl": [
           {
            "marker": {
             "colorbar": {
              "outlinewidth": 0,
              "ticks": ""
             }
            },
            "type": "scatterpolargl"
           }
          ],
          "scatterternary": [
           {
            "marker": {
             "colorbar": {
              "outlinewidth": 0,
              "ticks": ""
             }
            },
            "type": "scatterternary"
           }
          ],
          "surface": [
           {
            "colorbar": {
             "outlinewidth": 0,
             "ticks": ""
            },
            "colorscale": [
             [
              0,
              "#0d0887"
             ],
             [
              0.1111111111111111,
              "#46039f"
             ],
             [
              0.2222222222222222,
              "#7201a8"
             ],
             [
              0.3333333333333333,
              "#9c179e"
             ],
             [
              0.4444444444444444,
              "#bd3786"
             ],
             [
              0.5555555555555556,
              "#d8576b"
             ],
             [
              0.6666666666666666,
              "#ed7953"
             ],
             [
              0.7777777777777778,
              "#fb9f3a"
             ],
             [
              0.8888888888888888,
              "#fdca26"
             ],
             [
              1,
              "#f0f921"
             ]
            ],
            "type": "surface"
           }
          ],
          "table": [
           {
            "cells": {
             "fill": {
              "color": "#EBF0F8"
             },
             "line": {
              "color": "white"
             }
            },
            "header": {
             "fill": {
              "color": "#C8D4E3"
             },
             "line": {
              "color": "white"
             }
            },
            "type": "table"
           }
          ]
         },
         "layout": {
          "annotationdefaults": {
           "arrowcolor": "#2a3f5f",
           "arrowhead": 0,
           "arrowwidth": 1
          },
          "autotypenumbers": "strict",
          "coloraxis": {
           "colorbar": {
            "outlinewidth": 0,
            "ticks": ""
           }
          },
          "colorscale": {
           "diverging": [
            [
             0,
             "#8e0152"
            ],
            [
             0.1,
             "#c51b7d"
            ],
            [
             0.2,
             "#de77ae"
            ],
            [
             0.3,
             "#f1b6da"
            ],
            [
             0.4,
             "#fde0ef"
            ],
            [
             0.5,
             "#f7f7f7"
            ],
            [
             0.6,
             "#e6f5d0"
            ],
            [
             0.7,
             "#b8e186"
            ],
            [
             0.8,
             "#7fbc41"
            ],
            [
             0.9,
             "#4d9221"
            ],
            [
             1,
             "#276419"
            ]
           ],
           "sequential": [
            [
             0,
             "#0d0887"
            ],
            [
             0.1111111111111111,
             "#46039f"
            ],
            [
             0.2222222222222222,
             "#7201a8"
            ],
            [
             0.3333333333333333,
             "#9c179e"
            ],
            [
             0.4444444444444444,
             "#bd3786"
            ],
            [
             0.5555555555555556,
             "#d8576b"
            ],
            [
             0.6666666666666666,
             "#ed7953"
            ],
            [
             0.7777777777777778,
             "#fb9f3a"
            ],
            [
             0.8888888888888888,
             "#fdca26"
            ],
            [
             1,
             "#f0f921"
            ]
           ],
           "sequentialminus": [
            [
             0,
             "#0d0887"
            ],
            [
             0.1111111111111111,
             "#46039f"
            ],
            [
             0.2222222222222222,
             "#7201a8"
            ],
            [
             0.3333333333333333,
             "#9c179e"
            ],
            [
             0.4444444444444444,
             "#bd3786"
            ],
            [
             0.5555555555555556,
             "#d8576b"
            ],
            [
             0.6666666666666666,
             "#ed7953"
            ],
            [
             0.7777777777777778,
             "#fb9f3a"
            ],
            [
             0.8888888888888888,
             "#fdca26"
            ],
            [
             1,
             "#f0f921"
            ]
           ]
          },
          "colorway": [
           "#636efa",
           "#EF553B",
           "#00cc96",
           "#ab63fa",
           "#FFA15A",
           "#19d3f3",
           "#FF6692",
           "#B6E880",
           "#FF97FF",
           "#FECB52"
          ],
          "font": {
           "color": "#2a3f5f"
          },
          "geo": {
           "bgcolor": "white",
           "lakecolor": "white",
           "landcolor": "#E5ECF6",
           "showlakes": true,
           "showland": true,
           "subunitcolor": "white"
          },
          "hoverlabel": {
           "align": "left"
          },
          "hovermode": "closest",
          "mapbox": {
           "style": "light"
          },
          "paper_bgcolor": "white",
          "plot_bgcolor": "#E5ECF6",
          "polar": {
           "angularaxis": {
            "gridcolor": "white",
            "linecolor": "white",
            "ticks": ""
           },
           "bgcolor": "#E5ECF6",
           "radialaxis": {
            "gridcolor": "white",
            "linecolor": "white",
            "ticks": ""
           }
          },
          "scene": {
           "xaxis": {
            "backgroundcolor": "#E5ECF6",
            "gridcolor": "white",
            "gridwidth": 2,
            "linecolor": "white",
            "showbackground": true,
            "ticks": "",
            "zerolinecolor": "white"
           },
           "yaxis": {
            "backgroundcolor": "#E5ECF6",
            "gridcolor": "white",
            "gridwidth": 2,
            "linecolor": "white",
            "showbackground": true,
            "ticks": "",
            "zerolinecolor": "white"
           },
           "zaxis": {
            "backgroundcolor": "#E5ECF6",
            "gridcolor": "white",
            "gridwidth": 2,
            "linecolor": "white",
            "showbackground": true,
            "ticks": "",
            "zerolinecolor": "white"
           }
          },
          "shapedefaults": {
           "line": {
            "color": "#2a3f5f"
           }
          },
          "ternary": {
           "aaxis": {
            "gridcolor": "white",
            "linecolor": "white",
            "ticks": ""
           },
           "baxis": {
            "gridcolor": "white",
            "linecolor": "white",
            "ticks": ""
           },
           "bgcolor": "#E5ECF6",
           "caxis": {
            "gridcolor": "white",
            "linecolor": "white",
            "ticks": ""
           }
          },
          "title": {
           "x": 0.05
          },
          "xaxis": {
           "automargin": true,
           "gridcolor": "white",
           "linecolor": "white",
           "ticks": "",
           "title": {
            "standoff": 15
           },
           "zerolinecolor": "white",
           "zerolinewidth": 2
          },
          "yaxis": {
           "automargin": true,
           "gridcolor": "white",
           "linecolor": "white",
           "ticks": "",
           "title": {
            "standoff": 15
           },
           "zerolinecolor": "white",
           "zerolinewidth": 2
          }
         }
        },
        "title": {
         "text": "Actual vs Predicted Labels with Proper Legends and Hovertemplate"
        },
        "width": 1000,
        "xaxis": {
         "anchor": "y",
         "domain": [
          0,
          0.45
         ],
         "title": {
          "text": "CPU Allocation Efficiency"
         }
        },
        "xaxis2": {
         "anchor": "y2",
         "domain": [
          0.55,
          1
         ],
         "title": {
          "text": "CPU Allocation Efficiency"
         }
        },
        "yaxis": {
         "anchor": "x",
         "domain": [
          0,
          1
         ],
         "title": {
          "text": "Memory Allocation Efficiency"
         }
        },
        "yaxis2": {
         "anchor": "x2",
         "domain": [
          0,
          1
         ],
         "title": {
          "text": "Memory Allocation Efficiency"
         }
        }
       }
      }
     },
     "metadata": {},
     "output_type": "display_data"
    }
   ],
   "source": [
    "from plotly.subplots import make_subplots\n",
    "import plotly.graph_objects as go\n",
    "\n",
    "# Add predictions to the dataset\n",
    "df_simple[\"predicted_event\"] = model.predict(X)\n",
    "\n",
    "# Function to add scatter traces for a category (e.g., Normal, Warning)\n",
    "def add_scatter_trace(fig, data, category, axis_col, label_type, color):\n",
    "    filtered_data = (\n",
    "        data[data[\"event_type\"] == category]\n",
    "        if label_type == \"Actual\"\n",
    "        else data[data[\"predicted_event\"] == category]\n",
    "    )\n",
    "    fig.add_trace(\n",
    "        go.Scatter(\n",
    "            x=filtered_data[\"cpu_allocation_efficiency\"],\n",
    "            y=filtered_data[\"memory_allocation_efficiency\"],\n",
    "            mode=\"markers\",\n",
    "            marker=dict(color=color),\n",
    "            name=f\"{category} ({label_type})\",\n",
    "            hovertemplate=(\n",
    "                \"CPU Efficiency: %{x}<br>\"\n",
    "                \"Memory Efficiency: %{y}<br>\"\n",
    "                f\"{label_type}: {category}\"\n",
    "            ),\n",
    "        ),\n",
    "        row=1,\n",
    "        col=axis_col,\n",
    "    )\n",
    "\n",
    "\n",
    "# Create the subplot figure\n",
    "fig = make_subplots(\n",
    "    rows=1,\n",
    "    cols=2,\n",
    "    subplot_titles=(\"Actual Labels\", \"Predicted Labels\"),\n",
    "    horizontal_spacing=0.1,\n",
    ")\n",
    "\n",
    "# Add traces for Actual Labels\n",
    "add_scatter_trace(\n",
    "    fig, df_simple, \"Normal\", axis_col=1, label_type=\"Actual\", color=\"blue\"\n",
    ")\n",
    "add_scatter_trace(\n",
    "    fig, df_simple, \"Warning\", axis_col=1, label_type=\"Actual\", color=\"red\"\n",
    ")\n",
    "\n",
    "# Add traces for Predicted Labels\n",
    "add_scatter_trace(\n",
    "    fig, df_simple, \"Normal\", axis_col=2, label_type=\"Predicted\", color=\"blue\"\n",
    ")\n",
    "add_scatter_trace(\n",
    "    fig, df_simple, \"Warning\", axis_col=2, label_type=\"Predicted\", color=\"red\"\n",
    ")\n",
    "\n",
    "# Update X and Y axes for both plots\n",
    "fig.update_xaxes(title_text=\"CPU Allocation Efficiency\", row=1, col=1)\n",
    "fig.update_yaxes(title_text=\"Memory Allocation Efficiency\", row=1, col=1)\n",
    "fig.update_xaxes(title_text=\"CPU Allocation Efficiency\", row=1, col=2)\n",
    "fig.update_yaxes(title_text=\"Memory Allocation Efficiency\", row=1, col=2)\n",
    "\n",
    "# Update layout\n",
    "fig.update_layout(\n",
    "    height=500,\n",
    "    width=1000,\n",
    "    title_text=\"Actual vs Predicted Labels with Proper Legends and Hovertemplate\",\n",
    ")\n",
    "\n",
    "fig.show()"
   ]
  },
  {
   "cell_type": "markdown",
   "metadata": {},
   "source": [
    "### Confusion Matrix\n",
    "A **confusion matrix** provides a summary of prediction results, showing:\n",
    "- **True Positives (TP)**: Correctly predicted `Normal` incidents.\n",
    "- **True Negatives (TN)**: Correctly predicted `Warning` incidents.\n",
    "- **False Positives (FP)**: Predicted `Normal` when it was actually `Warning`.\n",
    "- **False Negatives (FN)**: Predicted `Warning` when it was actually `Normal`."
   ]
  },
  {
   "cell_type": "code",
   "execution_count": 8,
   "metadata": {},
   "outputs": [
    {
     "data": {
      "image/png": "[encoded data removed]",
      "text/plain": [
       "<Figure size 640x480 with 2 Axes>"
      ]
     },
     "metadata": {},
     "output_type": "display_data"
    }
   ],
   "source": [
    "from sklearn.metrics import ConfusionMatrixDisplay\n",
    "import matplotlib.pyplot as plt\n",
    "\n",
    "# Display confusion matrix\n",
    "ConfusionMatrixDisplay.from_estimator(\n",
    "    model, X_test, y_test, display_labels=[\"Normal\", \"Warning\"], cmap=\"Blues\"\n",
    ")\n",
    "plt.title(\"Confusion Matrix\")\n",
    "plt.show()"
   ]
  },
  {
   "cell_type": "markdown",
   "metadata": {},
   "source": [
    "## 7. Conclusion\n",
    "\n",
    "In this notebook, we:\n",
    "1. Explored a simple dataset of Kubernetes metrics.\n",
    "2. Built and evaluated a **Decision Tree Classifier** to predict incidents (`Normal` or `Warning`).\n",
    "3. Visualized the model’s performance using scatter plots and a confusion matrix.\n",
    "\n",
    "### Key Takeaways\n",
    "- **Supervised Learning**: Decision Trees are interpretable and suitable for binary classification tasks like incident prediction.\n",
    "- **Model Limitations**: While effective on small datasets, Decision Trees may overfit. Advanced methods like Random Forests or Gradient Boosting can improve performance.\n",
    "- **Visualization**: Scatter plots and confusion matrices help diagnose model performance and identify misclassifications.\n",
    "\n",
    "### Next Steps\n",
    "In the next notebook, we will:\n",
    "- Use a more complex, real-world Kubernetes dataset.\n",
    "- Explore advanced models like **Random Forests** and **Gradient Boosting**.\n",
    "- Analyze feature importance to understand what metrics most influence incident predictions."
   ]
  }
 ],
 "metadata": {
  "kernelspec": {
   "display_name": ".venv",
   "language": "python",
   "name": "python3"
  },
  "language_info": {
   "codemirror_mode": {
    "name": "ipython",
    "version": 3
   },
   "file_extension": ".py",
   "mimetype": "text/x-python",
   "name": "python",
   "nbconvert_exporter": "python",
   "pygments_lexer": "ipython3",
   "version": "3.12.4"
  }
 },
 "nbformat": 4,
 "nbformat_minor": 2
}
