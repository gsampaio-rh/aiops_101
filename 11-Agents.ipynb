{
 "cells": [
  {
   "cell_type": "code",
   "execution_count": 31,
   "metadata": {},
   "outputs": [
    {
     "name": "stdout",
     "output_type": "stream",
     "text": [
      "Note: you may need to restart the kernel to use updated packages.\n"
     ]
    }
   ],
   "source": [
    "%pip install langchain python-ollama requests matplotlib flask --quiet"
   ]
  },
  {
   "cell_type": "code",
   "execution_count": 32,
   "metadata": {},
   "outputs": [],
   "source": [
    "import random\n",
    "\n",
    "\n",
    "def get_mock_financial_data():\n",
    "    \"\"\"Simulates a financial API response.\"\"\"\n",
    "    return {\n",
    "        \"index\": \"NASDAQ\",\n",
    "        \"volume\": random.randint(500000, 2000000),\n",
    "        \"avg_volume\": 1000000,\n",
    "        \"price_change\": round(random.uniform(-3, 3), 2),\n",
    "    }\n",
    "\n",
    "\n",
    "def get_mock_kubernetes_metrics():\n",
    "    \"\"\"Simulates a Kubernetes metrics API response.\"\"\"\n",
    "    return {\n",
    "        \"service\": \"trading-platform\",\n",
    "        \"cpu_usage\": random.randint(50, 90),\n",
    "        \"memory_usage\": random.randint(50, 90),\n",
    "    }"
   ]
  },
  {
   "cell_type": "code",
   "execution_count": 33,
   "metadata": {},
   "outputs": [],
   "source": [
    "from langchain.tools import tool\n",
    "\n",
    "\n",
    "@tool\n",
    "def get_financial_data():\n",
    "    \"\"\"Fetches mock financial trading data.\"\"\"\n",
    "    return get_mock_financial_data()\n",
    "\n",
    "\n",
    "@tool\n",
    "def get_kubernetes_metrics():\n",
    "    \"\"\"Fetches mock Kubernetes metrics.\"\"\"\n",
    "    return get_mock_kubernetes_metrics()\n",
    "\n",
    "\n",
    "@tool\n",
    "def scale_service(action: str):\n",
    "    \"\"\"Simulates scaling a Kubernetes service.\"\"\"\n",
    "    return f\"Scaling action: {action} executed successfully.\""
   ]
  },
  {
   "cell_type": "code",
   "execution_count": 34,
   "metadata": {},
   "outputs": [],
   "source": [
    "from langchain.agents.initialize import initialize_agent\n",
    "from langchain.agents import Tool, AgentType\n",
    "from langchain.llms import Ollama\n",
    "\n",
    "# Initialize Ollama LLM\n",
    "llm = Ollama(model=\"deepseek-r1\")\n",
    "\n",
    "# Define tools\n",
    "tools = [\n",
    "    Tool(\n",
    "        name=\"Get Financial Data\",\n",
    "        func=get_financial_data,\n",
    "        description=\"Fetches financial trading data.\",\n",
    "    ),\n",
    "    Tool(\n",
    "        name=\"Get Kubernetes Metrics\",\n",
    "        func=get_kubernetes_metrics,\n",
    "        description=\"Fetches system metrics.\",\n",
    "    ),\n",
    "    Tool(\n",
    "        name=\"Scale Service\",\n",
    "        func=scale_service,\n",
    "        description=\"Scales Kubernetes services to handle load.\",\n",
    "    ),\n",
    "]\n",
    "\n",
    "# Define ReAct agent\n",
    "agent = initialize_agent(\n",
    "    tools=tools,\n",
    "    llm=llm,\n",
    "    agent=AgentType.ZERO_SHOT_REACT_DESCRIPTION,\n",
    "    verbose=True,\n",
    "    handle_parsing_errors=True,\n",
    ")"
   ]
  },
  {
   "cell_type": "code",
   "execution_count": 35,
   "metadata": {},
   "outputs": [],
   "source": [
    "prompt = \"\"\"\n",
    "You are an AI agent monitoring the stock market and Kubernetes clusters.\n",
    "Your task is to:\n",
    "1. Fetch financial data to check for surges in stock trading activity.\n",
    "2. Fetch Kubernetes metrics to assess the system's current state.\n",
    "3. If a surge is detected (volume > 1.5x avg_volume or price_change > 2%), take a scaling action to prepare the system for increased load.\n",
    "4. Log your reasoning and actions.\n",
    "\n",
    "Start by reasoning through the problem step-by-step. Use tools to gather data and act as needed.\n",
    "\n",
    "Question: Should we scale the Kubernetes system based on current conditions?\n",
    "\"\"\""
   ]
  },
  {
   "cell_type": "code",
   "execution_count": 36,
   "metadata": {},
   "outputs": [
    {
     "name": "stdout",
     "output_type": "stream",
     "text": [
      "\n",
      "\n",
      "\u001b[1m> Entering new AgentExecutor chain...\u001b[0m\n"
     ]
    }
   ],
   "source": [
    "response = agent.run(prompt)\n",
    "print(response)"
   ]
  },
  {
   "cell_type": "code",
   "execution_count": null,
   "metadata": {},
   "outputs": [
    {
     "data": {
      "image/png": "[encoded data removed]",
      "text/plain": [
       "<Figure size 1200x600 with 2 Axes>"
      ]
     },
     "metadata": {},
     "output_type": "display_data"
    }
   ],
   "source": [
    "import matplotlib.pyplot as plt\n",
    "\n",
    "# Get mock data\n",
    "financial_data = get_mock_financial_data()\n",
    "metrics_data = get_mock_kubernetes_metrics()\n",
    "\n",
    "# Plot data\n",
    "plt.figure(figsize=(12, 6))\n",
    "\n",
    "# Financial Data\n",
    "plt.subplot(1, 2, 1)\n",
    "plt.bar(\n",
    "    [\"Volume\", \"Avg Volume\"],\n",
    "    [financial_data[\"volume\"], financial_data[\"avg_volume\"]],\n",
    "    color=[\"blue\", \"orange\"],\n",
    ")\n",
    "plt.title(\"Stock Market Volume\")\n",
    "plt.ylabel(\"Trades\")\n",
    "\n",
    "# IT Metrics\n",
    "plt.subplot(1, 2, 2)\n",
    "plt.bar(\n",
    "    [\"CPU Usage\", \"Memory Usage\"],\n",
    "    [metrics_data[\"cpu_usage\"], metrics_data[\"memory_usage\"]],\n",
    "    color=[\"green\", \"red\"],\n",
    ")\n",
    "plt.title(\"Kubernetes Metrics\")\n",
    "plt.ylabel(\"Usage (%)\")\n",
    "\n",
    "plt.tight_layout()\n",
    "plt.show()"
   ]
  },
  {
   "cell_type": "code",
   "execution_count": null,
   "metadata": {},
   "outputs": [],
   "source": [
    "import json\n",
    "\n",
    "log = {\n",
    "    \"financial_data\": financial_data,\n",
    "    \"metrics_data\": metrics_data,\n",
    "    \"action\": response,\n",
    "}\n",
    "\n",
    "with open(\"agent_log.json\", \"w\") as file:\n",
    "    json.dump(log, file, indent=4)"
   ]
  },
  {
   "cell_type": "code",
   "execution_count": null,
   "metadata": {},
   "outputs": [],
   "source": []
  },
  {
   "cell_type": "code",
   "execution_count": null,
   "metadata": {},
   "outputs": [],
   "source": []
  }
 ],
 "metadata": {
  "kernelspec": {
   "display_name": ".venv",
   "language": "python",
   "name": "python3"
  },
  "language_info": {
   "codemirror_mode": {
    "name": "ipython",
    "version": 3
   },
   "file_extension": ".py",
   "mimetype": "text/x-python",
   "name": "python",
   "nbconvert_exporter": "python",
   "pygments_lexer": "ipython3",
   "version": "3.12.4"
  }
 },
 "nbformat": 4,
 "nbformat_minor": 2
}
